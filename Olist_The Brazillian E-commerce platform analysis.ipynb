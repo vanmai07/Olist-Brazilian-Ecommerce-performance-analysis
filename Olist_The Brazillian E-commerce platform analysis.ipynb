{
  "nbformat": 4,
  "nbformat_minor": 0,
  "metadata": {
    "colab": {
      "provenance": [],
      "collapsed_sections": [],
      "toc_visible": true,
      "authorship_tag": "ABX9TyO8D3X6CjHsFqC3CWaG5/lm",
      "include_colab_link": true
    },
    "kernelspec": {
      "display_name": "Python 3",
      "name": "python3"
    },
    "language_info": {
      "name": "python"
    }
  },
  "cells": [
    {
      "cell_type": "markdown",
      "metadata": {
        "id": "view-in-github",
        "colab_type": "text"
      },
      "source": [
        "<a href=\"https://colab.research.google.com/github/vanmai07/data-analysis-basic/blob/main/Olist_The%20Brazillian%20E-commerce%20platform%20analysis.ipynb\" target=\"_parent\"><img src=\"https://colab.research.google.com/assets/colab-badge.svg\" alt=\"Open In Colab\"/></a>"
      ]
    },
    {
      "cell_type": "code",
      "metadata": {
        "id": "iowH67SDqm-E"
      },
      "source": [
        "import pandas as pd\n",
        "import matplotlib.pyplot as plt\n",
        "import seaborn as sns\n",
        "import numpy as np"
      ],
      "execution_count": null,
      "outputs": []
    },
    {
      "cell_type": "code",
      "metadata": {
        "id": "gAAUub_6Mix0"
      },
      "source": [
        "order = pd.read_csv('https://raw.githubusercontent.com/anhquan0412/dataset/main/Brazillian_Ecommerce/olist_orders_dataset.csv')\n",
        "order_items = pd.read_csv('https://raw.githubusercontent.com/anhquan0412/dataset/main/Brazillian_Ecommerce/olist_order_items_dataset.csv')\n",
        "order_payments = pd.read_csv('https://raw.githubusercontent.com/anhquan0412/dataset/main/Brazillian_Ecommerce/olist_order_payments_dataset.csv')\n",
        "order_reviews = pd.read_csv('https://raw.githubusercontent.com/anhquan0412/dataset/main/Brazillian_Ecommerce/olist_order_reviews_dataset.csv')"
      ],
      "execution_count": null,
      "outputs": []
    },
    {
      "cell_type": "code",
      "metadata": {
        "colab": {
          "base_uri": "https://localhost:8080/",
          "height": 309
        },
        "id": "dS-ZZHnwM8N-",
        "outputId": "6be6b2a1-5f66-4076-8b3a-32be0c1d47de"
      },
      "source": [
        "order.head()"
      ],
      "execution_count": null,
      "outputs": [
        {
          "output_type": "execute_result",
          "data": {
            "text/html": [
              "<div>\n",
              "<style scoped>\n",
              "    .dataframe tbody tr th:only-of-type {\n",
              "        vertical-align: middle;\n",
              "    }\n",
              "\n",
              "    .dataframe tbody tr th {\n",
              "        vertical-align: top;\n",
              "    }\n",
              "\n",
              "    .dataframe thead th {\n",
              "        text-align: right;\n",
              "    }\n",
              "</style>\n",
              "<table border=\"1\" class=\"dataframe\">\n",
              "  <thead>\n",
              "    <tr style=\"text-align: right;\">\n",
              "      <th></th>\n",
              "      <th>order_id</th>\n",
              "      <th>customer_id</th>\n",
              "      <th>order_status</th>\n",
              "      <th>order_purchase_timestamp</th>\n",
              "      <th>order_approved_at</th>\n",
              "      <th>order_delivered_carrier_date</th>\n",
              "      <th>order_delivered_customer_date</th>\n",
              "      <th>order_estimated_delivery_date</th>\n",
              "    </tr>\n",
              "  </thead>\n",
              "  <tbody>\n",
              "    <tr>\n",
              "      <th>0</th>\n",
              "      <td>e481f51cbdc54678b7cc49136f2d6af7</td>\n",
              "      <td>9ef432eb6251297304e76186b10a928d</td>\n",
              "      <td>delivered</td>\n",
              "      <td>2017-10-02 10:56:33</td>\n",
              "      <td>2017-10-02 11:07:15</td>\n",
              "      <td>2017-10-04 19:55:00</td>\n",
              "      <td>2017-10-10 21:25:13</td>\n",
              "      <td>2017-10-18 00:00:00</td>\n",
              "    </tr>\n",
              "    <tr>\n",
              "      <th>1</th>\n",
              "      <td>53cdb2fc8bc7dce0b6741e2150273451</td>\n",
              "      <td>b0830fb4747a6c6d20dea0b8c802d7ef</td>\n",
              "      <td>delivered</td>\n",
              "      <td>2018-07-24 20:41:37</td>\n",
              "      <td>2018-07-26 03:24:27</td>\n",
              "      <td>2018-07-26 14:31:00</td>\n",
              "      <td>2018-08-07 15:27:45</td>\n",
              "      <td>2018-08-13 00:00:00</td>\n",
              "    </tr>\n",
              "    <tr>\n",
              "      <th>2</th>\n",
              "      <td>47770eb9100c2d0c44946d9cf07ec65d</td>\n",
              "      <td>41ce2a54c0b03bf3443c3d931a367089</td>\n",
              "      <td>delivered</td>\n",
              "      <td>2018-08-08 08:38:49</td>\n",
              "      <td>2018-08-08 08:55:23</td>\n",
              "      <td>2018-08-08 13:50:00</td>\n",
              "      <td>2018-08-17 18:06:29</td>\n",
              "      <td>2018-09-04 00:00:00</td>\n",
              "    </tr>\n",
              "    <tr>\n",
              "      <th>3</th>\n",
              "      <td>949d5b44dbf5de918fe9c16f97b45f8a</td>\n",
              "      <td>f88197465ea7920adcdbec7375364d82</td>\n",
              "      <td>delivered</td>\n",
              "      <td>2017-11-18 19:28:06</td>\n",
              "      <td>2017-11-18 19:45:59</td>\n",
              "      <td>2017-11-22 13:39:59</td>\n",
              "      <td>2017-12-02 00:28:42</td>\n",
              "      <td>2017-12-15 00:00:00</td>\n",
              "    </tr>\n",
              "    <tr>\n",
              "      <th>4</th>\n",
              "      <td>ad21c59c0840e6cb83a9ceb5573f8159</td>\n",
              "      <td>8ab97904e6daea8866dbdbc4fb7aad2c</td>\n",
              "      <td>delivered</td>\n",
              "      <td>2018-02-13 21:18:39</td>\n",
              "      <td>2018-02-13 22:20:29</td>\n",
              "      <td>2018-02-14 19:46:34</td>\n",
              "      <td>2018-02-16 18:17:02</td>\n",
              "      <td>2018-02-26 00:00:00</td>\n",
              "    </tr>\n",
              "  </tbody>\n",
              "</table>\n",
              "</div>"
            ],
            "text/plain": [
              "                           order_id  ... order_estimated_delivery_date\n",
              "0  e481f51cbdc54678b7cc49136f2d6af7  ...           2017-10-18 00:00:00\n",
              "1  53cdb2fc8bc7dce0b6741e2150273451  ...           2018-08-13 00:00:00\n",
              "2  47770eb9100c2d0c44946d9cf07ec65d  ...           2018-09-04 00:00:00\n",
              "3  949d5b44dbf5de918fe9c16f97b45f8a  ...           2017-12-15 00:00:00\n",
              "4  ad21c59c0840e6cb83a9ceb5573f8159  ...           2018-02-26 00:00:00\n",
              "\n",
              "[5 rows x 8 columns]"
            ]
          },
          "metadata": {
            "tags": []
          },
          "execution_count": 3
        }
      ]
    },
    {
      "cell_type": "code",
      "metadata": {
        "colab": {
          "base_uri": "https://localhost:8080/",
          "height": 204
        },
        "id": "WveioGOFNS7W",
        "outputId": "f9da75ea-f755-4756-9f0b-5d7a79786e90"
      },
      "source": [
        "order_items.head()"
      ],
      "execution_count": null,
      "outputs": [
        {
          "output_type": "execute_result",
          "data": {
            "text/html": [
              "<div>\n",
              "<style scoped>\n",
              "    .dataframe tbody tr th:only-of-type {\n",
              "        vertical-align: middle;\n",
              "    }\n",
              "\n",
              "    .dataframe tbody tr th {\n",
              "        vertical-align: top;\n",
              "    }\n",
              "\n",
              "    .dataframe thead th {\n",
              "        text-align: right;\n",
              "    }\n",
              "</style>\n",
              "<table border=\"1\" class=\"dataframe\">\n",
              "  <thead>\n",
              "    <tr style=\"text-align: right;\">\n",
              "      <th></th>\n",
              "      <th>order_id</th>\n",
              "      <th>order_item_id</th>\n",
              "      <th>product_id</th>\n",
              "      <th>seller_id</th>\n",
              "      <th>shipping_limit_date</th>\n",
              "      <th>price</th>\n",
              "      <th>freight_value</th>\n",
              "    </tr>\n",
              "  </thead>\n",
              "  <tbody>\n",
              "    <tr>\n",
              "      <th>0</th>\n",
              "      <td>00010242fe8c5a6d1ba2dd792cb16214</td>\n",
              "      <td>1</td>\n",
              "      <td>4244733e06e7ecb4970a6e2683c13e61</td>\n",
              "      <td>48436dade18ac8b2bce089ec2a041202</td>\n",
              "      <td>2017-09-19 09:45:35</td>\n",
              "      <td>58.90</td>\n",
              "      <td>13.29</td>\n",
              "    </tr>\n",
              "    <tr>\n",
              "      <th>1</th>\n",
              "      <td>00018f77f2f0320c557190d7a144bdd3</td>\n",
              "      <td>1</td>\n",
              "      <td>e5f2d52b802189ee658865ca93d83a8f</td>\n",
              "      <td>dd7ddc04e1b6c2c614352b383efe2d36</td>\n",
              "      <td>2017-05-03 11:05:13</td>\n",
              "      <td>239.90</td>\n",
              "      <td>19.93</td>\n",
              "    </tr>\n",
              "    <tr>\n",
              "      <th>2</th>\n",
              "      <td>000229ec398224ef6ca0657da4fc703e</td>\n",
              "      <td>1</td>\n",
              "      <td>c777355d18b72b67abbeef9df44fd0fd</td>\n",
              "      <td>5b51032eddd242adc84c38acab88f23d</td>\n",
              "      <td>2018-01-18 14:48:30</td>\n",
              "      <td>199.00</td>\n",
              "      <td>17.87</td>\n",
              "    </tr>\n",
              "    <tr>\n",
              "      <th>3</th>\n",
              "      <td>00024acbcdf0a6daa1e931b038114c75</td>\n",
              "      <td>1</td>\n",
              "      <td>7634da152a4610f1595efa32f14722fc</td>\n",
              "      <td>9d7a1d34a5052409006425275ba1c2b4</td>\n",
              "      <td>2018-08-15 10:10:18</td>\n",
              "      <td>12.99</td>\n",
              "      <td>12.79</td>\n",
              "    </tr>\n",
              "    <tr>\n",
              "      <th>4</th>\n",
              "      <td>00042b26cf59d7ce69dfabb4e55b4fd9</td>\n",
              "      <td>1</td>\n",
              "      <td>ac6c3623068f30de03045865e4e10089</td>\n",
              "      <td>df560393f3a51e74553ab94004ba5c87</td>\n",
              "      <td>2017-02-13 13:57:51</td>\n",
              "      <td>199.90</td>\n",
              "      <td>18.14</td>\n",
              "    </tr>\n",
              "  </tbody>\n",
              "</table>\n",
              "</div>"
            ],
            "text/plain": [
              "                           order_id  order_item_id  ...   price freight_value\n",
              "0  00010242fe8c5a6d1ba2dd792cb16214              1  ...   58.90         13.29\n",
              "1  00018f77f2f0320c557190d7a144bdd3              1  ...  239.90         19.93\n",
              "2  000229ec398224ef6ca0657da4fc703e              1  ...  199.00         17.87\n",
              "3  00024acbcdf0a6daa1e931b038114c75              1  ...   12.99         12.79\n",
              "4  00042b26cf59d7ce69dfabb4e55b4fd9              1  ...  199.90         18.14\n",
              "\n",
              "[5 rows x 7 columns]"
            ]
          },
          "metadata": {
            "tags": []
          },
          "execution_count": 4
        }
      ]
    },
    {
      "cell_type": "code",
      "metadata": {
        "id": "IBZaBRJaaxQn"
      },
      "source": [
        "#ORDER - DELIVERY PROCESS Analysis\n",
        "#Aiming for optimization\n",
        "#Question to be answered\n",
        "#1 - mối tương quan giữa order process (timing) và revenue (dự đoán là do shipping time)\n",
        "#2 - tìm ra vấn đề & đề xuất giải pháp\n",
        "#cần define nếu actual delivery date under expected date or limit date thì mới là vde nhóe hahahahhaha"
      ],
      "execution_count": null,
      "outputs": []
    },
    {
      "cell_type": "code",
      "metadata": {
        "colab": {
          "base_uri": "https://localhost:8080/",
          "height": 309
        },
        "id": "AmXloJYaarXQ",
        "outputId": "3f149d99-025c-4d61-8059-3b56947142a8"
      },
      "source": [
        "#Create dataframe from 10/2016 to 08/2018\n",
        "order_process = pd.merge(left=order, \n",
        "                          right=order_items, \n",
        "                          on='order_id',\n",
        "                          how='inner')\n",
        "order_process = order_process[order_process['order_purchase_timestamp'] > '2016-10']\n",
        "order_process = order_process[order_process['order_purchase_timestamp'] < '2018-08']\n",
        "order_process = order_process.rename(columns={\"order_status\": \"status\", \"order_item_id\": \"qty\", \"order_purchase_timestamp\": \"purchase_timestamp\", \"order_approved_at\": \"approved_at\", \"order_delivered_carrier_date\": \"delivered_carrier_date\",\"order_delivered_customer_date\": \"delivered_customer_date\", \"order_estimated_delivery_date\": \"estimated_delivery_date\"})\n",
        "order_process.head()"
      ],
      "execution_count": null,
      "outputs": [
        {
          "output_type": "execute_result",
          "data": {
            "text/html": [
              "<div>\n",
              "<style scoped>\n",
              "    .dataframe tbody tr th:only-of-type {\n",
              "        vertical-align: middle;\n",
              "    }\n",
              "\n",
              "    .dataframe tbody tr th {\n",
              "        vertical-align: top;\n",
              "    }\n",
              "\n",
              "    .dataframe thead th {\n",
              "        text-align: right;\n",
              "    }\n",
              "</style>\n",
              "<table border=\"1\" class=\"dataframe\">\n",
              "  <thead>\n",
              "    <tr style=\"text-align: right;\">\n",
              "      <th></th>\n",
              "      <th>order_id</th>\n",
              "      <th>customer_id</th>\n",
              "      <th>status</th>\n",
              "      <th>purchase_timestamp</th>\n",
              "      <th>approved_at</th>\n",
              "      <th>delivered_carrier_date</th>\n",
              "      <th>delivered_customer_date</th>\n",
              "      <th>estimated_delivery_date</th>\n",
              "      <th>qty</th>\n",
              "      <th>product_id</th>\n",
              "      <th>seller_id</th>\n",
              "      <th>shipping_limit_date</th>\n",
              "      <th>price</th>\n",
              "      <th>freight_value</th>\n",
              "    </tr>\n",
              "  </thead>\n",
              "  <tbody>\n",
              "    <tr>\n",
              "      <th>0</th>\n",
              "      <td>e481f51cbdc54678b7cc49136f2d6af7</td>\n",
              "      <td>9ef432eb6251297304e76186b10a928d</td>\n",
              "      <td>delivered</td>\n",
              "      <td>2017-10-02 10:56:33</td>\n",
              "      <td>2017-10-02 11:07:15</td>\n",
              "      <td>2017-10-04 19:55:00</td>\n",
              "      <td>2017-10-10 21:25:13</td>\n",
              "      <td>2017-10-18 00:00:00</td>\n",
              "      <td>1</td>\n",
              "      <td>87285b34884572647811a353c7ac498a</td>\n",
              "      <td>3504c0cb71d7fa48d967e0e4c94d59d9</td>\n",
              "      <td>2017-10-06 11:07:15</td>\n",
              "      <td>29.99</td>\n",
              "      <td>8.72</td>\n",
              "    </tr>\n",
              "    <tr>\n",
              "      <th>1</th>\n",
              "      <td>53cdb2fc8bc7dce0b6741e2150273451</td>\n",
              "      <td>b0830fb4747a6c6d20dea0b8c802d7ef</td>\n",
              "      <td>delivered</td>\n",
              "      <td>2018-07-24 20:41:37</td>\n",
              "      <td>2018-07-26 03:24:27</td>\n",
              "      <td>2018-07-26 14:31:00</td>\n",
              "      <td>2018-08-07 15:27:45</td>\n",
              "      <td>2018-08-13 00:00:00</td>\n",
              "      <td>1</td>\n",
              "      <td>595fac2a385ac33a80bd5114aec74eb8</td>\n",
              "      <td>289cdb325fb7e7f891c38608bf9e0962</td>\n",
              "      <td>2018-07-30 03:24:27</td>\n",
              "      <td>118.70</td>\n",
              "      <td>22.76</td>\n",
              "    </tr>\n",
              "    <tr>\n",
              "      <th>3</th>\n",
              "      <td>949d5b44dbf5de918fe9c16f97b45f8a</td>\n",
              "      <td>f88197465ea7920adcdbec7375364d82</td>\n",
              "      <td>delivered</td>\n",
              "      <td>2017-11-18 19:28:06</td>\n",
              "      <td>2017-11-18 19:45:59</td>\n",
              "      <td>2017-11-22 13:39:59</td>\n",
              "      <td>2017-12-02 00:28:42</td>\n",
              "      <td>2017-12-15 00:00:00</td>\n",
              "      <td>1</td>\n",
              "      <td>d0b61bfb1de832b15ba9d266ca96e5b0</td>\n",
              "      <td>66922902710d126a0e7d26b0e3805106</td>\n",
              "      <td>2017-11-23 19:45:59</td>\n",
              "      <td>45.00</td>\n",
              "      <td>27.20</td>\n",
              "    </tr>\n",
              "    <tr>\n",
              "      <th>4</th>\n",
              "      <td>ad21c59c0840e6cb83a9ceb5573f8159</td>\n",
              "      <td>8ab97904e6daea8866dbdbc4fb7aad2c</td>\n",
              "      <td>delivered</td>\n",
              "      <td>2018-02-13 21:18:39</td>\n",
              "      <td>2018-02-13 22:20:29</td>\n",
              "      <td>2018-02-14 19:46:34</td>\n",
              "      <td>2018-02-16 18:17:02</td>\n",
              "      <td>2018-02-26 00:00:00</td>\n",
              "      <td>1</td>\n",
              "      <td>65266b2da20d04dbe00c5c2d3bb7859e</td>\n",
              "      <td>2c9e548be18521d1c43cde1c582c6de8</td>\n",
              "      <td>2018-02-19 20:31:37</td>\n",
              "      <td>19.90</td>\n",
              "      <td>8.72</td>\n",
              "    </tr>\n",
              "    <tr>\n",
              "      <th>5</th>\n",
              "      <td>a4591c265e18cb1dcee52889e2d8acc3</td>\n",
              "      <td>503740e9ca751ccdda7ba28e9ab8f608</td>\n",
              "      <td>delivered</td>\n",
              "      <td>2017-07-09 21:57:05</td>\n",
              "      <td>2017-07-09 22:10:13</td>\n",
              "      <td>2017-07-11 14:58:04</td>\n",
              "      <td>2017-07-26 10:57:55</td>\n",
              "      <td>2017-08-01 00:00:00</td>\n",
              "      <td>1</td>\n",
              "      <td>060cb19345d90064d1015407193c233d</td>\n",
              "      <td>8581055ce74af1daba164fdbd55a40de</td>\n",
              "      <td>2017-07-13 22:10:13</td>\n",
              "      <td>147.90</td>\n",
              "      <td>27.36</td>\n",
              "    </tr>\n",
              "  </tbody>\n",
              "</table>\n",
              "</div>"
            ],
            "text/plain": [
              "                           order_id  ... freight_value\n",
              "0  e481f51cbdc54678b7cc49136f2d6af7  ...          8.72\n",
              "1  53cdb2fc8bc7dce0b6741e2150273451  ...         22.76\n",
              "3  949d5b44dbf5de918fe9c16f97b45f8a  ...         27.20\n",
              "4  ad21c59c0840e6cb83a9ceb5573f8159  ...          8.72\n",
              "5  a4591c265e18cb1dcee52889e2d8acc3  ...         27.36\n",
              "\n",
              "[5 rows x 14 columns]"
            ]
          },
          "metadata": {
            "tags": []
          },
          "execution_count": 5
        }
      ]
    },
    {
      "cell_type": "code",
      "metadata": {
        "id": "h-xphU6eppQd"
      },
      "source": [
        "order_process.info()"
      ],
      "execution_count": null,
      "outputs": []
    },
    {
      "cell_type": "code",
      "metadata": {
        "id": "RAoNcmc3qY6H",
        "colab": {
          "base_uri": "https://localhost:8080/"
        },
        "outputId": "693abbf9-a6d2-4346-cad9-d6cc44516aac"
      },
      "source": [
        "#date type reset\n",
        "#note estimated date using as expected delivery date to end consumer\n",
        "#note shipping limit date using as cut-off time for supplier and shipper\n",
        "order_process['purchase_timestamp'] = pd.to_datetime(order_process['purchase_timestamp'])\n",
        "order_process['approved_at'] = pd.to_datetime(order_process['approved_at'])\n",
        "order_process['delivered_carrier_date'] = pd.to_datetime(order_process['delivered_carrier_date'])\n",
        "order_process['delivered_customer_date'] = pd.to_datetime(order_process['delivered_customer_date'])\n",
        "order_process['estimated_delivery_date'] = pd.to_datetime(order_process['estimated_delivery_date'])\n",
        "order_process['shipping_limit_date'] = pd.to_datetime(order_process['shipping_limit_date'])\n",
        "order_process.info()"
      ],
      "execution_count": null,
      "outputs": [
        {
          "output_type": "stream",
          "text": [
            "<class 'pandas.core.frame.DataFrame'>\n",
            "Int64Index: 105395 entries, 0 to 112649\n",
            "Data columns (total 14 columns):\n",
            " #   Column                   Non-Null Count   Dtype         \n",
            "---  ------                   --------------   -----         \n",
            " 0   order_id                 105395 non-null  object        \n",
            " 1   customer_id              105395 non-null  object        \n",
            " 2   status                   105395 non-null  object        \n",
            " 3   purchase_timestamp       105395 non-null  datetime64[ns]\n",
            " 4   approved_at              105380 non-null  datetime64[ns]\n",
            " 5   delivered_carrier_date   104259 non-null  datetime64[ns]\n",
            " 6   delivered_customer_date  103051 non-null  datetime64[ns]\n",
            " 7   estimated_delivery_date  105395 non-null  datetime64[ns]\n",
            " 8   qty                      105395 non-null  int64         \n",
            " 9   product_id               105395 non-null  object        \n",
            " 10  seller_id                105395 non-null  object        \n",
            " 11  shipping_limit_date      105395 non-null  datetime64[ns]\n",
            " 12  price                    105395 non-null  float64       \n",
            " 13  freight_value            105395 non-null  float64       \n",
            "dtypes: datetime64[ns](6), float64(2), int64(1), object(5)\n",
            "memory usage: 12.1+ MB\n"
          ],
          "name": "stdout"
        }
      ]
    },
    {
      "cell_type": "code",
      "metadata": {
        "id": "I58zNWBiMKD4",
        "colab": {
          "base_uri": "https://localhost:8080/"
        },
        "outputId": "8b60259c-75de-476c-afed-70238d4b591f"
      },
      "source": [
        "#Year-Month for revenue\n",
        "order_process['purchase_timestamp'].dt.month"
      ],
      "execution_count": null,
      "outputs": [
        {
          "output_type": "execute_result",
          "data": {
            "text/plain": [
              "0         10\n",
              "1          7\n",
              "3         11\n",
              "4          2\n",
              "5          7\n",
              "          ..\n",
              "112645     2\n",
              "112646     8\n",
              "112647     1\n",
              "112648     1\n",
              "112649     3\n",
              "Name: purchase_timestamp, Length: 105395, dtype: int64"
            ]
          },
          "metadata": {
            "tags": []
          },
          "execution_count": 7
        }
      ]
    },
    {
      "cell_type": "code",
      "metadata": {
        "id": "ofqHOuuKDRAc"
      },
      "source": [
        "order_process['purchase_timestamp'] = order_process['purchase_timestamp'].dt.to_period('M')"
      ],
      "execution_count": null,
      "outputs": []
    },
    {
      "cell_type": "code",
      "metadata": {
        "colab": {
          "base_uri": "https://localhost:8080/",
          "height": 309
        },
        "id": "jhLNkQrRHvBO",
        "outputId": "a0fbf53e-d52b-4a43-ffb7-9b1a84584f24"
      },
      "source": [
        "order_process.head()"
      ],
      "execution_count": null,
      "outputs": [
        {
          "output_type": "execute_result",
          "data": {
            "text/html": [
              "<div>\n",
              "<style scoped>\n",
              "    .dataframe tbody tr th:only-of-type {\n",
              "        vertical-align: middle;\n",
              "    }\n",
              "\n",
              "    .dataframe tbody tr th {\n",
              "        vertical-align: top;\n",
              "    }\n",
              "\n",
              "    .dataframe thead th {\n",
              "        text-align: right;\n",
              "    }\n",
              "</style>\n",
              "<table border=\"1\" class=\"dataframe\">\n",
              "  <thead>\n",
              "    <tr style=\"text-align: right;\">\n",
              "      <th></th>\n",
              "      <th>order_id</th>\n",
              "      <th>customer_id</th>\n",
              "      <th>status</th>\n",
              "      <th>purchase_timestamp</th>\n",
              "      <th>approved_at</th>\n",
              "      <th>delivered_carrier_date</th>\n",
              "      <th>delivered_customer_date</th>\n",
              "      <th>estimated_delivery_date</th>\n",
              "      <th>qty</th>\n",
              "      <th>product_id</th>\n",
              "      <th>seller_id</th>\n",
              "      <th>shipping_limit_date</th>\n",
              "      <th>price</th>\n",
              "      <th>freight_value</th>\n",
              "    </tr>\n",
              "  </thead>\n",
              "  <tbody>\n",
              "    <tr>\n",
              "      <th>0</th>\n",
              "      <td>e481f51cbdc54678b7cc49136f2d6af7</td>\n",
              "      <td>9ef432eb6251297304e76186b10a928d</td>\n",
              "      <td>delivered</td>\n",
              "      <td>2017-10</td>\n",
              "      <td>2017-10-02 11:07:15</td>\n",
              "      <td>2017-10-04 19:55:00</td>\n",
              "      <td>2017-10-10 21:25:13</td>\n",
              "      <td>2017-10-18</td>\n",
              "      <td>1</td>\n",
              "      <td>87285b34884572647811a353c7ac498a</td>\n",
              "      <td>3504c0cb71d7fa48d967e0e4c94d59d9</td>\n",
              "      <td>2017-10-06 11:07:15</td>\n",
              "      <td>29.99</td>\n",
              "      <td>8.72</td>\n",
              "    </tr>\n",
              "    <tr>\n",
              "      <th>1</th>\n",
              "      <td>53cdb2fc8bc7dce0b6741e2150273451</td>\n",
              "      <td>b0830fb4747a6c6d20dea0b8c802d7ef</td>\n",
              "      <td>delivered</td>\n",
              "      <td>2018-07</td>\n",
              "      <td>2018-07-26 03:24:27</td>\n",
              "      <td>2018-07-26 14:31:00</td>\n",
              "      <td>2018-08-07 15:27:45</td>\n",
              "      <td>2018-08-13</td>\n",
              "      <td>1</td>\n",
              "      <td>595fac2a385ac33a80bd5114aec74eb8</td>\n",
              "      <td>289cdb325fb7e7f891c38608bf9e0962</td>\n",
              "      <td>2018-07-30 03:24:27</td>\n",
              "      <td>118.70</td>\n",
              "      <td>22.76</td>\n",
              "    </tr>\n",
              "    <tr>\n",
              "      <th>3</th>\n",
              "      <td>949d5b44dbf5de918fe9c16f97b45f8a</td>\n",
              "      <td>f88197465ea7920adcdbec7375364d82</td>\n",
              "      <td>delivered</td>\n",
              "      <td>2017-11</td>\n",
              "      <td>2017-11-18 19:45:59</td>\n",
              "      <td>2017-11-22 13:39:59</td>\n",
              "      <td>2017-12-02 00:28:42</td>\n",
              "      <td>2017-12-15</td>\n",
              "      <td>1</td>\n",
              "      <td>d0b61bfb1de832b15ba9d266ca96e5b0</td>\n",
              "      <td>66922902710d126a0e7d26b0e3805106</td>\n",
              "      <td>2017-11-23 19:45:59</td>\n",
              "      <td>45.00</td>\n",
              "      <td>27.20</td>\n",
              "    </tr>\n",
              "    <tr>\n",
              "      <th>4</th>\n",
              "      <td>ad21c59c0840e6cb83a9ceb5573f8159</td>\n",
              "      <td>8ab97904e6daea8866dbdbc4fb7aad2c</td>\n",
              "      <td>delivered</td>\n",
              "      <td>2018-02</td>\n",
              "      <td>2018-02-13 22:20:29</td>\n",
              "      <td>2018-02-14 19:46:34</td>\n",
              "      <td>2018-02-16 18:17:02</td>\n",
              "      <td>2018-02-26</td>\n",
              "      <td>1</td>\n",
              "      <td>65266b2da20d04dbe00c5c2d3bb7859e</td>\n",
              "      <td>2c9e548be18521d1c43cde1c582c6de8</td>\n",
              "      <td>2018-02-19 20:31:37</td>\n",
              "      <td>19.90</td>\n",
              "      <td>8.72</td>\n",
              "    </tr>\n",
              "    <tr>\n",
              "      <th>5</th>\n",
              "      <td>a4591c265e18cb1dcee52889e2d8acc3</td>\n",
              "      <td>503740e9ca751ccdda7ba28e9ab8f608</td>\n",
              "      <td>delivered</td>\n",
              "      <td>2017-07</td>\n",
              "      <td>2017-07-09 22:10:13</td>\n",
              "      <td>2017-07-11 14:58:04</td>\n",
              "      <td>2017-07-26 10:57:55</td>\n",
              "      <td>2017-08-01</td>\n",
              "      <td>1</td>\n",
              "      <td>060cb19345d90064d1015407193c233d</td>\n",
              "      <td>8581055ce74af1daba164fdbd55a40de</td>\n",
              "      <td>2017-07-13 22:10:13</td>\n",
              "      <td>147.90</td>\n",
              "      <td>27.36</td>\n",
              "    </tr>\n",
              "  </tbody>\n",
              "</table>\n",
              "</div>"
            ],
            "text/plain": [
              "                           order_id  ... freight_value\n",
              "0  e481f51cbdc54678b7cc49136f2d6af7  ...          8.72\n",
              "1  53cdb2fc8bc7dce0b6741e2150273451  ...         22.76\n",
              "3  949d5b44dbf5de918fe9c16f97b45f8a  ...         27.20\n",
              "4  ad21c59c0840e6cb83a9ceb5573f8159  ...          8.72\n",
              "5  a4591c265e18cb1dcee52889e2d8acc3  ...         27.36\n",
              "\n",
              "[5 rows x 14 columns]"
            ]
          },
          "metadata": {
            "tags": []
          },
          "execution_count": 41
        }
      ]
    },
    {
      "cell_type": "code",
      "metadata": {
        "id": "W3JB4BtMeLr0"
      },
      "source": [
        "plot_data = order_process.groupby('purchase_timestamp')['price'].sum().reset_index()"
      ],
      "execution_count": null,
      "outputs": []
    },
    {
      "cell_type": "code",
      "metadata": {
        "colab": {
          "base_uri": "https://localhost:8080/",
          "height": 634
        },
        "id": "_mms4_oxeLgs",
        "outputId": "15168bf7-936a-451a-95d7-3ba981f25bbd"
      },
      "source": [
        "plt.figure(figsize=(20,10))\n",
        "sns.barplot(data=plot_data,\n",
        "            x='purchase_timestamp',\n",
        "            y='price')"
      ],
      "execution_count": null,
      "outputs": [
        {
          "output_type": "execute_result",
          "data": {
            "text/plain": [
              "<matplotlib.axes._subplots.AxesSubplot at 0x7fd90048f990>"
            ]
          },
          "metadata": {
            "tags": []
          },
          "execution_count": 13
        },
        {
          "output_type": "display_data",
          "data": {
            "image/png": "[encoded data removed]",
            "text/plain": [
              "<Figure size 1440x720 with 1 Axes>"
            ]
          },
          "metadata": {
            "tags": [],
            "needs_background": "light"
          }
        }
      ]
    },
    {
      "cell_type": "code",
      "metadata": {
        "colab": {
          "base_uri": "https://localhost:8080/",
          "height": 700
        },
        "id": "nsuWojn_HzSI",
        "outputId": "d7bcc64a-fb3c-45dd-b082-c601f9ab0d5e"
      },
      "source": [
        "order_process.groupby('purchase_timestamp')['order_id'].count().reset_index()"
      ],
      "execution_count": null,
      "outputs": [
        {
          "output_type": "execute_result",
          "data": {
            "text/html": [
              "<div>\n",
              "<style scoped>\n",
              "    .dataframe tbody tr th:only-of-type {\n",
              "        vertical-align: middle;\n",
              "    }\n",
              "\n",
              "    .dataframe tbody tr th {\n",
              "        vertical-align: top;\n",
              "    }\n",
              "\n",
              "    .dataframe thead th {\n",
              "        text-align: right;\n",
              "    }\n",
              "</style>\n",
              "<table border=\"1\" class=\"dataframe\">\n",
              "  <thead>\n",
              "    <tr style=\"text-align: right;\">\n",
              "      <th></th>\n",
              "      <th>purchase_timestamp</th>\n",
              "      <th>order_id</th>\n",
              "    </tr>\n",
              "  </thead>\n",
              "  <tbody>\n",
              "    <tr>\n",
              "      <th>0</th>\n",
              "      <td>2016-10</td>\n",
              "      <td>363</td>\n",
              "    </tr>\n",
              "    <tr>\n",
              "      <th>1</th>\n",
              "      <td>2016-12</td>\n",
              "      <td>1</td>\n",
              "    </tr>\n",
              "    <tr>\n",
              "      <th>2</th>\n",
              "      <td>2017-01</td>\n",
              "      <td>955</td>\n",
              "    </tr>\n",
              "    <tr>\n",
              "      <th>3</th>\n",
              "      <td>2017-02</td>\n",
              "      <td>1951</td>\n",
              "    </tr>\n",
              "    <tr>\n",
              "      <th>4</th>\n",
              "      <td>2017-03</td>\n",
              "      <td>3000</td>\n",
              "    </tr>\n",
              "    <tr>\n",
              "      <th>5</th>\n",
              "      <td>2017-04</td>\n",
              "      <td>2684</td>\n",
              "    </tr>\n",
              "    <tr>\n",
              "      <th>6</th>\n",
              "      <td>2017-05</td>\n",
              "      <td>4136</td>\n",
              "    </tr>\n",
              "    <tr>\n",
              "      <th>7</th>\n",
              "      <td>2017-06</td>\n",
              "      <td>3583</td>\n",
              "    </tr>\n",
              "    <tr>\n",
              "      <th>8</th>\n",
              "      <td>2017-07</td>\n",
              "      <td>4519</td>\n",
              "    </tr>\n",
              "    <tr>\n",
              "      <th>9</th>\n",
              "      <td>2017-08</td>\n",
              "      <td>4910</td>\n",
              "    </tr>\n",
              "    <tr>\n",
              "      <th>10</th>\n",
              "      <td>2017-09</td>\n",
              "      <td>4831</td>\n",
              "    </tr>\n",
              "    <tr>\n",
              "      <th>11</th>\n",
              "      <td>2017-10</td>\n",
              "      <td>5322</td>\n",
              "    </tr>\n",
              "    <tr>\n",
              "      <th>12</th>\n",
              "      <td>2017-11</td>\n",
              "      <td>8665</td>\n",
              "    </tr>\n",
              "    <tr>\n",
              "      <th>13</th>\n",
              "      <td>2017-12</td>\n",
              "      <td>6308</td>\n",
              "    </tr>\n",
              "    <tr>\n",
              "      <th>14</th>\n",
              "      <td>2018-01</td>\n",
              "      <td>8208</td>\n",
              "    </tr>\n",
              "    <tr>\n",
              "      <th>15</th>\n",
              "      <td>2018-02</td>\n",
              "      <td>7672</td>\n",
              "    </tr>\n",
              "    <tr>\n",
              "      <th>16</th>\n",
              "      <td>2018-03</td>\n",
              "      <td>8217</td>\n",
              "    </tr>\n",
              "    <tr>\n",
              "      <th>17</th>\n",
              "      <td>2018-04</td>\n",
              "      <td>7975</td>\n",
              "    </tr>\n",
              "    <tr>\n",
              "      <th>18</th>\n",
              "      <td>2018-05</td>\n",
              "      <td>7925</td>\n",
              "    </tr>\n",
              "    <tr>\n",
              "      <th>19</th>\n",
              "      <td>2018-06</td>\n",
              "      <td>7078</td>\n",
              "    </tr>\n",
              "    <tr>\n",
              "      <th>20</th>\n",
              "      <td>2018-07</td>\n",
              "      <td>7092</td>\n",
              "    </tr>\n",
              "  </tbody>\n",
              "</table>\n",
              "</div>"
            ],
            "text/plain": [
              "   purchase_timestamp  order_id\n",
              "0             2016-10       363\n",
              "1             2016-12         1\n",
              "2             2017-01       955\n",
              "3             2017-02      1951\n",
              "4             2017-03      3000\n",
              "5             2017-04      2684\n",
              "6             2017-05      4136\n",
              "7             2017-06      3583\n",
              "8             2017-07      4519\n",
              "9             2017-08      4910\n",
              "10            2017-09      4831\n",
              "11            2017-10      5322\n",
              "12            2017-11      8665\n",
              "13            2017-12      6308\n",
              "14            2018-01      8208\n",
              "15            2018-02      7672\n",
              "16            2018-03      8217\n",
              "17            2018-04      7975\n",
              "18            2018-05      7925\n",
              "19            2018-06      7078\n",
              "20            2018-07      7092"
            ]
          },
          "metadata": {
            "tags": []
          },
          "execution_count": 43
        }
      ]
    },
    {
      "cell_type": "code",
      "metadata": {
        "id": "U4nkG6X3NIpS"
      },
      "source": [
        "#Year-Month-Date for order & delivery process\n",
        "order_process['purchase_timestamp'] = order_process['order_purchase_timestamp'].dt.to_period('D')"
      ],
      "execution_count": null,
      "outputs": []
    },
    {
      "cell_type": "code",
      "metadata": {
        "id": "AiTDsb71p9NB",
        "colab": {
          "base_uri": "https://localhost:8080/",
          "height": 419
        },
        "outputId": "d03b0bd9-3c44-4098-8b1a-ca82c58b5c4c"
      },
      "source": [
        "#tính duration giữa các công đoạn trong quy trình từ lúc nhận order đến lúc deliver tới end customer\n",
        "#work in progress\n",
        "order_process['approval'] = order_process['approved_at'] - order_process['purchase_timestamp']\n",
        "order_process['processing'] = order_process['delivered_carrier_date'] - order_process['approved_at']\n",
        "order_process['shipping'] = order_process['delivered_customer_date'] - order_process['delivered_carrier_date']\n",
        "#comparision\n",
        "order_process['actual_process'] = order_process['delivered_customer_date'] - order_process['purchase_timestamp']\n",
        "order_process['estimated_delivery_date'] = order_process['estimated_delivery_date'] - order_process['purchase_timestamp']\n",
        "order_process['limited_shipping_date'] = order_process['shipping_limit_date'] - order_process['delivered_carrier_date']\n",
        "time_tracking = order_process[['approval', 'processing', 'shipping', 'actual_process', 'estimated_delivery_date', 'limited_shipping_date']]\n",
        "time_tracking"
      ],
      "execution_count": null,
      "outputs": [
        {
          "output_type": "execute_result",
          "data": {
            "text/html": [
              "<div>\n",
              "<style scoped>\n",
              "    .dataframe tbody tr th:only-of-type {\n",
              "        vertical-align: middle;\n",
              "    }\n",
              "\n",
              "    .dataframe tbody tr th {\n",
              "        vertical-align: top;\n",
              "    }\n",
              "\n",
              "    .dataframe thead th {\n",
              "        text-align: right;\n",
              "    }\n",
              "</style>\n",
              "<table border=\"1\" class=\"dataframe\">\n",
              "  <thead>\n",
              "    <tr style=\"text-align: right;\">\n",
              "      <th></th>\n",
              "      <th>approval</th>\n",
              "      <th>processing</th>\n",
              "      <th>shipping</th>\n",
              "      <th>actual_process</th>\n",
              "      <th>estimated_delivery_date</th>\n",
              "      <th>limited_shipping_date</th>\n",
              "    </tr>\n",
              "  </thead>\n",
              "  <tbody>\n",
              "    <tr>\n",
              "      <th>0</th>\n",
              "      <td>0 days 00:10:42</td>\n",
              "      <td>2 days 08:47:45</td>\n",
              "      <td>6 days 01:30:13</td>\n",
              "      <td>8 days 10:28:40</td>\n",
              "      <td>15 days 13:03:27</td>\n",
              "      <td>1 days 15:12:15</td>\n",
              "    </tr>\n",
              "    <tr>\n",
              "      <th>1</th>\n",
              "      <td>1 days 06:42:50</td>\n",
              "      <td>0 days 11:06:33</td>\n",
              "      <td>12 days 00:56:45</td>\n",
              "      <td>13 days 18:46:08</td>\n",
              "      <td>19 days 03:18:23</td>\n",
              "      <td>3 days 12:53:27</td>\n",
              "    </tr>\n",
              "    <tr>\n",
              "      <th>3</th>\n",
              "      <td>0 days 00:17:53</td>\n",
              "      <td>3 days 17:54:00</td>\n",
              "      <td>9 days 10:48:43</td>\n",
              "      <td>13 days 05:00:36</td>\n",
              "      <td>26 days 04:31:54</td>\n",
              "      <td>1 days 06:06:00</td>\n",
              "    </tr>\n",
              "    <tr>\n",
              "      <th>4</th>\n",
              "      <td>0 days 01:01:50</td>\n",
              "      <td>0 days 21:26:05</td>\n",
              "      <td>1 days 22:30:28</td>\n",
              "      <td>2 days 20:58:23</td>\n",
              "      <td>12 days 02:41:21</td>\n",
              "      <td>5 days 00:45:03</td>\n",
              "    </tr>\n",
              "    <tr>\n",
              "      <th>5</th>\n",
              "      <td>0 days 00:13:08</td>\n",
              "      <td>1 days 16:47:51</td>\n",
              "      <td>14 days 19:59:51</td>\n",
              "      <td>16 days 13:00:50</td>\n",
              "      <td>22 days 02:02:55</td>\n",
              "      <td>2 days 07:12:09</td>\n",
              "    </tr>\n",
              "    <tr>\n",
              "      <th>...</th>\n",
              "      <td>...</td>\n",
              "      <td>...</td>\n",
              "      <td>...</td>\n",
              "      <td>...</td>\n",
              "      <td>...</td>\n",
              "      <td>...</td>\n",
              "    </tr>\n",
              "    <tr>\n",
              "      <th>112645</th>\n",
              "      <td>0 days 00:11:39</td>\n",
              "      <td>1 days 10:12:05</td>\n",
              "      <td>20 days 18:15:14</td>\n",
              "      <td>22 days 04:38:58</td>\n",
              "      <td>23 days 11:01:02</td>\n",
              "      <td>4 days 13:47:55</td>\n",
              "    </tr>\n",
              "    <tr>\n",
              "      <th>112646</th>\n",
              "      <td>0 days 00:17:33</td>\n",
              "      <td>1 days 05:48:10</td>\n",
              "      <td>23 days 14:31:51</td>\n",
              "      <td>24 days 20:37:34</td>\n",
              "      <td>30 days 09:13:17</td>\n",
              "      <td>7 days 18:11:50</td>\n",
              "    </tr>\n",
              "    <tr>\n",
              "      <th>112647</th>\n",
              "      <td>0 days 00:07:54</td>\n",
              "      <td>3 days 17:58:42</td>\n",
              "      <td>13 days 07:57:51</td>\n",
              "      <td>17 days 02:04:27</td>\n",
              "      <td>37 days 02:31:33</td>\n",
              "      <td>0 days 06:01:18</td>\n",
              "    </tr>\n",
              "    <tr>\n",
              "      <th>112648</th>\n",
              "      <td>0 days 00:07:54</td>\n",
              "      <td>3 days 17:58:42</td>\n",
              "      <td>13 days 07:57:51</td>\n",
              "      <td>17 days 02:04:27</td>\n",
              "      <td>37 days 02:31:33</td>\n",
              "      <td>0 days 06:01:18</td>\n",
              "    </tr>\n",
              "    <tr>\n",
              "      <th>112649</th>\n",
              "      <td>0 days 14:22:58</td>\n",
              "      <td>0 days 10:51:31</td>\n",
              "      <td>6 days 14:56:31</td>\n",
              "      <td>7 days 16:11:00</td>\n",
              "      <td>25 days 03:02:30</td>\n",
              "      <td>5 days 12:43:43</td>\n",
              "    </tr>\n",
              "  </tbody>\n",
              "</table>\n",
              "<p>105395 rows × 6 columns</p>\n",
              "</div>"
            ],
            "text/plain": [
              "              approval  ... limited_shipping_date\n",
              "0      0 days 00:10:42  ...       1 days 15:12:15\n",
              "1      1 days 06:42:50  ...       3 days 12:53:27\n",
              "3      0 days 00:17:53  ...       1 days 06:06:00\n",
              "4      0 days 01:01:50  ...       5 days 00:45:03\n",
              "5      0 days 00:13:08  ...       2 days 07:12:09\n",
              "...                ...  ...                   ...\n",
              "112645 0 days 00:11:39  ...       4 days 13:47:55\n",
              "112646 0 days 00:17:33  ...       7 days 18:11:50\n",
              "112647 0 days 00:07:54  ...       0 days 06:01:18\n",
              "112648 0 days 00:07:54  ...       0 days 06:01:18\n",
              "112649 0 days 14:22:58  ...       5 days 12:43:43\n",
              "\n",
              "[105395 rows x 6 columns]"
            ]
          },
          "metadata": {
            "tags": []
          },
          "execution_count": 6
        }
      ]
    },
    {
      "cell_type": "code",
      "metadata": {
        "colab": {
          "base_uri": "https://localhost:8080/"
        },
        "id": "MSW1Nf2jzRyD",
        "outputId": "b229e6eb-e2fb-4e4e-eb9e-afb2bcdded27"
      },
      "source": [
        "order_process['status'].unique()"
      ],
      "execution_count": null,
      "outputs": [
        {
          "output_type": "execute_result",
          "data": {
            "text/plain": [
              "array(['delivered', 'invoiced', 'shipped', 'processing', 'canceled',\n",
              "       'unavailable', 'approved'], dtype=object)"
            ]
          },
          "metadata": {
            "tags": []
          },
          "execution_count": 16
        }
      ]
    },
    {
      "cell_type": "code",
      "metadata": {
        "colab": {
          "base_uri": "https://localhost:8080/",
          "height": 204
        },
        "id": "TlbtGqTBnx3w",
        "outputId": "7d57314f-dd77-467a-8e2b-2e5daaacd687"
      },
      "source": [
        "#Subset dataframe\n",
        "order_process1 = order_process[['order_id', 'status', 'qty','seller_id', 'price', 'actual_process', 'estimated_delivery_date', 'limited_shipping_date', 'freight_value']]\n",
        "order_process1 = order_process1[(order_process1['status'] != 'canceled') & (order_process1['status'] != 'unavailable')]\n",
        "order_process1.head()"
      ],
      "execution_count": null,
      "outputs": [
        {
          "output_type": "execute_result",
          "data": {
            "text/html": [
              "<div>\n",
              "<style scoped>\n",
              "    .dataframe tbody tr th:only-of-type {\n",
              "        vertical-align: middle;\n",
              "    }\n",
              "\n",
              "    .dataframe tbody tr th {\n",
              "        vertical-align: top;\n",
              "    }\n",
              "\n",
              "    .dataframe thead th {\n",
              "        text-align: right;\n",
              "    }\n",
              "</style>\n",
              "<table border=\"1\" class=\"dataframe\">\n",
              "  <thead>\n",
              "    <tr style=\"text-align: right;\">\n",
              "      <th></th>\n",
              "      <th>order_id</th>\n",
              "      <th>status</th>\n",
              "      <th>qty</th>\n",
              "      <th>seller_id</th>\n",
              "      <th>price</th>\n",
              "      <th>actual_process</th>\n",
              "      <th>estimated_delivery_date</th>\n",
              "      <th>limited_shipping_date</th>\n",
              "      <th>freight_value</th>\n",
              "    </tr>\n",
              "  </thead>\n",
              "  <tbody>\n",
              "    <tr>\n",
              "      <th>0</th>\n",
              "      <td>e481f51cbdc54678b7cc49136f2d6af7</td>\n",
              "      <td>delivered</td>\n",
              "      <td>1</td>\n",
              "      <td>3504c0cb71d7fa48d967e0e4c94d59d9</td>\n",
              "      <td>29.99</td>\n",
              "      <td>8 days 10:28:40</td>\n",
              "      <td>15 days 13:03:27</td>\n",
              "      <td>1 days 15:12:15</td>\n",
              "      <td>8.72</td>\n",
              "    </tr>\n",
              "    <tr>\n",
              "      <th>1</th>\n",
              "      <td>53cdb2fc8bc7dce0b6741e2150273451</td>\n",
              "      <td>delivered</td>\n",
              "      <td>1</td>\n",
              "      <td>289cdb325fb7e7f891c38608bf9e0962</td>\n",
              "      <td>118.70</td>\n",
              "      <td>13 days 18:46:08</td>\n",
              "      <td>19 days 03:18:23</td>\n",
              "      <td>3 days 12:53:27</td>\n",
              "      <td>22.76</td>\n",
              "    </tr>\n",
              "    <tr>\n",
              "      <th>3</th>\n",
              "      <td>949d5b44dbf5de918fe9c16f97b45f8a</td>\n",
              "      <td>delivered</td>\n",
              "      <td>1</td>\n",
              "      <td>66922902710d126a0e7d26b0e3805106</td>\n",
              "      <td>45.00</td>\n",
              "      <td>13 days 05:00:36</td>\n",
              "      <td>26 days 04:31:54</td>\n",
              "      <td>1 days 06:06:00</td>\n",
              "      <td>27.20</td>\n",
              "    </tr>\n",
              "    <tr>\n",
              "      <th>4</th>\n",
              "      <td>ad21c59c0840e6cb83a9ceb5573f8159</td>\n",
              "      <td>delivered</td>\n",
              "      <td>1</td>\n",
              "      <td>2c9e548be18521d1c43cde1c582c6de8</td>\n",
              "      <td>19.90</td>\n",
              "      <td>2 days 20:58:23</td>\n",
              "      <td>12 days 02:41:21</td>\n",
              "      <td>5 days 00:45:03</td>\n",
              "      <td>8.72</td>\n",
              "    </tr>\n",
              "    <tr>\n",
              "      <th>5</th>\n",
              "      <td>a4591c265e18cb1dcee52889e2d8acc3</td>\n",
              "      <td>delivered</td>\n",
              "      <td>1</td>\n",
              "      <td>8581055ce74af1daba164fdbd55a40de</td>\n",
              "      <td>147.90</td>\n",
              "      <td>16 days 13:00:50</td>\n",
              "      <td>22 days 02:02:55</td>\n",
              "      <td>2 days 07:12:09</td>\n",
              "      <td>27.36</td>\n",
              "    </tr>\n",
              "  </tbody>\n",
              "</table>\n",
              "</div>"
            ],
            "text/plain": [
              "                           order_id  ... freight_value\n",
              "0  e481f51cbdc54678b7cc49136f2d6af7  ...          8.72\n",
              "1  53cdb2fc8bc7dce0b6741e2150273451  ...         22.76\n",
              "3  949d5b44dbf5de918fe9c16f97b45f8a  ...         27.20\n",
              "4  ad21c59c0840e6cb83a9ceb5573f8159  ...          8.72\n",
              "5  a4591c265e18cb1dcee52889e2d8acc3  ...         27.36\n",
              "\n",
              "[5 rows x 9 columns]"
            ]
          },
          "metadata": {
            "tags": []
          },
          "execution_count": 7
        }
      ]
    },
    {
      "cell_type": "code",
      "metadata": {
        "id": "vCI0FnxPIJNK"
      },
      "source": [
        "#HYPOTHESIS\n",
        "#1_By delivery\n",
        "#2_By Freight value\n",
        "#3_By seller capacity"
      ],
      "execution_count": null,
      "outputs": []
    },
    {
      "cell_type": "code",
      "metadata": {
        "id": "0id3h18hOBzy"
      },
      "source": [
        "H1 = order_process1[['order_id', 'status', 'seller_id', 'actual_process', 'estimated_delivery_date']]\n",
        "H1 = H1[H1['status'] == 'invoiced']\n",
        "H1.head()"
      ],
      "execution_count": null,
      "outputs": []
    },
    {
      "cell_type": "code",
      "metadata": {
        "id": "C5d-AxV9Q2fx"
      },
      "source": [
        "#Xác định tỷ lệ trễ (compare actual process w expected delivery date)\n",
        "#Xác định nguyên nhân trễ (so sánh actual time vs shipping limit date => nếu phải thì là do shipper => nếu ko phải thì là do hệ thống hoặc seller)\n",
        "#Xác định tương quan revenue với các đơn trễ\n",
        "#Xác đinh tương quan các đơn trễ với review "
      ],
      "execution_count": null,
      "outputs": []
    },
    {
      "cell_type": "code",
      "metadata": {
        "id": "GsFTNp3EFnuB"
      },
      "source": [
        "#CONCLUSION_1\n",
        "#By delivery"
      ],
      "execution_count": null,
      "outputs": []
    },
    {
      "cell_type": "code",
      "metadata": {
        "id": "B_tt1EyHJKCA"
      },
      "source": [
        "plt.figure(figsize=(10, 10))\n",
        "sns.barplot(data=order_process1,\n",
        "              x='status',\n",
        "              y='freight_value')"
      ],
      "execution_count": null,
      "outputs": []
    },
    {
      "cell_type": "code",
      "metadata": {
        "id": "XbqiJprNGFTx"
      },
      "source": [
        "#CONCLUSION_2\n",
        "#By freight value"
      ],
      "execution_count": null,
      "outputs": []
    },
    {
      "cell_type": "code",
      "metadata": {
        "colab": {
          "base_uri": "https://localhost:8080/"
        },
        "id": "cTSJXehdG7VB",
        "outputId": "e6516749-c8d9-42fe-9616-9c80173b6de5"
      },
      "source": [
        "order_process1['status'].value_counts()"
      ],
      "execution_count": null,
      "outputs": [
        {
          "output_type": "execute_result",
          "data": {
            "text/plain": [
              "delivered      110197\n",
              "shipped          1186\n",
              "canceled          706\n",
              "unavailable       610\n",
              "invoiced          361\n",
              "processing        357\n",
              "created             5\n",
              "approved            3\n",
              "Name: status, dtype: int64"
            ]
          },
          "metadata": {
            "tags": []
          },
          "execution_count": 42
        }
      ]
    },
    {
      "cell_type": "code",
      "metadata": {
        "id": "96bkyEWkGFkh"
      },
      "source": [
        "#CONCLUSION_3\n",
        "#By seller capacity\n",
        "#1.16% order is canceled or unavailable ==> This is not the reason"
      ],
      "execution_count": null,
      "outputs": []
    },
    {
      "cell_type": "code",
      "metadata": {
        "id": "k_e9ISHvAoN_"
      },
      "source": [
        "#CUSTOMER SATISFACTION"
      ],
      "execution_count": null,
      "outputs": []
    },
    {
      "cell_type": "code",
      "metadata": {
        "id": "L7qmKifhAryv"
      },
      "source": [
        "consumer_review = pd.merge(left=order_process, \n",
        "                          right=order_reviews, \n",
        "                          on='order_id',\n",
        "                          how='inner')\n",
        "consumer_review"
      ],
      "execution_count": null,
      "outputs": []
    },
    {
      "cell_type": "code",
      "metadata": {
        "id": "PJrP3Z79nQYE"
      },
      "source": [
        "#PAYMENT METHOD Analysis\n",
        "#Question to be answered\n",
        "#1 - Các phương thức thanh toán mà sàn e-comm cung cấp là gì?\n",
        "#2a - Phương thức thanh toán nào có số lần order nhiều nhất? categoried by new order (sequential = 0) và retunr oder (sequential = 1)\n",
        "#2b - Phương thức thanh toán nào contribute revenue nhiều nhất? \n",
        "#2c => Mối tương quan giữa phương thức thanh toán và revenue?\n",
        "#3 - Phương thức thanh toán nào có số lần quay lại nhiều nhất? và giá trị thanh toán trung bình? (total giá trị thanh toán by type) => loyal customer "
      ],
      "execution_count": null,
      "outputs": []
    },
    {
      "cell_type": "code",
      "metadata": {
        "colab": {
          "base_uri": "https://localhost:8080/",
          "height": 203
        },
        "id": "gqoLUw6QNW_n",
        "outputId": "4f551846-b98a-4a4d-b6e1-3f8298dc500c"
      },
      "source": [
        "order_payments.head()"
      ],
      "execution_count": null,
      "outputs": [
        {
          "output_type": "execute_result",
          "data": {
            "text/html": [
              "<div>\n",
              "<style scoped>\n",
              "    .dataframe tbody tr th:only-of-type {\n",
              "        vertical-align: middle;\n",
              "    }\n",
              "\n",
              "    .dataframe tbody tr th {\n",
              "        vertical-align: top;\n",
              "    }\n",
              "\n",
              "    .dataframe thead th {\n",
              "        text-align: right;\n",
              "    }\n",
              "</style>\n",
              "<table border=\"1\" class=\"dataframe\">\n",
              "  <thead>\n",
              "    <tr style=\"text-align: right;\">\n",
              "      <th></th>\n",
              "      <th>order_id</th>\n",
              "      <th>payment_sequential</th>\n",
              "      <th>payment_type</th>\n",
              "      <th>payment_installments</th>\n",
              "      <th>payment_value</th>\n",
              "    </tr>\n",
              "  </thead>\n",
              "  <tbody>\n",
              "    <tr>\n",
              "      <th>0</th>\n",
              "      <td>b81ef226f3fe1789b1e8b2acac839d17</td>\n",
              "      <td>1</td>\n",
              "      <td>credit_card</td>\n",
              "      <td>8</td>\n",
              "      <td>99.33</td>\n",
              "    </tr>\n",
              "    <tr>\n",
              "      <th>1</th>\n",
              "      <td>a9810da82917af2d9aefd1278f1dcfa0</td>\n",
              "      <td>1</td>\n",
              "      <td>credit_card</td>\n",
              "      <td>1</td>\n",
              "      <td>24.39</td>\n",
              "    </tr>\n",
              "    <tr>\n",
              "      <th>2</th>\n",
              "      <td>25e8ea4e93396b6fa0d3dd708e76c1bd</td>\n",
              "      <td>1</td>\n",
              "      <td>credit_card</td>\n",
              "      <td>1</td>\n",
              "      <td>65.71</td>\n",
              "    </tr>\n",
              "    <tr>\n",
              "      <th>3</th>\n",
              "      <td>ba78997921bbcdc1373bb41e913ab953</td>\n",
              "      <td>1</td>\n",
              "      <td>credit_card</td>\n",
              "      <td>8</td>\n",
              "      <td>107.78</td>\n",
              "    </tr>\n",
              "    <tr>\n",
              "      <th>4</th>\n",
              "      <td>42fdf880ba16b47b59251dd489d4441a</td>\n",
              "      <td>1</td>\n",
              "      <td>credit_card</td>\n",
              "      <td>2</td>\n",
              "      <td>128.45</td>\n",
              "    </tr>\n",
              "  </tbody>\n",
              "</table>\n",
              "</div>"
            ],
            "text/plain": [
              "                           order_id  ...  payment_value\n",
              "0  b81ef226f3fe1789b1e8b2acac839d17  ...          99.33\n",
              "1  a9810da82917af2d9aefd1278f1dcfa0  ...          24.39\n",
              "2  25e8ea4e93396b6fa0d3dd708e76c1bd  ...          65.71\n",
              "3  ba78997921bbcdc1373bb41e913ab953  ...         107.78\n",
              "4  42fdf880ba16b47b59251dd489d4441a  ...         128.45\n",
              "\n",
              "[5 rows x 5 columns]"
            ]
          },
          "metadata": {
            "tags": []
          },
          "execution_count": 5
        }
      ]
    },
    {
      "cell_type": "code",
      "metadata": {
        "colab": {
          "base_uri": "https://localhost:8080/",
          "height": 237
        },
        "id": "KU2fE-7eNb4F",
        "outputId": "6a12b21c-3e51-430e-fe3b-67b54b987a61"
      },
      "source": [
        "order_reviews.head()"
      ],
      "execution_count": null,
      "outputs": [
        {
          "output_type": "execute_result",
          "data": {
            "text/html": [
              "<div>\n",
              "<style scoped>\n",
              "    .dataframe tbody tr th:only-of-type {\n",
              "        vertical-align: middle;\n",
              "    }\n",
              "\n",
              "    .dataframe tbody tr th {\n",
              "        vertical-align: top;\n",
              "    }\n",
              "\n",
              "    .dataframe thead th {\n",
              "        text-align: right;\n",
              "    }\n",
              "</style>\n",
              "<table border=\"1\" class=\"dataframe\">\n",
              "  <thead>\n",
              "    <tr style=\"text-align: right;\">\n",
              "      <th></th>\n",
              "      <th>review_id</th>\n",
              "      <th>order_id</th>\n",
              "      <th>review_score</th>\n",
              "      <th>review_comment_title</th>\n",
              "      <th>review_comment_message</th>\n",
              "      <th>review_creation_date</th>\n",
              "      <th>review_answer_timestamp</th>\n",
              "    </tr>\n",
              "  </thead>\n",
              "  <tbody>\n",
              "    <tr>\n",
              "      <th>0</th>\n",
              "      <td>7bc2406110b926393aa56f80a40eba40</td>\n",
              "      <td>73fc7af87114b39712e6da79b0a377eb</td>\n",
              "      <td>4</td>\n",
              "      <td>NaN</td>\n",
              "      <td>NaN</td>\n",
              "      <td>2018-01-18 00:00:00</td>\n",
              "      <td>2018-01-18 21:46:59</td>\n",
              "    </tr>\n",
              "    <tr>\n",
              "      <th>1</th>\n",
              "      <td>80e641a11e56f04c1ad469d5645fdfde</td>\n",
              "      <td>a548910a1c6147796b98fdf73dbeba33</td>\n",
              "      <td>5</td>\n",
              "      <td>NaN</td>\n",
              "      <td>NaN</td>\n",
              "      <td>2018-03-10 00:00:00</td>\n",
              "      <td>2018-03-11 03:05:13</td>\n",
              "    </tr>\n",
              "    <tr>\n",
              "      <th>2</th>\n",
              "      <td>228ce5500dc1d8e020d8d1322874b6f0</td>\n",
              "      <td>f9e4b658b201a9f2ecdecbb34bed034b</td>\n",
              "      <td>5</td>\n",
              "      <td>NaN</td>\n",
              "      <td>NaN</td>\n",
              "      <td>2018-02-17 00:00:00</td>\n",
              "      <td>2018-02-18 14:36:24</td>\n",
              "    </tr>\n",
              "    <tr>\n",
              "      <th>3</th>\n",
              "      <td>e64fb393e7b32834bb789ff8bb30750e</td>\n",
              "      <td>658677c97b385a9be170737859d3511b</td>\n",
              "      <td>5</td>\n",
              "      <td>NaN</td>\n",
              "      <td>Recebi bem antes do prazo estipulado.</td>\n",
              "      <td>2017-04-21 00:00:00</td>\n",
              "      <td>2017-04-21 22:02:06</td>\n",
              "    </tr>\n",
              "    <tr>\n",
              "      <th>4</th>\n",
              "      <td>f7c4243c7fe1938f181bec41a392bdeb</td>\n",
              "      <td>8e6bfb81e283fa7e4f11123a3fb894f1</td>\n",
              "      <td>5</td>\n",
              "      <td>NaN</td>\n",
              "      <td>Parabéns lojas lannister adorei comprar pela I...</td>\n",
              "      <td>2018-03-01 00:00:00</td>\n",
              "      <td>2018-03-02 10:26:53</td>\n",
              "    </tr>\n",
              "  </tbody>\n",
              "</table>\n",
              "</div>"
            ],
            "text/plain": [
              "                          review_id  ... review_answer_timestamp\n",
              "0  7bc2406110b926393aa56f80a40eba40  ...     2018-01-18 21:46:59\n",
              "1  80e641a11e56f04c1ad469d5645fdfde  ...     2018-03-11 03:05:13\n",
              "2  228ce5500dc1d8e020d8d1322874b6f0  ...     2018-02-18 14:36:24\n",
              "3  e64fb393e7b32834bb789ff8bb30750e  ...     2017-04-21 22:02:06\n",
              "4  f7c4243c7fe1938f181bec41a392bdeb  ...     2018-03-02 10:26:53\n",
              "\n",
              "[5 rows x 7 columns]"
            ]
          },
          "metadata": {
            "tags": []
          },
          "execution_count": 6
        }
      ]
    },
    {
      "cell_type": "code",
      "metadata": {
        "id": "OgmCut4JNiM8",
        "colab": {
          "base_uri": "https://localhost:8080/"
        },
        "outputId": "c21b3e87-6116-4410-f871-bbde3a8dc857"
      },
      "source": [
        "#1 Payment type\n",
        "order_payments['payment_type'].unique()"
      ],
      "execution_count": null,
      "outputs": [
        {
          "output_type": "execute_result",
          "data": {
            "text/plain": [
              "array(['credit_card', 'boleto', 'voucher', 'debit_card', 'not_defined'],\n",
              "      dtype=object)"
            ]
          },
          "metadata": {
            "tags": []
          },
          "execution_count": 7
        }
      ]
    },
    {
      "cell_type": "code",
      "metadata": {
        "colab": {
          "base_uri": "https://localhost:8080/",
          "height": 203
        },
        "id": "5djaKVISaSnH",
        "outputId": "bf26473d-00fe-4ff0-9b57-abb7d84e1ec4"
      },
      "source": [
        "#2a - Phương thức thanh toán nào có số lần order nhiều nhất? categoried by new order (sequential = 1) và return oder (sequential != 1)\n",
        "#2b - Phương thức thanh toán nào contribute revenue nhiều nhất?\n",
        "order_payments['avg_value'] = order_payments['payment_value'] / order_payments['payment_sequential']\n",
        "order_payments\n",
        "order_payments.groupby('payment_type')[['payment_sequential', 'payment_value', 'avg_value']].agg({'payment_sequential':'sum', \n",
        "                                                                                    'payment_value':'sum',\n",
        "                                                                                    'avg_value':'mean'}).reset_index()                                                \n",
        "#2c => Mối tương quan giữa phương thức thanh toán và revenue?"
      ],
      "execution_count": null,
      "outputs": [
        {
          "output_type": "execute_result",
          "data": {
            "text/html": [
              "<div>\n",
              "<style scoped>\n",
              "    .dataframe tbody tr th:only-of-type {\n",
              "        vertical-align: middle;\n",
              "    }\n",
              "\n",
              "    .dataframe tbody tr th {\n",
              "        vertical-align: top;\n",
              "    }\n",
              "\n",
              "    .dataframe thead th {\n",
              "        text-align: right;\n",
              "    }\n",
              "</style>\n",
              "<table border=\"1\" class=\"dataframe\">\n",
              "  <thead>\n",
              "    <tr style=\"text-align: right;\">\n",
              "      <th></th>\n",
              "      <th>payment_type</th>\n",
              "      <th>payment_sequential</th>\n",
              "      <th>payment_value</th>\n",
              "      <th>avg_value</th>\n",
              "    </tr>\n",
              "  </thead>\n",
              "  <tbody>\n",
              "    <tr>\n",
              "      <th>0</th>\n",
              "      <td>boleto</td>\n",
              "      <td>19785</td>\n",
              "      <td>2.869361e+06</td>\n",
              "      <td>145.032050</td>\n",
              "    </tr>\n",
              "    <tr>\n",
              "      <th>1</th>\n",
              "      <td>credit_card</td>\n",
              "      <td>77115</td>\n",
              "      <td>1.254208e+07</td>\n",
              "      <td>163.012189</td>\n",
              "    </tr>\n",
              "    <tr>\n",
              "      <th>2</th>\n",
              "      <td>debit_card</td>\n",
              "      <td>1582</td>\n",
              "      <td>2.179898e+05</td>\n",
              "      <td>140.242679</td>\n",
              "    </tr>\n",
              "    <tr>\n",
              "      <th>3</th>\n",
              "      <td>not_defined</td>\n",
              "      <td>3</td>\n",
              "      <td>0.000000e+00</td>\n",
              "      <td>0.000000</td>\n",
              "    </tr>\n",
              "    <tr>\n",
              "      <th>4</th>\n",
              "      <td>voucher</td>\n",
              "      <td>15029</td>\n",
              "      <td>3.794369e+05</td>\n",
              "      <td>44.956984</td>\n",
              "    </tr>\n",
              "  </tbody>\n",
              "</table>\n",
              "</div>"
            ],
            "text/plain": [
              "  payment_type  payment_sequential  payment_value   avg_value\n",
              "0       boleto               19785   2.869361e+06  145.032050\n",
              "1  credit_card               77115   1.254208e+07  163.012189\n",
              "2   debit_card                1582   2.179898e+05  140.242679\n",
              "3  not_defined                   3   0.000000e+00    0.000000\n",
              "4      voucher               15029   3.794369e+05   44.956984"
            ]
          },
          "metadata": {
            "tags": []
          },
          "execution_count": 24
        }
      ]
    },
    {
      "cell_type": "code",
      "metadata": {
        "colab": {
          "base_uri": "https://localhost:8080/",
          "height": 607
        },
        "id": "lbTVj-ZHlgBQ",
        "outputId": "ca066db7-4e0d-4cc5-ca6a-4902483ecd8e"
      },
      "source": [
        "order_payments['avg_value'] = order_payments['payment_value'] / order_payments['payment_sequential']\n",
        "order_payments\n",
        "\n",
        "plot_data = order_payments.groupby('payment_type')[['payment_sequential', 'avg_value']].agg({'payment_sequential':'sum', \n",
        "                                                                                      'avg_value':'mean'}).reset_index() \n",
        "plt.figure(figsize=(8, 10))\n",
        "sns.barplot(data=plot_data,\n",
        "              x='payment_type',\n",
        "              y='avg_value')\n",
        "plt.twinx()\n",
        "sns.lineplot(data=plot_data,\n",
        "             x='payment_type',\n",
        "             y='payment_sequential')\n",
        "plt.show()"
      ],
      "execution_count": null,
      "outputs": [
        {
          "output_type": "display_data",
          "data": {
            "image/png": "[encoded data removed]",
            "text/plain": [
              "<Figure size 576x720 with 2 Axes>"
            ]
          },
          "metadata": {
            "tags": [],
            "needs_background": "light"
          }
        }
      ]
    },
    {
      "cell_type": "code",
      "metadata": {
        "id": "RnCmsIV0oOCt"
      },
      "source": [
        "#CONCLUSION\n",
        "#Mối tương quan giữa phương thức thanh toán và revenue?\n",
        "#Credit card là phương thức thanh toán được ưa chuộng nhất & contribute doanh thu cao nhất vì cho phép người tiêu dùng trả sau\n",
        "#loyal customer (quay lại ~ 20 lần) sử dụng voucher khá nhiều nhưng giá trị giao dịch trung bình và tổng số lần giao dịch không cao\n",
        "#giá trị món hàng không quá ảnh hưởng đến quyết định mua hàng"
      ],
      "execution_count": null,
      "outputs": []
    },
    {
      "cell_type": "code",
      "metadata": {
        "colab": {
          "base_uri": "https://localhost:8080/",
          "height": 674
        },
        "id": "lhDa_QKLrVAZ",
        "outputId": "b800b2eb-90d6-459d-f23e-c7d92efa545f"
      },
      "source": [
        "plot_data = order_payments.groupby('payment_type')['payment_sequential', 'payment_value'].sum().reset_index() \n",
        "plt.figure(figsize=(8, 10))\n",
        "sns.barplot(data=plot_data,\n",
        "              x='payment_type',\n",
        "              y='payment_value')\n",
        "plt.twinx()\n",
        "sns.lineplot(data=plot_data,\n",
        "             x='payment_type',\n",
        "             y='payment_sequential')\n",
        "plt.show()"
      ],
      "execution_count": null,
      "outputs": [
        {
          "output_type": "stream",
          "text": [
            "/usr/local/lib/python3.7/dist-packages/ipykernel_launcher.py:1: FutureWarning: Indexing with multiple keys (implicitly converted to a tuple of keys) will be deprecated, use a list instead.\n",
            "  \"\"\"Entry point for launching an IPython kernel.\n"
          ],
          "name": "stderr"
        },
        {
          "output_type": "display_data",
          "data": {
            "image/png": "[encoded data removed]",
            "text/plain": [
              "<Figure size 576x720 with 2 Axes>"
            ]
          },
          "metadata": {
            "tags": [],
            "needs_background": "light"
          }
        }
      ]
    },
    {
      "cell_type": "code",
      "metadata": {
        "colab": {
          "base_uri": "https://localhost:8080/",
          "height": 1000
        },
        "id": "sQQnwuwOkMnx",
        "outputId": "aa8bc79a-262f-453d-f1bd-29103ce8193d"
      },
      "source": [
        "#DRAFT\n",
        "order_payments.groupby(['payment_type', 'payment_sequential'])['payment_value'].sum().reset_index()"
      ],
      "execution_count": null,
      "outputs": [
        {
          "output_type": "execute_result",
          "data": {
            "text/html": [
              "<div>\n",
              "<style scoped>\n",
              "    .dataframe tbody tr th:only-of-type {\n",
              "        vertical-align: middle;\n",
              "    }\n",
              "\n",
              "    .dataframe tbody tr th {\n",
              "        vertical-align: top;\n",
              "    }\n",
              "\n",
              "    .dataframe thead th {\n",
              "        text-align: right;\n",
              "    }\n",
              "</style>\n",
              "<table border=\"1\" class=\"dataframe\">\n",
              "  <thead>\n",
              "    <tr style=\"text-align: right;\">\n",
              "      <th></th>\n",
              "      <th>payment_type</th>\n",
              "      <th>payment_sequential</th>\n",
              "      <th>payment_value</th>\n",
              "    </tr>\n",
              "  </thead>\n",
              "  <tbody>\n",
              "    <tr>\n",
              "      <th>0</th>\n",
              "      <td>boleto</td>\n",
              "      <td>1</td>\n",
              "      <td>2.869267e+06</td>\n",
              "    </tr>\n",
              "    <tr>\n",
              "      <th>1</th>\n",
              "      <td>boleto</td>\n",
              "      <td>2</td>\n",
              "      <td>9.440000e+01</td>\n",
              "    </tr>\n",
              "    <tr>\n",
              "      <th>2</th>\n",
              "      <td>credit_card</td>\n",
              "      <td>1</td>\n",
              "      <td>1.249499e+07</td>\n",
              "    </tr>\n",
              "    <tr>\n",
              "      <th>3</th>\n",
              "      <td>credit_card</td>\n",
              "      <td>2</td>\n",
              "      <td>4.698913e+04</td>\n",
              "    </tr>\n",
              "    <tr>\n",
              "      <th>4</th>\n",
              "      <td>credit_card</td>\n",
              "      <td>3</td>\n",
              "      <td>1.028200e+02</td>\n",
              "    </tr>\n",
              "    <tr>\n",
              "      <th>5</th>\n",
              "      <td>debit_card</td>\n",
              "      <td>1</td>\n",
              "      <td>2.108790e+05</td>\n",
              "    </tr>\n",
              "    <tr>\n",
              "      <th>6</th>\n",
              "      <td>debit_card</td>\n",
              "      <td>2</td>\n",
              "      <td>7.090800e+03</td>\n",
              "    </tr>\n",
              "    <tr>\n",
              "      <th>7</th>\n",
              "      <td>debit_card</td>\n",
              "      <td>3</td>\n",
              "      <td>2.000000e+01</td>\n",
              "    </tr>\n",
              "    <tr>\n",
              "      <th>8</th>\n",
              "      <td>not_defined</td>\n",
              "      <td>1</td>\n",
              "      <td>0.000000e+00</td>\n",
              "    </tr>\n",
              "    <tr>\n",
              "      <th>9</th>\n",
              "      <td>voucher</td>\n",
              "      <td>1</td>\n",
              "      <td>1.572037e+05</td>\n",
              "    </tr>\n",
              "    <tr>\n",
              "      <th>10</th>\n",
              "      <td>voucher</td>\n",
              "      <td>2</td>\n",
              "      <td>1.862162e+05</td>\n",
              "    </tr>\n",
              "    <tr>\n",
              "      <th>11</th>\n",
              "      <td>voucher</td>\n",
              "      <td>3</td>\n",
              "      <td>1.754987e+04</td>\n",
              "    </tr>\n",
              "    <tr>\n",
              "      <th>12</th>\n",
              "      <td>voucher</td>\n",
              "      <td>4</td>\n",
              "      <td>6.467790e+03</td>\n",
              "    </tr>\n",
              "    <tr>\n",
              "      <th>13</th>\n",
              "      <td>voucher</td>\n",
              "      <td>5</td>\n",
              "      <td>4.062300e+03</td>\n",
              "    </tr>\n",
              "    <tr>\n",
              "      <th>14</th>\n",
              "      <td>voucher</td>\n",
              "      <td>6</td>\n",
              "      <td>2.839270e+03</td>\n",
              "    </tr>\n",
              "    <tr>\n",
              "      <th>15</th>\n",
              "      <td>voucher</td>\n",
              "      <td>7</td>\n",
              "      <td>1.695140e+03</td>\n",
              "    </tr>\n",
              "    <tr>\n",
              "      <th>16</th>\n",
              "      <td>voucher</td>\n",
              "      <td>8</td>\n",
              "      <td>7.256200e+02</td>\n",
              "    </tr>\n",
              "    <tr>\n",
              "      <th>17</th>\n",
              "      <td>voucher</td>\n",
              "      <td>9</td>\n",
              "      <td>5.814300e+02</td>\n",
              "    </tr>\n",
              "    <tr>\n",
              "      <th>18</th>\n",
              "      <td>voucher</td>\n",
              "      <td>10</td>\n",
              "      <td>5.309900e+02</td>\n",
              "    </tr>\n",
              "    <tr>\n",
              "      <th>19</th>\n",
              "      <td>voucher</td>\n",
              "      <td>11</td>\n",
              "      <td>3.871900e+02</td>\n",
              "    </tr>\n",
              "    <tr>\n",
              "      <th>20</th>\n",
              "      <td>voucher</td>\n",
              "      <td>12</td>\n",
              "      <td>3.376300e+02</td>\n",
              "    </tr>\n",
              "    <tr>\n",
              "      <th>21</th>\n",
              "      <td>voucher</td>\n",
              "      <td>13</td>\n",
              "      <td>1.140600e+02</td>\n",
              "    </tr>\n",
              "    <tr>\n",
              "      <th>22</th>\n",
              "      <td>voucher</td>\n",
              "      <td>14</td>\n",
              "      <td>1.348100e+02</td>\n",
              "    </tr>\n",
              "    <tr>\n",
              "      <th>23</th>\n",
              "      <td>voucher</td>\n",
              "      <td>15</td>\n",
              "      <td>9.948000e+01</td>\n",
              "    </tr>\n",
              "    <tr>\n",
              "      <th>24</th>\n",
              "      <td>voucher</td>\n",
              "      <td>16</td>\n",
              "      <td>4.864000e+01</td>\n",
              "    </tr>\n",
              "    <tr>\n",
              "      <th>25</th>\n",
              "      <td>voucher</td>\n",
              "      <td>17</td>\n",
              "      <td>3.746000e+01</td>\n",
              "    </tr>\n",
              "    <tr>\n",
              "      <th>26</th>\n",
              "      <td>voucher</td>\n",
              "      <td>18</td>\n",
              "      <td>1.859000e+01</td>\n",
              "    </tr>\n",
              "    <tr>\n",
              "      <th>27</th>\n",
              "      <td>voucher</td>\n",
              "      <td>19</td>\n",
              "      <td>2.092000e+01</td>\n",
              "    </tr>\n",
              "    <tr>\n",
              "      <th>28</th>\n",
              "      <td>voucher</td>\n",
              "      <td>20</td>\n",
              "      <td>1.566900e+02</td>\n",
              "    </tr>\n",
              "    <tr>\n",
              "      <th>29</th>\n",
              "      <td>voucher</td>\n",
              "      <td>21</td>\n",
              "      <td>8.920000e+00</td>\n",
              "    </tr>\n",
              "    <tr>\n",
              "      <th>30</th>\n",
              "      <td>voucher</td>\n",
              "      <td>22</td>\n",
              "      <td>6.140000e+00</td>\n",
              "    </tr>\n",
              "    <tr>\n",
              "      <th>31</th>\n",
              "      <td>voucher</td>\n",
              "      <td>23</td>\n",
              "      <td>1.989000e+01</td>\n",
              "    </tr>\n",
              "    <tr>\n",
              "      <th>32</th>\n",
              "      <td>voucher</td>\n",
              "      <td>24</td>\n",
              "      <td>3.210000e+00</td>\n",
              "    </tr>\n",
              "    <tr>\n",
              "      <th>33</th>\n",
              "      <td>voucher</td>\n",
              "      <td>25</td>\n",
              "      <td>5.210000e+00</td>\n",
              "    </tr>\n",
              "    <tr>\n",
              "      <th>34</th>\n",
              "      <td>voucher</td>\n",
              "      <td>26</td>\n",
              "      <td>5.137000e+01</td>\n",
              "    </tr>\n",
              "    <tr>\n",
              "      <th>35</th>\n",
              "      <td>voucher</td>\n",
              "      <td>27</td>\n",
              "      <td>6.602000e+01</td>\n",
              "    </tr>\n",
              "    <tr>\n",
              "      <th>36</th>\n",
              "      <td>voucher</td>\n",
              "      <td>28</td>\n",
              "      <td>2.905000e+01</td>\n",
              "    </tr>\n",
              "    <tr>\n",
              "      <th>37</th>\n",
              "      <td>voucher</td>\n",
              "      <td>29</td>\n",
              "      <td>1.926000e+01</td>\n",
              "    </tr>\n",
              "  </tbody>\n",
              "</table>\n",
              "</div>"
            ],
            "text/plain": [
              "   payment_type  payment_sequential  payment_value\n",
              "0        boleto                   1   2.869267e+06\n",
              "1        boleto                   2   9.440000e+01\n",
              "2   credit_card                   1   1.249499e+07\n",
              "3   credit_card                   2   4.698913e+04\n",
              "4   credit_card                   3   1.028200e+02\n",
              "5    debit_card                   1   2.108790e+05\n",
              "6    debit_card                   2   7.090800e+03\n",
              "7    debit_card                   3   2.000000e+01\n",
              "8   not_defined                   1   0.000000e+00\n",
              "9       voucher                   1   1.572037e+05\n",
              "10      voucher                   2   1.862162e+05\n",
              "11      voucher                   3   1.754987e+04\n",
              "12      voucher                   4   6.467790e+03\n",
              "13      voucher                   5   4.062300e+03\n",
              "14      voucher                   6   2.839270e+03\n",
              "15      voucher                   7   1.695140e+03\n",
              "16      voucher                   8   7.256200e+02\n",
              "17      voucher                   9   5.814300e+02\n",
              "18      voucher                  10   5.309900e+02\n",
              "19      voucher                  11   3.871900e+02\n",
              "20      voucher                  12   3.376300e+02\n",
              "21      voucher                  13   1.140600e+02\n",
              "22      voucher                  14   1.348100e+02\n",
              "23      voucher                  15   9.948000e+01\n",
              "24      voucher                  16   4.864000e+01\n",
              "25      voucher                  17   3.746000e+01\n",
              "26      voucher                  18   1.859000e+01\n",
              "27      voucher                  19   2.092000e+01\n",
              "28      voucher                  20   1.566900e+02\n",
              "29      voucher                  21   8.920000e+00\n",
              "30      voucher                  22   6.140000e+00\n",
              "31      voucher                  23   1.989000e+01\n",
              "32      voucher                  24   3.210000e+00\n",
              "33      voucher                  25   5.210000e+00\n",
              "34      voucher                  26   5.137000e+01\n",
              "35      voucher                  27   6.602000e+01\n",
              "36      voucher                  28   2.905000e+01\n",
              "37      voucher                  29   1.926000e+01"
            ]
          },
          "metadata": {
            "tags": []
          },
          "execution_count": 13
        }
      ]
    },
    {
      "cell_type": "code",
      "metadata": {
        "colab": {
          "base_uri": "https://localhost:8080/",
          "height": 610
        },
        "id": "PUcPYlD9qsgH",
        "outputId": "21116f49-dc99-45ba-8c1a-9b7a6e803ad2"
      },
      "source": [
        "#DRAFT\n",
        "plot_data = order_payments.groupby('payment_type')['payment_value'].mean().reset_index()\n",
        "plt.figure(figsize=(5, 10))\n",
        "sns.countplot(data=plot_data,\n",
        "              x='payment_type')\n",
        "plt.twinx()\n",
        "sns.lineplot(data=order_payments,\n",
        "             x='payment_type',\n",
        "             y='payment_sequential')\n",
        "plt.show()"
      ],
      "execution_count": null,
      "outputs": [
        {
          "output_type": "display_data",
          "data": {
            "image/png": "[encoded data removed]",
            "text/plain": [
              "<Figure size 360x720 with 2 Axes>"
            ]
          },
          "metadata": {
            "tags": [],
            "needs_background": "light"
          }
        }
      ]
    }
  ]
}