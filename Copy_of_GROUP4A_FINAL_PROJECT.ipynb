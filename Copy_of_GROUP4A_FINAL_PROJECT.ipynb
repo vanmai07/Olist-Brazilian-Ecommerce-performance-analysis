{
  "nbformat": 4,
  "nbformat_minor": 0,
  "metadata": {
    "colab": {
      "provenance": [],
      "collapsed_sections": [
        "s_4EifFRyfTL",
        "HWLdjZ-g1F9L",
        "QbOD-yvpC0ld",
        "LZlurr4eEmvo",
        "vHMjugBvEyI0"
      ],
      "include_colab_link": true
    },
    "kernelspec": {
      "display_name": "Python 3",
      "name": "python3"
    },
    "language_info": {
      "name": "python"
    }
  },
  "cells": [
    {
      "cell_type": "markdown",
      "metadata": {
        "id": "view-in-github",
        "colab_type": "text"
      },
      "source": [
        "<a href=\"https://colab.research.google.com/github/vanmai07/data-analysis-basic/blob/main/Copy_of_GROUP4A_FINAL_PROJECT.ipynb\" target=\"_parent\"><img src=\"https://colab.research.google.com/assets/colab-badge.svg\" alt=\"Open In Colab\"/></a>"
      ]
    },
    {
      "cell_type": "code",
      "metadata": {
        "id": "wTxuQx_MjpZG"
      },
      "source": [
        "import pandas as pd\n",
        "import seaborn as sns\n",
        "import matplotlib.pyplot as plt"
      ],
      "execution_count": null,
      "outputs": []
    },
    {
      "cell_type": "code",
      "metadata": {
        "id": "ZaNLXN25j5aG"
      },
      "source": [
        "order = pd.read_csv('https://raw.githubusercontent.com/anhquan0412/dataset/main/Brazillian_Ecommerce/olist_orders_dataset.csv')\n",
        "order_items = pd.read_csv('https://raw.githubusercontent.com/anhquan0412/dataset/main/Brazillian_Ecommerce/olist_order_items_dataset.csv')\n",
        "order_payments = pd.read_csv('https://raw.githubusercontent.com/anhquan0412/dataset/main/Brazillian_Ecommerce/olist_order_payments_dataset.csv')\n",
        "order_reviews = pd.read_csv('https://raw.githubusercontent.com/anhquan0412/dataset/main/Brazillian_Ecommerce/olist_order_reviews_dataset.csv')"
      ],
      "execution_count": null,
      "outputs": []
    },
    {
      "cell_type": "markdown",
      "metadata": {
        "id": "s_4EifFRyfTL"
      },
      "source": [
        "# I. OverView and Clean Data"
      ]
    },
    {
      "cell_type": "markdown",
      "metadata": {
        "id": "HWLdjZ-g1F9L"
      },
      "source": [
        "##A-Overview"
      ]
    },
    {
      "cell_type": "markdown",
      "metadata": {
        "id": "6E8CCME_pxC1"
      },
      "source": [
        "Data Story:\n",
        "\n",
        "> 1. Overview Monthly Revenue breakdown from 2017-08/2018\n",
        "          *Due to after lanuching there was not much signicant sale in 2016, even no sale in 11 & 12/2016. Thus, only collect data from 01/2017 to 08/2018 which already remove order has status cancelled and unvailable.\n",
        "\n",
        "          *During operation time, there was emerging growth 5 times after 8 months. After that there was a slightly drop but the monthly Revenue is around 8 Millions and above.\n",
        "          *Comparing 2017 VS 2018, we experience that from May to August has pattern of low sale season and gradually grown before hitting in last 3 months of the year.\n",
        "\n",
        "\n",
        "> 2. With the emerging growth trend of platform, we explore a few elements which might contribute to the sucess. \n",
        "\n",
        "          *Delivery processing leadtime is one of elements to platform's sucess. Since the time meet to customers expectation.\n",
        "      \n",
        "          *Overall, the late delivery compare to customer expectation is at 7% compare to On-time delivery. This could be a reason while this Ecoomerce perfomance well in Brazil for a short time. They was able provide an excellent delivery service within leadtime as promised to customers.\n",
        "\n",
        "          *However, from 2017-11 to 2018-03 there was an inreasing of late delivery and also during these peak sale season of the year.\n",
        "\n",
        "          *After 2018-03, the late delivery had declined but extremly but compare to last year 2017 still higher.\n",
        "\n",
        "          *Inclusion, maybe we should have an optimise process to improve the delivery leadtime since Revenue showed decline trend after 2018-05.\n",
        "\n",
        "          *By reviewing on internal order process we found that #79% shipping trễ hơn thời gian limit cho phép & #100% lỗi đơn trễ là do shipping time cao hơn thời gian cho phép\n",
        "\n",
        "\n",
        "\n",
        "> 3. Another element contribute to customer satisfaction is payment method variety.\n",
        "            *Credit card is the number 1 choice for payment type on platform and this reflect that Brazil customers enjoy consuming on credit. \n",
        "            *Boleto and debit card are both online cash payment method but boleto payment tyoe is one fifth compare to credit card and much more selected by customers compared to debit card.\n",
        "            *While voucher is also one of the options for consumer to enjoy shopping online.\n",
        "            *Most of credit card type has function offer installment and 62% Revenue was contributed from Installment payment this can be an USP for platform to offer to customer 0% interest rate this can increase average order value per transaction.\n",
        "\n",
        "\n",
        "\n",
        "> 4. With payment installment is most popular payment option in Brazil, especially on the platform. We explore that if we offer 0% interest rate, average orer value could increase.\n",
        "          * MOST Revenue contribute by 12 MONTH payment term, then 6 months and 3 months. 24 months is a small amount. However, population of 3 months is highest, second player is 6 months then 12 months.\n",
        "          \n",
        "\n",
        "\n",
        "\n",
        "\n",
        "\n",
        "\n",
        "\n",
        "\n",
        "\n"
      ]
    },
    {
      "cell_type": "markdown",
      "metadata": {
        "id": "6qb5bUawpw3J"
      },
      "source": []
    },
    {
      "cell_type": "code",
      "metadata": {
        "colab": {
          "base_uri": "https://localhost:8080/"
        },
        "id": "MAPxhRO-009C",
        "outputId": "2fa1f993-2bb7-4f8d-9e5c-2ae41df7ae01"
      },
      "source": [
        "order.head(1)"
      ],
      "execution_count": null,
      "outputs": [
        {
          "output_type": "execute_result",
          "data": {
            "text/html": [
              "<div>\n",
              "<style scoped>\n",
              "    .dataframe tbody tr th:only-of-type {\n",
              "        vertical-align: middle;\n",
              "    }\n",
              "\n",
              "    .dataframe tbody tr th {\n",
              "        vertical-align: top;\n",
              "    }\n",
              "\n",
              "    .dataframe thead th {\n",
              "        text-align: right;\n",
              "    }\n",
              "</style>\n",
              "<table border=\"1\" class=\"dataframe\">\n",
              "  <thead>\n",
              "    <tr style=\"text-align: right;\">\n",
              "      <th></th>\n",
              "      <th>order_id</th>\n",
              "      <th>customer_id</th>\n",
              "      <th>order_status</th>\n",
              "      <th>order_purchase_timestamp</th>\n",
              "      <th>order_approved_at</th>\n",
              "      <th>order_delivered_carrier_date</th>\n",
              "      <th>order_delivered_customer_date</th>\n",
              "      <th>order_estimated_delivery_date</th>\n",
              "    </tr>\n",
              "  </thead>\n",
              "  <tbody>\n",
              "    <tr>\n",
              "      <th>0</th>\n",
              "      <td>e481f51cbdc54678b7cc49136f2d6af7</td>\n",
              "      <td>9ef432eb6251297304e76186b10a928d</td>\n",
              "      <td>delivered</td>\n",
              "      <td>2017-10-02 10:56:33</td>\n",
              "      <td>2017-10-02 11:07:15</td>\n",
              "      <td>2017-10-04 19:55:00</td>\n",
              "      <td>2017-10-10 21:25:13</td>\n",
              "      <td>2017-10-18 00:00:00</td>\n",
              "    </tr>\n",
              "  </tbody>\n",
              "</table>\n",
              "</div>"
            ],
            "text/plain": [
              "                           order_id  ... order_estimated_delivery_date\n",
              "0  e481f51cbdc54678b7cc49136f2d6af7  ...           2017-10-18 00:00:00\n",
              "\n",
              "[1 rows x 8 columns]"
            ]
          },
          "metadata": {},
          "execution_count": 3
        }
      ]
    },
    {
      "cell_type": "code",
      "metadata": {
        "colab": {
          "base_uri": "https://localhost:8080/"
        },
        "id": "2yLergQE1nk0",
        "outputId": "334ed5c2-ff9a-477a-ebe3-ccb47842416a"
      },
      "source": [
        "order['order_purchase_timestamp'].min()"
      ],
      "execution_count": null,
      "outputs": [
        {
          "output_type": "execute_result",
          "data": {
            "application/vnd.google.colaboratory.intrinsic+json": {
              "type": "string"
            },
            "text/plain": [
              "'2016-09-04 21:15:19'"
            ]
          },
          "metadata": {},
          "execution_count": 4
        }
      ]
    },
    {
      "cell_type": "code",
      "metadata": {
        "colab": {
          "base_uri": "https://localhost:8080/"
        },
        "id": "4KNVOnzp1v1-",
        "outputId": "7b85b675-ad4e-4f4f-a444-ae99772f3ddf"
      },
      "source": [
        "order['order_purchase_timestamp'].max()"
      ],
      "execution_count": null,
      "outputs": [
        {
          "output_type": "execute_result",
          "data": {
            "application/vnd.google.colaboratory.intrinsic+json": {
              "type": "string"
            },
            "text/plain": [
              "'2018-10-17 17:30:18'"
            ]
          },
          "metadata": {},
          "execution_count": 5
        }
      ]
    },
    {
      "cell_type": "markdown",
      "metadata": {
        "id": "4SMC8-_p5o2M"
      },
      "source": [
        "\n",
        "\n",
        "> *Select timeframe 2016-10 to 2018-09\n",
        "\n"
      ]
    },
    {
      "cell_type": "markdown",
      "metadata": {
        "id": "5ykDaSym5oJo"
      },
      "source": []
    },
    {
      "cell_type": "code",
      "metadata": {
        "colab": {
          "base_uri": "https://localhost:8080/"
        },
        "id": "54s-zw6z4Oko",
        "outputId": "6ffd88ad-dea1-4591-8768-c6da98b20e28"
      },
      "source": [
        "order['order_status'].value_counts()"
      ],
      "execution_count": null,
      "outputs": [
        {
          "output_type": "execute_result",
          "data": {
            "text/plain": [
              "delivered      96478\n",
              "shipped         1107\n",
              "canceled         625\n",
              "unavailable      609\n",
              "invoiced         314\n",
              "processing       301\n",
              "created            5\n",
              "approved           2\n",
              "Name: order_status, dtype: int64"
            ]
          },
          "metadata": {},
          "execution_count": 6
        }
      ]
    },
    {
      "cell_type": "code",
      "metadata": {
        "colab": {
          "base_uri": "https://localhost:8080/"
        },
        "id": "z-75M5Q34k43",
        "outputId": "fa3f02b8-f529-4316-8f1c-f63b65a45b3e"
      },
      "source": [
        "#Remove order status: canceled & unavailable\n",
        "order[order['order_status'] == 'unavailable'].head(1)"
      ],
      "execution_count": null,
      "outputs": [
        {
          "output_type": "execute_result",
          "data": {
            "text/html": [
              "<div>\n",
              "<style scoped>\n",
              "    .dataframe tbody tr th:only-of-type {\n",
              "        vertical-align: middle;\n",
              "    }\n",
              "\n",
              "    .dataframe tbody tr th {\n",
              "        vertical-align: top;\n",
              "    }\n",
              "\n",
              "    .dataframe thead th {\n",
              "        text-align: right;\n",
              "    }\n",
              "</style>\n",
              "<table border=\"1\" class=\"dataframe\">\n",
              "  <thead>\n",
              "    <tr style=\"text-align: right;\">\n",
              "      <th></th>\n",
              "      <th>order_id</th>\n",
              "      <th>customer_id</th>\n",
              "      <th>order_status</th>\n",
              "      <th>order_purchase_timestamp</th>\n",
              "      <th>order_approved_at</th>\n",
              "      <th>order_delivered_carrier_date</th>\n",
              "      <th>order_delivered_customer_date</th>\n",
              "      <th>order_estimated_delivery_date</th>\n",
              "    </tr>\n",
              "  </thead>\n",
              "  <tbody>\n",
              "    <tr>\n",
              "      <th>266</th>\n",
              "      <td>8e24261a7e58791d10cb1bf9da94df5c</td>\n",
              "      <td>64a254d30eed42cd0e6c36dddb88adf0</td>\n",
              "      <td>unavailable</td>\n",
              "      <td>2017-11-16 15:09:28</td>\n",
              "      <td>2017-11-16 15:26:57</td>\n",
              "      <td>NaN</td>\n",
              "      <td>NaN</td>\n",
              "      <td>2017-12-05 00:00:00</td>\n",
              "    </tr>\n",
              "  </tbody>\n",
              "</table>\n",
              "</div>"
            ],
            "text/plain": [
              "                             order_id  ... order_estimated_delivery_date\n",
              "266  8e24261a7e58791d10cb1bf9da94df5c  ...           2017-12-05 00:00:00\n",
              "\n",
              "[1 rows x 8 columns]"
            ]
          },
          "metadata": {},
          "execution_count": 7
        }
      ]
    },
    {
      "cell_type": "code",
      "metadata": {
        "colab": {
          "base_uri": "https://localhost:8080/"
        },
        "id": "4DIssfUS08gq",
        "outputId": "f17e2cb5-e26c-4257-8672-3f5fda50a0f5"
      },
      "source": [
        "order_items.head(1)"
      ],
      "execution_count": null,
      "outputs": [
        {
          "output_type": "execute_result",
          "data": {
            "text/html": [
              "<div>\n",
              "<style scoped>\n",
              "    .dataframe tbody tr th:only-of-type {\n",
              "        vertical-align: middle;\n",
              "    }\n",
              "\n",
              "    .dataframe tbody tr th {\n",
              "        vertical-align: top;\n",
              "    }\n",
              "\n",
              "    .dataframe thead th {\n",
              "        text-align: right;\n",
              "    }\n",
              "</style>\n",
              "<table border=\"1\" class=\"dataframe\">\n",
              "  <thead>\n",
              "    <tr style=\"text-align: right;\">\n",
              "      <th></th>\n",
              "      <th>order_id</th>\n",
              "      <th>order_item_id</th>\n",
              "      <th>product_id</th>\n",
              "      <th>seller_id</th>\n",
              "      <th>shipping_limit_date</th>\n",
              "      <th>price</th>\n",
              "      <th>freight_value</th>\n",
              "    </tr>\n",
              "  </thead>\n",
              "  <tbody>\n",
              "    <tr>\n",
              "      <th>0</th>\n",
              "      <td>00010242fe8c5a6d1ba2dd792cb16214</td>\n",
              "      <td>1</td>\n",
              "      <td>4244733e06e7ecb4970a6e2683c13e61</td>\n",
              "      <td>48436dade18ac8b2bce089ec2a041202</td>\n",
              "      <td>2017-09-19 09:45:35</td>\n",
              "      <td>58.9</td>\n",
              "      <td>13.29</td>\n",
              "    </tr>\n",
              "  </tbody>\n",
              "</table>\n",
              "</div>"
            ],
            "text/plain": [
              "                           order_id  order_item_id  ... price freight_value\n",
              "0  00010242fe8c5a6d1ba2dd792cb16214              1  ...  58.9         13.29\n",
              "\n",
              "[1 rows x 7 columns]"
            ]
          },
          "metadata": {},
          "execution_count": 8
        }
      ]
    },
    {
      "cell_type": "code",
      "metadata": {
        "colab": {
          "base_uri": "https://localhost:8080/"
        },
        "id": "nWPG8PPU12LX",
        "outputId": "0fe610e6-0e12-42b4-f901-a3d1599f57bc"
      },
      "source": [
        "order_items['shipping_limit_date'].min()"
      ],
      "execution_count": null,
      "outputs": [
        {
          "output_type": "execute_result",
          "data": {
            "application/vnd.google.colaboratory.intrinsic+json": {
              "type": "string"
            },
            "text/plain": [
              "'2016-09-19 00:15:34'"
            ]
          },
          "metadata": {},
          "execution_count": 9
        }
      ]
    },
    {
      "cell_type": "code",
      "metadata": {
        "colab": {
          "base_uri": "https://localhost:8080/"
        },
        "id": "jS1eq4In1_Om",
        "outputId": "22456a0b-515b-4a2c-99dd-3bdcfae7db16"
      },
      "source": [
        "order_items['shipping_limit_date'].max()"
      ],
      "execution_count": null,
      "outputs": [
        {
          "output_type": "execute_result",
          "data": {
            "application/vnd.google.colaboratory.intrinsic+json": {
              "type": "string"
            },
            "text/plain": [
              "'2020-04-09 22:35:08'"
            ]
          },
          "metadata": {},
          "execution_count": 10
        }
      ]
    },
    {
      "cell_type": "markdown",
      "metadata": {
        "id": "387XigFC6Trq"
      },
      "source": [
        "\n",
        "\n",
        "> **Should limit timeframe same as order table: 2016-10 to 2018-09\n",
        "\n"
      ]
    },
    {
      "cell_type": "code",
      "metadata": {
        "colab": {
          "base_uri": "https://localhost:8080/"
        },
        "id": "tnf_tUUr1CgA",
        "outputId": "a6b86ecc-420e-43c1-b380-051888735b08"
      },
      "source": [
        "order_payments.head(1)"
      ],
      "execution_count": null,
      "outputs": [
        {
          "output_type": "execute_result",
          "data": {
            "text/html": [
              "<div>\n",
              "<style scoped>\n",
              "    .dataframe tbody tr th:only-of-type {\n",
              "        vertical-align: middle;\n",
              "    }\n",
              "\n",
              "    .dataframe tbody tr th {\n",
              "        vertical-align: top;\n",
              "    }\n",
              "\n",
              "    .dataframe thead th {\n",
              "        text-align: right;\n",
              "    }\n",
              "</style>\n",
              "<table border=\"1\" class=\"dataframe\">\n",
              "  <thead>\n",
              "    <tr style=\"text-align: right;\">\n",
              "      <th></th>\n",
              "      <th>order_id</th>\n",
              "      <th>payment_sequential</th>\n",
              "      <th>payment_type</th>\n",
              "      <th>payment_installments</th>\n",
              "      <th>payment_value</th>\n",
              "    </tr>\n",
              "  </thead>\n",
              "  <tbody>\n",
              "    <tr>\n",
              "      <th>0</th>\n",
              "      <td>b81ef226f3fe1789b1e8b2acac839d17</td>\n",
              "      <td>1</td>\n",
              "      <td>credit_card</td>\n",
              "      <td>8</td>\n",
              "      <td>99.33</td>\n",
              "    </tr>\n",
              "  </tbody>\n",
              "</table>\n",
              "</div>"
            ],
            "text/plain": [
              "                           order_id  ...  payment_value\n",
              "0  b81ef226f3fe1789b1e8b2acac839d17  ...          99.33\n",
              "\n",
              "[1 rows x 5 columns]"
            ]
          },
          "metadata": {},
          "execution_count": 11
        }
      ]
    },
    {
      "cell_type": "code",
      "metadata": {
        "colab": {
          "base_uri": "https://localhost:8080/"
        },
        "id": "mXuYDnzQ1e53",
        "outputId": "4a729750-ce98-4b55-e558-d10d4de16f5a"
      },
      "source": [
        "order_reviews.head(1)"
      ],
      "execution_count": null,
      "outputs": [
        {
          "output_type": "execute_result",
          "data": {
            "text/html": [
              "<div>\n",
              "<style scoped>\n",
              "    .dataframe tbody tr th:only-of-type {\n",
              "        vertical-align: middle;\n",
              "    }\n",
              "\n",
              "    .dataframe tbody tr th {\n",
              "        vertical-align: top;\n",
              "    }\n",
              "\n",
              "    .dataframe thead th {\n",
              "        text-align: right;\n",
              "    }\n",
              "</style>\n",
              "<table border=\"1\" class=\"dataframe\">\n",
              "  <thead>\n",
              "    <tr style=\"text-align: right;\">\n",
              "      <th></th>\n",
              "      <th>review_id</th>\n",
              "      <th>order_id</th>\n",
              "      <th>review_score</th>\n",
              "      <th>review_comment_title</th>\n",
              "      <th>review_comment_message</th>\n",
              "      <th>review_creation_date</th>\n",
              "      <th>review_answer_timestamp</th>\n",
              "    </tr>\n",
              "  </thead>\n",
              "  <tbody>\n",
              "    <tr>\n",
              "      <th>0</th>\n",
              "      <td>7bc2406110b926393aa56f80a40eba40</td>\n",
              "      <td>73fc7af87114b39712e6da79b0a377eb</td>\n",
              "      <td>4</td>\n",
              "      <td>NaN</td>\n",
              "      <td>NaN</td>\n",
              "      <td>2018-01-18 00:00:00</td>\n",
              "      <td>2018-01-18 21:46:59</td>\n",
              "    </tr>\n",
              "  </tbody>\n",
              "</table>\n",
              "</div>"
            ],
            "text/plain": [
              "                          review_id  ... review_answer_timestamp\n",
              "0  7bc2406110b926393aa56f80a40eba40  ...     2018-01-18 21:46:59\n",
              "\n",
              "[1 rows x 7 columns]"
            ]
          },
          "metadata": {},
          "execution_count": 12
        }
      ]
    },
    {
      "cell_type": "markdown",
      "metadata": {
        "id": "ILjKVMW92YJu"
      },
      "source": [
        "##B-Clean Data"
      ]
    },
    {
      "cell_type": "markdown",
      "metadata": {
        "id": "UXaxncjb5CPI"
      },
      "source": [
        "1.Select working time frame\n",
        "2.Remove order has status cancelled and unvailable\n",
        "1.Remove order has status cancelled and unavailable ' order table '"
      ]
    },
    {
      "cell_type": "code",
      "metadata": {
        "id": "wVMmqMlOnqry"
      },
      "source": [
        "order_status_lim = order[(order['order_status'] != 'unavailable')&(order['order_status'] !='canceled')] "
      ],
      "execution_count": null,
      "outputs": []
    },
    {
      "cell_type": "markdown",
      "metadata": {
        "id": "PbL89DYk9ncJ"
      },
      "source": [
        "2.Merge table order_status_lim with 'order_items table' & 'order_payments table'to examinate Revenue and Delivery process"
      ]
    },
    {
      "cell_type": "code",
      "metadata": {
        "colab": {
          "base_uri": "https://localhost:8080/"
        },
        "id": "Vl2DDkVa-d-k",
        "outputId": "867ac843-22e7-428c-e3a8-fbfd9723e76d"
      },
      "source": [
        "order_delivery_process = pd.merge(left= order, \n",
        "                          right= order_items, \n",
        "                          on='order_id',\n",
        "                          how='left')\n",
        "order_delivery_process.head(1)"
      ],
      "execution_count": null,
      "outputs": [
        {
          "output_type": "execute_result",
          "data": {
            "text/html": [
              "<div>\n",
              "<style scoped>\n",
              "    .dataframe tbody tr th:only-of-type {\n",
              "        vertical-align: middle;\n",
              "    }\n",
              "\n",
              "    .dataframe tbody tr th {\n",
              "        vertical-align: top;\n",
              "    }\n",
              "\n",
              "    .dataframe thead th {\n",
              "        text-align: right;\n",
              "    }\n",
              "</style>\n",
              "<table border=\"1\" class=\"dataframe\">\n",
              "  <thead>\n",
              "    <tr style=\"text-align: right;\">\n",
              "      <th></th>\n",
              "      <th>order_id</th>\n",
              "      <th>customer_id</th>\n",
              "      <th>order_status</th>\n",
              "      <th>order_purchase_timestamp</th>\n",
              "      <th>order_approved_at</th>\n",
              "      <th>order_delivered_carrier_date</th>\n",
              "      <th>order_delivered_customer_date</th>\n",
              "      <th>order_estimated_delivery_date</th>\n",
              "      <th>order_item_id</th>\n",
              "      <th>product_id</th>\n",
              "      <th>seller_id</th>\n",
              "      <th>shipping_limit_date</th>\n",
              "      <th>price</th>\n",
              "      <th>freight_value</th>\n",
              "    </tr>\n",
              "  </thead>\n",
              "  <tbody>\n",
              "    <tr>\n",
              "      <th>0</th>\n",
              "      <td>e481f51cbdc54678b7cc49136f2d6af7</td>\n",
              "      <td>9ef432eb6251297304e76186b10a928d</td>\n",
              "      <td>delivered</td>\n",
              "      <td>2017-10-02 10:56:33</td>\n",
              "      <td>2017-10-02 11:07:15</td>\n",
              "      <td>2017-10-04 19:55:00</td>\n",
              "      <td>2017-10-10 21:25:13</td>\n",
              "      <td>2017-10-18 00:00:00</td>\n",
              "      <td>1.0</td>\n",
              "      <td>87285b34884572647811a353c7ac498a</td>\n",
              "      <td>3504c0cb71d7fa48d967e0e4c94d59d9</td>\n",
              "      <td>2017-10-06 11:07:15</td>\n",
              "      <td>29.99</td>\n",
              "      <td>8.72</td>\n",
              "    </tr>\n",
              "  </tbody>\n",
              "</table>\n",
              "</div>"
            ],
            "text/plain": [
              "                           order_id  ... freight_value\n",
              "0  e481f51cbdc54678b7cc49136f2d6af7  ...          8.72\n",
              "\n",
              "[1 rows x 14 columns]"
            ]
          },
          "metadata": {},
          "execution_count": 14
        }
      ]
    },
    {
      "cell_type": "code",
      "metadata": {
        "colab": {
          "base_uri": "https://localhost:8080/"
        },
        "id": "tVb-PmgA_-jv",
        "outputId": "723704d3-d3e5-4492-d293-b924b0319c3b"
      },
      "source": [
        "order_payment_process= pd.merge(left= order_delivery_process, \n",
        "                          right= order_payments, \n",
        "                          on='order_id',\n",
        "                          how='left')\n",
        "order_payment_process.head(1)"
      ],
      "execution_count": null,
      "outputs": [
        {
          "output_type": "execute_result",
          "data": {
            "text/html": [
              "<div>\n",
              "<style scoped>\n",
              "    .dataframe tbody tr th:only-of-type {\n",
              "        vertical-align: middle;\n",
              "    }\n",
              "\n",
              "    .dataframe tbody tr th {\n",
              "        vertical-align: top;\n",
              "    }\n",
              "\n",
              "    .dataframe thead th {\n",
              "        text-align: right;\n",
              "    }\n",
              "</style>\n",
              "<table border=\"1\" class=\"dataframe\">\n",
              "  <thead>\n",
              "    <tr style=\"text-align: right;\">\n",
              "      <th></th>\n",
              "      <th>order_id</th>\n",
              "      <th>customer_id</th>\n",
              "      <th>order_status</th>\n",
              "      <th>order_purchase_timestamp</th>\n",
              "      <th>order_approved_at</th>\n",
              "      <th>order_delivered_carrier_date</th>\n",
              "      <th>order_delivered_customer_date</th>\n",
              "      <th>order_estimated_delivery_date</th>\n",
              "      <th>order_item_id</th>\n",
              "      <th>product_id</th>\n",
              "      <th>seller_id</th>\n",
              "      <th>shipping_limit_date</th>\n",
              "      <th>price</th>\n",
              "      <th>freight_value</th>\n",
              "      <th>payment_sequential</th>\n",
              "      <th>payment_type</th>\n",
              "      <th>payment_installments</th>\n",
              "      <th>payment_value</th>\n",
              "    </tr>\n",
              "  </thead>\n",
              "  <tbody>\n",
              "    <tr>\n",
              "      <th>0</th>\n",
              "      <td>e481f51cbdc54678b7cc49136f2d6af7</td>\n",
              "      <td>9ef432eb6251297304e76186b10a928d</td>\n",
              "      <td>delivered</td>\n",
              "      <td>2017-10-02 10:56:33</td>\n",
              "      <td>2017-10-02 11:07:15</td>\n",
              "      <td>2017-10-04 19:55:00</td>\n",
              "      <td>2017-10-10 21:25:13</td>\n",
              "      <td>2017-10-18 00:00:00</td>\n",
              "      <td>1.0</td>\n",
              "      <td>87285b34884572647811a353c7ac498a</td>\n",
              "      <td>3504c0cb71d7fa48d967e0e4c94d59d9</td>\n",
              "      <td>2017-10-06 11:07:15</td>\n",
              "      <td>29.99</td>\n",
              "      <td>8.72</td>\n",
              "      <td>1.0</td>\n",
              "      <td>credit_card</td>\n",
              "      <td>1.0</td>\n",
              "      <td>18.12</td>\n",
              "    </tr>\n",
              "  </tbody>\n",
              "</table>\n",
              "</div>"
            ],
            "text/plain": [
              "                           order_id  ... payment_value\n",
              "0  e481f51cbdc54678b7cc49136f2d6af7  ...         18.12\n",
              "\n",
              "[1 rows x 18 columns]"
            ]
          },
          "metadata": {},
          "execution_count": 15
        }
      ]
    },
    {
      "cell_type": "code",
      "metadata": {
        "id": "_8dqyLhWBCVE",
        "colab": {
          "base_uri": "https://localhost:8080/"
        },
        "outputId": "3ef98533-2c1f-47d8-be74-573c6a67e3ab"
      },
      "source": [
        "order_payment_process['order_status'].value_counts()"
      ],
      "execution_count": null,
      "outputs": [
        {
          "output_type": "execute_result",
          "data": {
            "text/plain": [
              "delivered      115038\n",
              "shipped          1245\n",
              "canceled          745\n",
              "unavailable       650\n",
              "processing        375\n",
              "invoiced          373\n",
              "created             5\n",
              "approved            3\n",
              "Name: order_status, dtype: int64"
            ]
          },
          "metadata": {},
          "execution_count": 16
        }
      ]
    },
    {
      "cell_type": "code",
      "metadata": {
        "id": "qByHOoJgAZBK"
      },
      "source": [
        "##Remove order has status 'Cancelled & Unavailable' - 2nd times after merge\n",
        "order_payment_process_lim=order_payment_process[(order_payment_process['order_status'] != 'canceled') & (order_payment_process['order_status'] != 'unavailable')]"
      ],
      "execution_count": null,
      "outputs": []
    },
    {
      "cell_type": "code",
      "metadata": {
        "colab": {
          "base_uri": "https://localhost:8080/"
        },
        "id": "drIUs1aGDYRa",
        "outputId": "814b7356-b46c-4762-94eb-41a07f5fb52d"
      },
      "source": [
        "#Reselect data from timeframe 2016-10 to 2018-09\n",
        "order_payment_process_lim = order_payment_process_lim[(order_payment_process_lim['order_purchase_timestamp'] < '2018-10') & (order_payment_process_lim['order_purchase_timestamp'] > '2016-09')]\n",
        "order_payment_process_lim.info()"
      ],
      "execution_count": null,
      "outputs": [
        {
          "output_type": "stream",
          "text": [
            "<class 'pandas.core.frame.DataFrame'>\n",
            "Int64Index: 117039 entries, 0 to 118433\n",
            "Data columns (total 18 columns):\n",
            " #   Column                         Non-Null Count   Dtype  \n",
            "---  ------                         --------------   -----  \n",
            " 0   order_id                       117039 non-null  object \n",
            " 1   customer_id                    117039 non-null  object \n",
            " 2   order_status                   117039 non-null  object \n",
            " 3   order_purchase_timestamp       117039 non-null  object \n",
            " 4   order_approved_at              117019 non-null  object \n",
            " 5   order_delivered_carrier_date   116281 non-null  object \n",
            " 6   order_delivered_customer_date  115030 non-null  object \n",
            " 7   order_estimated_delivery_date  117039 non-null  object \n",
            " 8   order_item_id                  117031 non-null  float64\n",
            " 9   product_id                     117031 non-null  object \n",
            " 10  seller_id                      117031 non-null  object \n",
            " 11  shipping_limit_date            117031 non-null  object \n",
            " 12  price                          117031 non-null  float64\n",
            " 13  freight_value                  117031 non-null  float64\n",
            " 14  payment_sequential             117036 non-null  float64\n",
            " 15  payment_type                   117036 non-null  object \n",
            " 16  payment_installments           117036 non-null  float64\n",
            " 17  payment_value                  117036 non-null  float64\n",
            "dtypes: float64(6), object(12)\n",
            "memory usage: 17.0+ MB\n"
          ],
          "name": "stdout"
        }
      ]
    },
    {
      "cell_type": "markdown",
      "metadata": {
        "id": "QbOD-yvpC0ld"
      },
      "source": [
        "# Feature Engineer"
      ]
    },
    {
      "cell_type": "code",
      "metadata": {
        "id": "tlhIBgg2sojV",
        "colab": {
          "base_uri": "https://localhost:8080/",
          "height": 117
        },
        "outputId": "43025e0e-677c-4281-eaa2-d73a38a56814"
      },
      "source": [
        "#1. Calculate Revenue \n",
        "order_payment_process_lim['Revenue'] = order_payment_process_lim['order_item_id'] * order_payment_process_lim['price']\n",
        "order_payment_process_lim.head(1)"
      ],
      "execution_count": null,
      "outputs": [
        {
          "output_type": "execute_result",
          "data": {
            "text/html": [
              "<div>\n",
              "<style scoped>\n",
              "    .dataframe tbody tr th:only-of-type {\n",
              "        vertical-align: middle;\n",
              "    }\n",
              "\n",
              "    .dataframe tbody tr th {\n",
              "        vertical-align: top;\n",
              "    }\n",
              "\n",
              "    .dataframe thead th {\n",
              "        text-align: right;\n",
              "    }\n",
              "</style>\n",
              "<table border=\"1\" class=\"dataframe\">\n",
              "  <thead>\n",
              "    <tr style=\"text-align: right;\">\n",
              "      <th></th>\n",
              "      <th>order_id</th>\n",
              "      <th>customer_id</th>\n",
              "      <th>order_status</th>\n",
              "      <th>order_purchase_timestamp</th>\n",
              "      <th>order_approved_at</th>\n",
              "      <th>order_delivered_carrier_date</th>\n",
              "      <th>order_delivered_customer_date</th>\n",
              "      <th>order_estimated_delivery_date</th>\n",
              "      <th>order_item_id</th>\n",
              "      <th>product_id</th>\n",
              "      <th>seller_id</th>\n",
              "      <th>shipping_limit_date</th>\n",
              "      <th>price</th>\n",
              "      <th>freight_value</th>\n",
              "      <th>payment_sequential</th>\n",
              "      <th>payment_type</th>\n",
              "      <th>payment_installments</th>\n",
              "      <th>payment_value</th>\n",
              "      <th>Revenue</th>\n",
              "    </tr>\n",
              "  </thead>\n",
              "  <tbody>\n",
              "    <tr>\n",
              "      <th>0</th>\n",
              "      <td>e481f51cbdc54678b7cc49136f2d6af7</td>\n",
              "      <td>9ef432eb6251297304e76186b10a928d</td>\n",
              "      <td>delivered</td>\n",
              "      <td>2017-10-02 10:56:33</td>\n",
              "      <td>2017-10-02 11:07:15</td>\n",
              "      <td>2017-10-04 19:55:00</td>\n",
              "      <td>2017-10-10 21:25:13</td>\n",
              "      <td>2017-10-18 00:00:00</td>\n",
              "      <td>1.0</td>\n",
              "      <td>87285b34884572647811a353c7ac498a</td>\n",
              "      <td>3504c0cb71d7fa48d967e0e4c94d59d9</td>\n",
              "      <td>2017-10-06 11:07:15</td>\n",
              "      <td>29.99</td>\n",
              "      <td>8.72</td>\n",
              "      <td>1.0</td>\n",
              "      <td>credit_card</td>\n",
              "      <td>1.0</td>\n",
              "      <td>18.12</td>\n",
              "      <td>29.99</td>\n",
              "    </tr>\n",
              "  </tbody>\n",
              "</table>\n",
              "</div>"
            ],
            "text/plain": [
              "                           order_id  ... Revenue\n",
              "0  e481f51cbdc54678b7cc49136f2d6af7  ...   29.99\n",
              "\n",
              "[1 rows x 19 columns]"
            ]
          },
          "metadata": {},
          "execution_count": 19
        }
      ]
    },
    {
      "cell_type": "code",
      "metadata": {
        "id": "xQRrIehZIIBv"
      },
      "source": [
        "#2.Change to datatime\n",
        "order_payment_process_lim['order_purchase_timestamp'] = pd.to_datetime(order_payment_process_lim['order_purchase_timestamp'])\n",
        "order_payment_process_lim['order_approved_at'] = pd.to_datetime(order_payment_process_lim['order_approved_at'])\n",
        "order_payment_process_lim['order_delivered_carrier_date'] = pd.to_datetime(order_payment_process_lim['order_delivered_carrier_date'])\n",
        "order_payment_process_lim['order_delivered_customer_date'] = pd.to_datetime(order_payment_process_lim['order_delivered_customer_date'])\n",
        "order_payment_process_lim['order_estimated_delivery_date'] = pd.to_datetime(order_payment_process_lim['order_estimated_delivery_date'])\n",
        "order_payment_process_lim['shipping_limit_date'] = pd.to_datetime(order_payment_process_lim['shipping_limit_date'])"
      ],
      "execution_count": null,
      "outputs": []
    },
    {
      "cell_type": "code",
      "metadata": {
        "id": "829y7floCagv"
      },
      "source": [
        "order_payment_process_lim['order_purchase_timestamp'] = pd.to_datetime(order_payment_process_lim['order_purchase_timestamp'].dt.date)\n",
        "order_payment_process_lim['order_approved_at'] = pd.to_datetime(order_payment_process_lim['order_approved_at'].dt.date)\n",
        "order_payment_process_lim['order_delivered_carrier_date'] = pd.to_datetime(order_payment_process_lim['order_delivered_carrier_date'].dt.date)\n",
        "order_payment_process_lim['order_delivered_customer_date'] = pd.to_datetime(order_payment_process_lim['order_delivered_customer_date'].dt.date)\n",
        "order_payment_process_lim['order_estimated_delivery_date'] = pd.to_datetime(order_payment_process_lim['order_estimated_delivery_date'].dt.date)\n",
        "order_payment_process_lim['shipping_limit_date'] = pd.to_datetime(order_payment_process_lim['shipping_limit_date'].dt.date)\n"
      ],
      "execution_count": null,
      "outputs": []
    },
    {
      "cell_type": "code",
      "metadata": {
        "id": "kuHZfmEhG5LD"
      },
      "source": [
        "#3.Classified YearMonth\n",
        "order_payment_process_lim['YearMonth'] = order_payment_process_lim['order_purchase_timestamp'].dt.to_period('M')"
      ],
      "execution_count": null,
      "outputs": []
    },
    {
      "cell_type": "code",
      "metadata": {
        "colab": {
          "base_uri": "https://localhost:8080/",
          "height": 339
        },
        "id": "9wUvbLqhFGog",
        "outputId": "073d2306-dee3-443e-9237-21792cf87925"
      },
      "source": [
        "#Dont Run This code\n",
        "order_payment_process_lim.groupby('YearMonth')['Revenue'].sum().plot(kind='bar')"
      ],
      "execution_count": null,
      "outputs": [
        {
          "output_type": "execute_result",
          "data": {
            "text/plain": [
              "<matplotlib.axes._subplots.AxesSubplot at 0x7f0e0f38f250>"
            ]
          },
          "metadata": {},
          "execution_count": 23
        },
        {
          "output_type": "display_data",
          "data": {
            "image/png": "[encoded data removed]",
            "text/plain": [
              "<Figure size 432x288 with 1 Axes>"
            ]
          },
          "metadata": {
            "needs_background": "light"
          }
        }
      ]
    },
    {
      "cell_type": "code",
      "metadata": {
        "colab": {
          "base_uri": "https://localhost:8080/",
          "height": 339
        },
        "id": "_K4Zf-l3FGbt",
        "outputId": "02e7e7c0-6972-40aa-a81c-d40807692642"
      },
      "source": [
        "#4.Due to after lanuching there was not much signicant sale in 2016, even no sale in 11 & 12/2016. Thus, only collect data from 01/2017 to 08/2018 which already remove order has status cancelled and unvailable.\n",
        "order_payment_process_lim=order_payment_process_lim[(order_payment_process_lim['YearMonth'] >'2016-12') & (order_payment_process_lim['YearMonth'] < '2018-09')]\n",
        "order_payment_process_lim.groupby('YearMonth')['Revenue'].sum().plot(kind='bar')\n"
      ],
      "execution_count": null,
      "outputs": [
        {
          "output_type": "execute_result",
          "data": {
            "text/plain": [
              "<matplotlib.axes._subplots.AxesSubplot at 0x7f0e0f252810>"
            ]
          },
          "metadata": {},
          "execution_count": 24
        },
        {
          "output_type": "display_data",
          "data": {
            "image/png": "[encoded data removed]",
            "text/plain": [
              "<Figure size 432x288 with 1 Axes>"
            ]
          },
          "metadata": {
            "needs_background": "light"
          }
        }
      ]
    },
    {
      "cell_type": "code",
      "metadata": {
        "id": "Jn5PJ5idMdQM"
      },
      "source": [],
      "execution_count": null,
      "outputs": []
    },
    {
      "cell_type": "code",
      "metadata": {
        "colab": {
          "base_uri": "https://localhost:8080/"
        },
        "id": "Mt4MRJm8cP_O",
        "outputId": "9794fff0-7943-431f-83da-e952c1bc61ba"
      },
      "source": [
        "how_order_payment_process_lim['Revenue'].sum()"
      ],
      "execution_count": null,
      "outputs": [
        {
          "output_type": "execute_result",
          "data": {
            "text/plain": [
              "1111507.88"
            ]
          },
          "metadata": {},
          "execution_count": 39
        }
      ]
    },
    {
      "cell_type": "markdown",
      "metadata": {
        "id": "iwbKbXBvy3u2"
      },
      "source": [
        "# II. Analyse Customer Experience & Satisfaction by Delivery\n",
        "\n",
        "---\n",
        "1. Revenue breakdown by month\n",
        "2. Internal process analyse\n",
        "3. Deep dive:\n",
        "- Tương quan thời gian giao hàng & revenue\n",
        "- Tương quan thời gian giao hàng (đơn trễ) & review\n",
        "\n"
      ]
    },
    {
      "cell_type": "markdown",
      "metadata": {
        "id": "LZlurr4eEmvo"
      },
      "source": [
        "# A1 - Customer Experience"
      ]
    },
    {
      "cell_type": "code",
      "metadata": {
        "colab": {
          "base_uri": "https://localhost:8080/",
          "height": 339
        },
        "id": "ubjmljgNcFr8",
        "outputId": "44e10d70-d179-4b75-85ad-53325c039d82"
      },
      "source": [
        "#1.Monthly Revenue breakdown from 2017-08/2018\n",
        "#During operation time, there was emerging growth 5 times after 8 months. After that there was a slightly drop but the monthly Revenue is around 8 Millions and above.\n",
        "#Comparing 2017 VS 2018, we experience that from May to August has pattern of low sale season and gradually grown before hitting in last 3 months of the year.\n",
        "\n",
        "order_payment_process_lim.groupby('YearMonth')['Revenue'].sum().plot(kind='bar')"
      ],
      "execution_count": null,
      "outputs": [
        {
          "output_type": "execute_result",
          "data": {
            "text/plain": [
              "<matplotlib.axes._subplots.AxesSubplot at 0x7f0e16f9f950>"
            ]
          },
          "metadata": {},
          "execution_count": 25
        },
        {
          "output_type": "display_data",
          "data": {
            "image/png": "[encoded data removed]",
            "text/plain": [
              "<Figure size 432x288 with 1 Axes>"
            ]
          },
          "metadata": {
            "needs_background": "light"
          }
        }
      ]
    },
    {
      "cell_type": "code",
      "metadata": {
        "id": "cRHkdUGqOT1q",
        "colab": {
          "base_uri": "https://localhost:8080/",
          "height": 100
        },
        "outputId": "9add31c7-956c-4fe4-cca1-95d8b09a5509"
      },
      "source": [
        "#2. Calculation internal processing order and leadtime.Only Select data has order has delivery status.\n",
        "how_order_payment_process_lim = order_payment_process_lim[order_payment_process_lim['order_status'] == 'delivered']\n",
        "how_order_payment_process_lim.head(1)"
      ],
      "execution_count": null,
      "outputs": [
        {
          "output_type": "execute_result",
          "data": {
            "text/html": [
              "<div>\n",
              "<style scoped>\n",
              "    .dataframe tbody tr th:only-of-type {\n",
              "        vertical-align: middle;\n",
              "    }\n",
              "\n",
              "    .dataframe tbody tr th {\n",
              "        vertical-align: top;\n",
              "    }\n",
              "\n",
              "    .dataframe thead th {\n",
              "        text-align: right;\n",
              "    }\n",
              "</style>\n",
              "<table border=\"1\" class=\"dataframe\">\n",
              "  <thead>\n",
              "    <tr style=\"text-align: right;\">\n",
              "      <th></th>\n",
              "      <th>order_id</th>\n",
              "      <th>customer_id</th>\n",
              "      <th>order_status</th>\n",
              "      <th>order_purchase_timestamp</th>\n",
              "      <th>order_approved_at</th>\n",
              "      <th>order_delivered_carrier_date</th>\n",
              "      <th>order_delivered_customer_date</th>\n",
              "      <th>order_estimated_delivery_date</th>\n",
              "      <th>order_item_id</th>\n",
              "      <th>product_id</th>\n",
              "      <th>seller_id</th>\n",
              "      <th>shipping_limit_date</th>\n",
              "      <th>price</th>\n",
              "      <th>freight_value</th>\n",
              "      <th>payment_sequential</th>\n",
              "      <th>payment_type</th>\n",
              "      <th>payment_installments</th>\n",
              "      <th>payment_value</th>\n",
              "      <th>Revenue</th>\n",
              "      <th>YearMonth</th>\n",
              "    </tr>\n",
              "  </thead>\n",
              "  <tbody>\n",
              "    <tr>\n",
              "      <th>0</th>\n",
              "      <td>e481f51cbdc54678b7cc49136f2d6af7</td>\n",
              "      <td>9ef432eb6251297304e76186b10a928d</td>\n",
              "      <td>delivered</td>\n",
              "      <td>2017-10-02</td>\n",
              "      <td>2017-10-02</td>\n",
              "      <td>2017-10-04</td>\n",
              "      <td>2017-10-10</td>\n",
              "      <td>2017-10-18</td>\n",
              "      <td>1.0</td>\n",
              "      <td>87285b34884572647811a353c7ac498a</td>\n",
              "      <td>3504c0cb71d7fa48d967e0e4c94d59d9</td>\n",
              "      <td>2017-10-06</td>\n",
              "      <td>29.99</td>\n",
              "      <td>8.72</td>\n",
              "      <td>1.0</td>\n",
              "      <td>credit_card</td>\n",
              "      <td>1.0</td>\n",
              "      <td>18.12</td>\n",
              "      <td>29.99</td>\n",
              "      <td>2017-10</td>\n",
              "    </tr>\n",
              "  </tbody>\n",
              "</table>\n",
              "</div>"
            ],
            "text/plain": [
              "                           order_id  ... YearMonth\n",
              "0  e481f51cbdc54678b7cc49136f2d6af7  ...   2017-10\n",
              "\n",
              "[1 rows x 20 columns]"
            ]
          },
          "metadata": {},
          "execution_count": 26
        }
      ]
    },
    {
      "cell_type": "code",
      "metadata": {
        "id": "G-rMwr0EP6NW",
        "colab": {
          "base_uri": "https://localhost:8080/",
          "height": 508
        },
        "outputId": "5aa3944c-6f3d-4083-c5f5-6d09cfb9ec5e"
      },
      "source": [
        "#comparision lead time for all order has status = deliveried\n",
        "how_order_payment_process_lim['actual_process'] = how_order_payment_process_lim['order_delivered_customer_date'] - how_order_payment_process_lim['order_purchase_timestamp']\n",
        "how_order_payment_process_lim['estimated_delivery_date'] = how_order_payment_process_lim['order_estimated_delivery_date'] - how_order_payment_process_lim['order_purchase_timestamp']\n",
        "how_order_payment_process_lim['shipping'] = how_order_payment_process_lim['order_delivered_customer_date'] - how_order_payment_process_lim['order_delivered_carrier_date']\n",
        "how_order_payment_process_lim['limited_shipping_date'] = how_order_payment_process_lim['shipping_limit_date'] - how_order_payment_process_lim['order_delivered_carrier_date']\n",
        "how_order_payment_process_lim.head(1)"
      ],
      "execution_count": null,
      "outputs": [
        {
          "output_type": "stream",
          "text": [
            "/usr/local/lib/python3.7/dist-packages/ipykernel_launcher.py:2: SettingWithCopyWarning: \n",
            "A value is trying to be set on a copy of a slice from a DataFrame.\n",
            "Try using .loc[row_indexer,col_indexer] = value instead\n",
            "\n",
            "See the caveats in the documentation: https://pandas.pydata.org/pandas-docs/stable/user_guide/indexing.html#returning-a-view-versus-a-copy\n",
            "  \n",
            "/usr/local/lib/python3.7/dist-packages/ipykernel_launcher.py:3: SettingWithCopyWarning: \n",
            "A value is trying to be set on a copy of a slice from a DataFrame.\n",
            "Try using .loc[row_indexer,col_indexer] = value instead\n",
            "\n",
            "See the caveats in the documentation: https://pandas.pydata.org/pandas-docs/stable/user_guide/indexing.html#returning-a-view-versus-a-copy\n",
            "  This is separate from the ipykernel package so we can avoid doing imports until\n",
            "/usr/local/lib/python3.7/dist-packages/ipykernel_launcher.py:4: SettingWithCopyWarning: \n",
            "A value is trying to be set on a copy of a slice from a DataFrame.\n",
            "Try using .loc[row_indexer,col_indexer] = value instead\n",
            "\n",
            "See the caveats in the documentation: https://pandas.pydata.org/pandas-docs/stable/user_guide/indexing.html#returning-a-view-versus-a-copy\n",
            "  after removing the cwd from sys.path.\n",
            "/usr/local/lib/python3.7/dist-packages/ipykernel_launcher.py:5: SettingWithCopyWarning: \n",
            "A value is trying to be set on a copy of a slice from a DataFrame.\n",
            "Try using .loc[row_indexer,col_indexer] = value instead\n",
            "\n",
            "See the caveats in the documentation: https://pandas.pydata.org/pandas-docs/stable/user_guide/indexing.html#returning-a-view-versus-a-copy\n",
            "  \"\"\"\n"
          ],
          "name": "stderr"
        },
        {
          "output_type": "execute_result",
          "data": {
            "text/html": [
              "<div>\n",
              "<style scoped>\n",
              "    .dataframe tbody tr th:only-of-type {\n",
              "        vertical-align: middle;\n",
              "    }\n",
              "\n",
              "    .dataframe tbody tr th {\n",
              "        vertical-align: top;\n",
              "    }\n",
              "\n",
              "    .dataframe thead th {\n",
              "        text-align: right;\n",
              "    }\n",
              "</style>\n",
              "<table border=\"1\" class=\"dataframe\">\n",
              "  <thead>\n",
              "    <tr style=\"text-align: right;\">\n",
              "      <th></th>\n",
              "      <th>order_id</th>\n",
              "      <th>customer_id</th>\n",
              "      <th>order_status</th>\n",
              "      <th>order_purchase_timestamp</th>\n",
              "      <th>order_approved_at</th>\n",
              "      <th>order_delivered_carrier_date</th>\n",
              "      <th>order_delivered_customer_date</th>\n",
              "      <th>order_estimated_delivery_date</th>\n",
              "      <th>order_item_id</th>\n",
              "      <th>product_id</th>\n",
              "      <th>seller_id</th>\n",
              "      <th>shipping_limit_date</th>\n",
              "      <th>price</th>\n",
              "      <th>freight_value</th>\n",
              "      <th>payment_sequential</th>\n",
              "      <th>payment_type</th>\n",
              "      <th>payment_installments</th>\n",
              "      <th>payment_value</th>\n",
              "      <th>Revenue</th>\n",
              "      <th>YearMonth</th>\n",
              "      <th>actual_process</th>\n",
              "      <th>estimated_delivery_date</th>\n",
              "      <th>shipping</th>\n",
              "      <th>limited_shipping_date</th>\n",
              "    </tr>\n",
              "  </thead>\n",
              "  <tbody>\n",
              "    <tr>\n",
              "      <th>0</th>\n",
              "      <td>e481f51cbdc54678b7cc49136f2d6af7</td>\n",
              "      <td>9ef432eb6251297304e76186b10a928d</td>\n",
              "      <td>delivered</td>\n",
              "      <td>2017-10-02</td>\n",
              "      <td>2017-10-02</td>\n",
              "      <td>2017-10-04</td>\n",
              "      <td>2017-10-10</td>\n",
              "      <td>2017-10-18</td>\n",
              "      <td>1.0</td>\n",
              "      <td>87285b34884572647811a353c7ac498a</td>\n",
              "      <td>3504c0cb71d7fa48d967e0e4c94d59d9</td>\n",
              "      <td>2017-10-06</td>\n",
              "      <td>29.99</td>\n",
              "      <td>8.72</td>\n",
              "      <td>1.0</td>\n",
              "      <td>credit_card</td>\n",
              "      <td>1.0</td>\n",
              "      <td>18.12</td>\n",
              "      <td>29.99</td>\n",
              "      <td>2017-10</td>\n",
              "      <td>8 days</td>\n",
              "      <td>16 days</td>\n",
              "      <td>6 days</td>\n",
              "      <td>2 days</td>\n",
              "    </tr>\n",
              "  </tbody>\n",
              "</table>\n",
              "</div>"
            ],
            "text/plain": [
              "                           order_id  ... limited_shipping_date\n",
              "0  e481f51cbdc54678b7cc49136f2d6af7  ...                2 days\n",
              "\n",
              "[1 rows x 24 columns]"
            ]
          },
          "metadata": {},
          "execution_count": 27
        }
      ]
    },
    {
      "cell_type": "code",
      "metadata": {
        "id": "TZl-4IlbSJWP",
        "colab": {
          "base_uri": "https://localhost:8080/"
        },
        "outputId": "6d59fed4-4289-4f7b-e286-ea1a198eec13"
      },
      "source": [
        "#Change days for calculation\n",
        "how_order_payment_process_lim['actual_process'].dt.days\n",
        "how_order_payment_process_lim['estimated_delivery_date'].dt.days"
      ],
      "execution_count": null,
      "outputs": [
        {
          "output_type": "execute_result",
          "data": {
            "text/plain": [
              "0         16\n",
              "1         16\n",
              "2         16\n",
              "3         20\n",
              "4         27\n",
              "          ..\n",
              "118429    24\n",
              "118430    31\n",
              "118431    38\n",
              "118432    38\n",
              "118433    26\n",
              "Name: estimated_delivery_date, Length: 114704, dtype: int64"
            ]
          },
          "metadata": {},
          "execution_count": 28
        }
      ]
    },
    {
      "cell_type": "code",
      "metadata": {
        "id": "Xv8A4pS2PnMV"
      },
      "source": [
        "#Classified delivery leadtime compare to customer expectation when system notified to customers when they place order\n",
        "def check_due(row):\n",
        "    \n",
        "    if row['actual_process'] > row['estimated_delivery_date']:\n",
        "        return 'Late'\n",
        "    else: # row['actual_process'] < row['estimated_delivery_date']:\n",
        "        return 'On-time'"
      ],
      "execution_count": null,
      "outputs": []
    },
    {
      "cell_type": "code",
      "metadata": {
        "id": "5NPofmT7P9PN",
        "colab": {
          "base_uri": "https://localhost:8080/"
        },
        "outputId": "cbdb82b5-9119-4586-b627-7ee2aeb4d1f2"
      },
      "source": [
        "#Leadtime status overall\n",
        "how_order_payment_process_lim['delivery_status'] = how_order_payment_process_lim.apply(check_due, axis=1)\n",
        "how_order_payment_process_lim['delivery_status'].value_counts().loc['Late']/how_order_payment_process_lim['delivery_status'].value_counts().loc['On-time']"
      ],
      "execution_count": null,
      "outputs": [
        {
          "output_type": "stream",
          "text": [
            "/usr/local/lib/python3.7/dist-packages/ipykernel_launcher.py:2: SettingWithCopyWarning: \n",
            "A value is trying to be set on a copy of a slice from a DataFrame.\n",
            "Try using .loc[row_indexer,col_indexer] = value instead\n",
            "\n",
            "See the caveats in the documentation: https://pandas.pydata.org/pandas-docs/stable/user_guide/indexing.html#returning-a-view-versus-a-copy\n",
            "  \n"
          ],
          "name": "stderr"
        },
        {
          "output_type": "execute_result",
          "data": {
            "text/plain": [
              "0.07019966411643963"
            ]
          },
          "metadata": {},
          "execution_count": 30
        }
      ]
    },
    {
      "cell_type": "code",
      "metadata": {
        "id": "AgHf0OHGfom1",
        "colab": {
          "base_uri": "https://localhost:8080/",
          "height": 850
        },
        "outputId": "39044c7a-8572-4b53-af4d-670f8ff4415e"
      },
      "source": [
        "#3.Relation between monthly Revenue ~ Delivery leadtime\n",
        "plt.figure(figsize=(25,8))\n",
        "plt.subplot(121)\n",
        "order_payment_process_lim.groupby('YearMonth')['Revenue'].sum().plot(kind='bar')\n",
        "plt.title('Revenue by YearMonth')\n",
        "plt.ylabel('Revenue')\n",
        "\n",
        "plt.twinx()\n",
        "plt.subplot(122) \n",
        "pd.pivot_table(how_order_payment_process_lim,\n",
        "                index='YearMonth',\n",
        "                columns='delivery_status',\n",
        "                values='Revenue',\n",
        "                aggfunc='sum').plot(kind='bar', stacked=True)\n",
        "plt.ylabel('Revenue')\n",
        "\n",
        "plt.show()"
      ],
      "execution_count": null,
      "outputs": [
        {
          "output_type": "display_data",
          "data": {
            "image/png": "[encoded data removed]",
            "text/plain": [
              "<Figure size 1800x576 with 3 Axes>"
            ]
          },
          "metadata": {
            "needs_background": "light"
          }
        },
        {
          "output_type": "display_data",
          "data": {
            "image/png": "[encoded data removed]",
            "text/plain": [
              "<Figure size 432x288 with 1 Axes>"
            ]
          },
          "metadata": {
            "needs_background": "light"
          }
        }
      ]
    },
    {
      "cell_type": "markdown",
      "metadata": {
        "id": "DgbGdRswj77o"
      },
      "source": [
        "Overall, the late delivery compare to customer expectation is at 7% compare to On-time delivery. This could be a reason while this Ecoomerce perfomance well in Brazil for a short time. They was able provide an excellent delivery service within leadtime as promised to customers.\n",
        "\n",
        "However, from 2017-11 to 2018-03 there was an inreasing of late delivery and also during these peak sale season of the year. \n",
        "\n",
        "After 2018-03, the late delivery had declined but extremly but compare to last year 2017 still higher. \n",
        "\n",
        "Inclusion, maybe we should have an optimise process to improve the delivery leadtime since Revenue showed decline trend after 2018-05."
      ]
    },
    {
      "cell_type": "code",
      "metadata": {
        "id": "Mjw2HSkpQNX6"
      },
      "source": [
        "#Xác định nguyên nhân trễ (so sánh actual time vs shipping limit date => nếu phải thì là do shipper => nếu ko phải thì là do hệ thống hoặc seller)\n",
        "def check_ship(row):\n",
        "    \n",
        "    if row['shipping'] > row['limited_shipping_date']:\n",
        "        return 'Late'\n",
        "    else: # row['shipping'] < row['limited_shipping_date']:\n",
        "        return 'On-time'"
      ],
      "execution_count": null,
      "outputs": []
    },
    {
      "cell_type": "code",
      "metadata": {
        "id": "nojSOCv9yPab",
        "colab": {
          "base_uri": "https://localhost:8080/",
          "height": 213
        },
        "outputId": "b6d8af71-abcd-4408-980c-0d9b0396449d"
      },
      "source": [
        "#79% shipping trễ hơn thời gian limit cho phép\n",
        "how_order_payment_process_lim['shipping_status'] = how_order_payment_process_lim.apply(check_ship, axis=1)\n",
        "how_order_payment_process_lim.head()\n",
        "how_order_payment_process_lim.groupby('shipping_status')['order_id'].count().reset_index()"
      ],
      "execution_count": null,
      "outputs": [
        {
          "output_type": "stream",
          "text": [
            "/usr/local/lib/python3.7/dist-packages/ipykernel_launcher.py:2: SettingWithCopyWarning: \n",
            "A value is trying to be set on a copy of a slice from a DataFrame.\n",
            "Try using .loc[row_indexer,col_indexer] = value instead\n",
            "\n",
            "See the caveats in the documentation: https://pandas.pydata.org/pandas-docs/stable/user_guide/indexing.html#returning-a-view-versus-a-copy\n",
            "  \n"
          ],
          "name": "stderr"
        },
        {
          "output_type": "execute_result",
          "data": {
            "text/html": [
              "<div>\n",
              "<style scoped>\n",
              "    .dataframe tbody tr th:only-of-type {\n",
              "        vertical-align: middle;\n",
              "    }\n",
              "\n",
              "    .dataframe tbody tr th {\n",
              "        vertical-align: top;\n",
              "    }\n",
              "\n",
              "    .dataframe thead th {\n",
              "        text-align: right;\n",
              "    }\n",
              "</style>\n",
              "<table border=\"1\" class=\"dataframe\">\n",
              "  <thead>\n",
              "    <tr style=\"text-align: right;\">\n",
              "      <th></th>\n",
              "      <th>shipping_status</th>\n",
              "      <th>order_id</th>\n",
              "    </tr>\n",
              "  </thead>\n",
              "  <tbody>\n",
              "    <tr>\n",
              "      <th>0</th>\n",
              "      <td>Late</td>\n",
              "      <td>83436</td>\n",
              "    </tr>\n",
              "    <tr>\n",
              "      <th>1</th>\n",
              "      <td>On-time</td>\n",
              "      <td>31268</td>\n",
              "    </tr>\n",
              "  </tbody>\n",
              "</table>\n",
              "</div>"
            ],
            "text/plain": [
              "  shipping_status  order_id\n",
              "0            Late     83436\n",
              "1         On-time     31268"
            ]
          },
          "metadata": {},
          "execution_count": 33
        }
      ]
    },
    {
      "cell_type": "code",
      "metadata": {
        "id": "i9-P7bWIQZux",
        "colab": {
          "base_uri": "https://localhost:8080/",
          "height": 213
        },
        "outputId": "cfe27b0f-d2cc-4023-c4fa-f9b2a8f6be96"
      },
      "source": [
        "#100% lỗi đơn trễ là do shipping time cao hơn thời gian cho phép\n",
        "how_order_payment_process_lim['shipping_status'] = how_order_payment_process_lim.apply(check_ship, axis=1)\n",
        "how_order_payment_process_lim = how_order_payment_process_lim[(how_order_payment_process_lim['delivery_status'] == 'Late')]\n",
        "how_order_payment_process_lim.groupby('shipping_status')['order_id'].count().reset_index()"
      ],
      "execution_count": null,
      "outputs": [
        {
          "output_type": "stream",
          "text": [
            "/usr/local/lib/python3.7/dist-packages/ipykernel_launcher.py:2: SettingWithCopyWarning: \n",
            "A value is trying to be set on a copy of a slice from a DataFrame.\n",
            "Try using .loc[row_indexer,col_indexer] = value instead\n",
            "\n",
            "See the caveats in the documentation: https://pandas.pydata.org/pandas-docs/stable/user_guide/indexing.html#returning-a-view-versus-a-copy\n",
            "  \n"
          ],
          "name": "stderr"
        },
        {
          "output_type": "execute_result",
          "data": {
            "text/html": [
              "<div>\n",
              "<style scoped>\n",
              "    .dataframe tbody tr th:only-of-type {\n",
              "        vertical-align: middle;\n",
              "    }\n",
              "\n",
              "    .dataframe tbody tr th {\n",
              "        vertical-align: top;\n",
              "    }\n",
              "\n",
              "    .dataframe thead th {\n",
              "        text-align: right;\n",
              "    }\n",
              "</style>\n",
              "<table border=\"1\" class=\"dataframe\">\n",
              "  <thead>\n",
              "    <tr style=\"text-align: right;\">\n",
              "      <th></th>\n",
              "      <th>shipping_status</th>\n",
              "      <th>order_id</th>\n",
              "    </tr>\n",
              "  </thead>\n",
              "  <tbody>\n",
              "    <tr>\n",
              "      <th>0</th>\n",
              "      <td>Late</td>\n",
              "      <td>7508</td>\n",
              "    </tr>\n",
              "    <tr>\n",
              "      <th>1</th>\n",
              "      <td>On-time</td>\n",
              "      <td>16</td>\n",
              "    </tr>\n",
              "  </tbody>\n",
              "</table>\n",
              "</div>"
            ],
            "text/plain": [
              "  shipping_status  order_id\n",
              "0            Late      7508\n",
              "1         On-time        16"
            ]
          },
          "metadata": {},
          "execution_count": 34
        }
      ]
    },
    {
      "cell_type": "markdown",
      "metadata": {
        "id": "vHMjugBvEyI0"
      },
      "source": [
        "# A2 - Customer Satisfaction"
      ]
    },
    {
      "cell_type": "code",
      "metadata": {
        "id": "81QRkj8sEf8k"
      },
      "source": [
        "#The relation between satisfaction & revenue (&actual process)"
      ],
      "execution_count": null,
      "outputs": []
    },
    {
      "cell_type": "code",
      "metadata": {
        "id": "alHDogEcGxfv",
        "colab": {
          "base_uri": "https://localhost:8080/",
          "height": 309
        },
        "outputId": "d75d2336-a3e0-473f-e510-3aefe976ff9e"
      },
      "source": [
        "#Merge Order & Seller & Review from 01/2017 to 08/2018\n",
        "seller_review = pd.merge(left=how_order_payment_process_lim, \n",
        "                          right=order_reviews, \n",
        "                          on='order_id',\n",
        "                          how='inner')\n",
        "seller_review.head()\n"
      ],
      "execution_count": null,
      "outputs": [
        {
          "output_type": "execute_result",
          "data": {
            "text/html": [
              "<div>\n",
              "<style scoped>\n",
              "    .dataframe tbody tr th:only-of-type {\n",
              "        vertical-align: middle;\n",
              "    }\n",
              "\n",
              "    .dataframe tbody tr th {\n",
              "        vertical-align: top;\n",
              "    }\n",
              "\n",
              "    .dataframe thead th {\n",
              "        text-align: right;\n",
              "    }\n",
              "</style>\n",
              "<table border=\"1\" class=\"dataframe\">\n",
              "  <thead>\n",
              "    <tr style=\"text-align: right;\">\n",
              "      <th></th>\n",
              "      <th>order_id</th>\n",
              "      <th>customer_id</th>\n",
              "      <th>order_status</th>\n",
              "      <th>order_purchase_timestamp</th>\n",
              "      <th>order_approved_at</th>\n",
              "      <th>order_delivered_carrier_date</th>\n",
              "      <th>order_delivered_customer_date</th>\n",
              "      <th>order_estimated_delivery_date</th>\n",
              "      <th>order_item_id</th>\n",
              "      <th>product_id</th>\n",
              "      <th>seller_id</th>\n",
              "      <th>shipping_limit_date</th>\n",
              "      <th>price</th>\n",
              "      <th>freight_value</th>\n",
              "      <th>payment_sequential</th>\n",
              "      <th>payment_type</th>\n",
              "      <th>payment_installments</th>\n",
              "      <th>payment_value</th>\n",
              "      <th>Revenue</th>\n",
              "      <th>YearMonth</th>\n",
              "      <th>actual_process</th>\n",
              "      <th>estimated_delivery_date</th>\n",
              "      <th>limited_shipping_date</th>\n",
              "      <th>delivery_status</th>\n",
              "      <th>review_id</th>\n",
              "      <th>review_score</th>\n",
              "      <th>review_comment_title</th>\n",
              "      <th>review_comment_message</th>\n",
              "      <th>review_creation_date</th>\n",
              "      <th>review_answer_timestamp</th>\n",
              "    </tr>\n",
              "  </thead>\n",
              "  <tbody>\n",
              "    <tr>\n",
              "      <th>0</th>\n",
              "      <td>e481f51cbdc54678b7cc49136f2d6af7</td>\n",
              "      <td>9ef432eb6251297304e76186b10a928d</td>\n",
              "      <td>delivered</td>\n",
              "      <td>2017-10-02 10:56:33</td>\n",
              "      <td>2017-10-02 11:07:15</td>\n",
              "      <td>2017-10-04 19:55:00</td>\n",
              "      <td>2017-10-10 21:25:13</td>\n",
              "      <td>2017-10-18</td>\n",
              "      <td>1.0</td>\n",
              "      <td>87285b34884572647811a353c7ac498a</td>\n",
              "      <td>3504c0cb71d7fa48d967e0e4c94d59d9</td>\n",
              "      <td>2017-10-06 11:07:15</td>\n",
              "      <td>29.99</td>\n",
              "      <td>8.72</td>\n",
              "      <td>1.0</td>\n",
              "      <td>credit_card</td>\n",
              "      <td>1.0</td>\n",
              "      <td>18.12</td>\n",
              "      <td>29.99</td>\n",
              "      <td>2017-10</td>\n",
              "      <td>8 days 10:28:40</td>\n",
              "      <td>15 days 13:03:27</td>\n",
              "      <td>1 days 15:12:15</td>\n",
              "      <td>On-time</td>\n",
              "      <td>a54f0611adc9ed256b57ede6b6eb5114</td>\n",
              "      <td>4</td>\n",
              "      <td>NaN</td>\n",
              "      <td>Não testei o produto ainda, mas ele veio corre...</td>\n",
              "      <td>2017-10-11 00:00:00</td>\n",
              "      <td>2017-10-12 03:43:48</td>\n",
              "    </tr>\n",
              "    <tr>\n",
              "      <th>1</th>\n",
              "      <td>e481f51cbdc54678b7cc49136f2d6af7</td>\n",
              "      <td>9ef432eb6251297304e76186b10a928d</td>\n",
              "      <td>delivered</td>\n",
              "      <td>2017-10-02 10:56:33</td>\n",
              "      <td>2017-10-02 11:07:15</td>\n",
              "      <td>2017-10-04 19:55:00</td>\n",
              "      <td>2017-10-10 21:25:13</td>\n",
              "      <td>2017-10-18</td>\n",
              "      <td>1.0</td>\n",
              "      <td>87285b34884572647811a353c7ac498a</td>\n",
              "      <td>3504c0cb71d7fa48d967e0e4c94d59d9</td>\n",
              "      <td>2017-10-06 11:07:15</td>\n",
              "      <td>29.99</td>\n",
              "      <td>8.72</td>\n",
              "      <td>3.0</td>\n",
              "      <td>voucher</td>\n",
              "      <td>1.0</td>\n",
              "      <td>2.00</td>\n",
              "      <td>29.99</td>\n",
              "      <td>2017-10</td>\n",
              "      <td>8 days 10:28:40</td>\n",
              "      <td>15 days 13:03:27</td>\n",
              "      <td>1 days 15:12:15</td>\n",
              "      <td>On-time</td>\n",
              "      <td>a54f0611adc9ed256b57ede6b6eb5114</td>\n",
              "      <td>4</td>\n",
              "      <td>NaN</td>\n",
              "      <td>Não testei o produto ainda, mas ele veio corre...</td>\n",
              "      <td>2017-10-11 00:00:00</td>\n",
              "      <td>2017-10-12 03:43:48</td>\n",
              "    </tr>\n",
              "    <tr>\n",
              "      <th>2</th>\n",
              "      <td>e481f51cbdc54678b7cc49136f2d6af7</td>\n",
              "      <td>9ef432eb6251297304e76186b10a928d</td>\n",
              "      <td>delivered</td>\n",
              "      <td>2017-10-02 10:56:33</td>\n",
              "      <td>2017-10-02 11:07:15</td>\n",
              "      <td>2017-10-04 19:55:00</td>\n",
              "      <td>2017-10-10 21:25:13</td>\n",
              "      <td>2017-10-18</td>\n",
              "      <td>1.0</td>\n",
              "      <td>87285b34884572647811a353c7ac498a</td>\n",
              "      <td>3504c0cb71d7fa48d967e0e4c94d59d9</td>\n",
              "      <td>2017-10-06 11:07:15</td>\n",
              "      <td>29.99</td>\n",
              "      <td>8.72</td>\n",
              "      <td>2.0</td>\n",
              "      <td>voucher</td>\n",
              "      <td>1.0</td>\n",
              "      <td>18.59</td>\n",
              "      <td>29.99</td>\n",
              "      <td>2017-10</td>\n",
              "      <td>8 days 10:28:40</td>\n",
              "      <td>15 days 13:03:27</td>\n",
              "      <td>1 days 15:12:15</td>\n",
              "      <td>On-time</td>\n",
              "      <td>a54f0611adc9ed256b57ede6b6eb5114</td>\n",
              "      <td>4</td>\n",
              "      <td>NaN</td>\n",
              "      <td>Não testei o produto ainda, mas ele veio corre...</td>\n",
              "      <td>2017-10-11 00:00:00</td>\n",
              "      <td>2017-10-12 03:43:48</td>\n",
              "    </tr>\n",
              "    <tr>\n",
              "      <th>3</th>\n",
              "      <td>53cdb2fc8bc7dce0b6741e2150273451</td>\n",
              "      <td>b0830fb4747a6c6d20dea0b8c802d7ef</td>\n",
              "      <td>delivered</td>\n",
              "      <td>2018-07-24 20:41:37</td>\n",
              "      <td>2018-07-26 03:24:27</td>\n",
              "      <td>2018-07-26 14:31:00</td>\n",
              "      <td>2018-08-07 15:27:45</td>\n",
              "      <td>2018-08-13</td>\n",
              "      <td>1.0</td>\n",
              "      <td>595fac2a385ac33a80bd5114aec74eb8</td>\n",
              "      <td>289cdb325fb7e7f891c38608bf9e0962</td>\n",
              "      <td>2018-07-30 03:24:27</td>\n",
              "      <td>118.70</td>\n",
              "      <td>22.76</td>\n",
              "      <td>1.0</td>\n",
              "      <td>boleto</td>\n",
              "      <td>1.0</td>\n",
              "      <td>141.46</td>\n",
              "      <td>118.70</td>\n",
              "      <td>2018-07</td>\n",
              "      <td>13 days 18:46:08</td>\n",
              "      <td>19 days 03:18:23</td>\n",
              "      <td>3 days 12:53:27</td>\n",
              "      <td>On-time</td>\n",
              "      <td>8d5266042046a06655c8db133d120ba5</td>\n",
              "      <td>4</td>\n",
              "      <td>Muito boa a loja</td>\n",
              "      <td>Muito bom o produto.</td>\n",
              "      <td>2018-08-08 00:00:00</td>\n",
              "      <td>2018-08-08 18:37:50</td>\n",
              "    </tr>\n",
              "    <tr>\n",
              "      <th>4</th>\n",
              "      <td>47770eb9100c2d0c44946d9cf07ec65d</td>\n",
              "      <td>41ce2a54c0b03bf3443c3d931a367089</td>\n",
              "      <td>delivered</td>\n",
              "      <td>2018-08-08 08:38:49</td>\n",
              "      <td>2018-08-08 08:55:23</td>\n",
              "      <td>2018-08-08 13:50:00</td>\n",
              "      <td>2018-08-17 18:06:29</td>\n",
              "      <td>2018-09-04</td>\n",
              "      <td>1.0</td>\n",
              "      <td>aa4383b373c6aca5d8797843e5594415</td>\n",
              "      <td>4869f7a5dfa277a7dca6462dcf3b52b2</td>\n",
              "      <td>2018-08-13 08:55:23</td>\n",
              "      <td>159.90</td>\n",
              "      <td>19.22</td>\n",
              "      <td>1.0</td>\n",
              "      <td>credit_card</td>\n",
              "      <td>3.0</td>\n",
              "      <td>179.12</td>\n",
              "      <td>159.90</td>\n",
              "      <td>2018-08</td>\n",
              "      <td>9 days 09:27:40</td>\n",
              "      <td>26 days 15:21:11</td>\n",
              "      <td>4 days 19:05:23</td>\n",
              "      <td>On-time</td>\n",
              "      <td>e73b67b67587f7644d5bd1a52deb1b01</td>\n",
              "      <td>5</td>\n",
              "      <td>NaN</td>\n",
              "      <td>NaN</td>\n",
              "      <td>2018-08-18 00:00:00</td>\n",
              "      <td>2018-08-22 19:07:58</td>\n",
              "    </tr>\n",
              "  </tbody>\n",
              "</table>\n",
              "</div>"
            ],
            "text/plain": [
              "                           order_id  ... review_answer_timestamp\n",
              "0  e481f51cbdc54678b7cc49136f2d6af7  ...     2017-10-12 03:43:48\n",
              "1  e481f51cbdc54678b7cc49136f2d6af7  ...     2017-10-12 03:43:48\n",
              "2  e481f51cbdc54678b7cc49136f2d6af7  ...     2017-10-12 03:43:48\n",
              "3  53cdb2fc8bc7dce0b6741e2150273451  ...     2018-08-08 18:37:50\n",
              "4  47770eb9100c2d0c44946d9cf07ec65d  ...     2018-08-22 19:07:58\n",
              "\n",
              "[5 rows x 30 columns]"
            ]
          },
          "metadata": {
            "tags": []
          },
          "execution_count": 64
        }
      ]
    },
    {
      "cell_type": "code",
      "metadata": {
        "id": "od5IkeOI_tLR",
        "colab": {
          "base_uri": "https://localhost:8080/",
          "height": 204
        },
        "outputId": "9ee6f562-44a3-4ccf-f7fe-376c5d1730db"
      },
      "source": [
        "seller_review = seller_review[['order_id','YearMonth', 'seller_id', 'Revenue', 'delivery_status', 'review_score']]\n",
        "seller_review.head()"
      ],
      "execution_count": null,
      "outputs": [
        {
          "output_type": "execute_result",
          "data": {
            "text/html": [
              "<div>\n",
              "<style scoped>\n",
              "    .dataframe tbody tr th:only-of-type {\n",
              "        vertical-align: middle;\n",
              "    }\n",
              "\n",
              "    .dataframe tbody tr th {\n",
              "        vertical-align: top;\n",
              "    }\n",
              "\n",
              "    .dataframe thead th {\n",
              "        text-align: right;\n",
              "    }\n",
              "</style>\n",
              "<table border=\"1\" class=\"dataframe\">\n",
              "  <thead>\n",
              "    <tr style=\"text-align: right;\">\n",
              "      <th></th>\n",
              "      <th>order_id</th>\n",
              "      <th>YearMonth</th>\n",
              "      <th>seller_id</th>\n",
              "      <th>Revenue</th>\n",
              "      <th>delivery_status</th>\n",
              "      <th>review_score</th>\n",
              "    </tr>\n",
              "  </thead>\n",
              "  <tbody>\n",
              "    <tr>\n",
              "      <th>0</th>\n",
              "      <td>e481f51cbdc54678b7cc49136f2d6af7</td>\n",
              "      <td>2017-10</td>\n",
              "      <td>3504c0cb71d7fa48d967e0e4c94d59d9</td>\n",
              "      <td>29.99</td>\n",
              "      <td>On-time</td>\n",
              "      <td>4</td>\n",
              "    </tr>\n",
              "    <tr>\n",
              "      <th>1</th>\n",
              "      <td>e481f51cbdc54678b7cc49136f2d6af7</td>\n",
              "      <td>2017-10</td>\n",
              "      <td>3504c0cb71d7fa48d967e0e4c94d59d9</td>\n",
              "      <td>29.99</td>\n",
              "      <td>On-time</td>\n",
              "      <td>4</td>\n",
              "    </tr>\n",
              "    <tr>\n",
              "      <th>2</th>\n",
              "      <td>e481f51cbdc54678b7cc49136f2d6af7</td>\n",
              "      <td>2017-10</td>\n",
              "      <td>3504c0cb71d7fa48d967e0e4c94d59d9</td>\n",
              "      <td>29.99</td>\n",
              "      <td>On-time</td>\n",
              "      <td>4</td>\n",
              "    </tr>\n",
              "    <tr>\n",
              "      <th>3</th>\n",
              "      <td>53cdb2fc8bc7dce0b6741e2150273451</td>\n",
              "      <td>2018-07</td>\n",
              "      <td>289cdb325fb7e7f891c38608bf9e0962</td>\n",
              "      <td>118.70</td>\n",
              "      <td>On-time</td>\n",
              "      <td>4</td>\n",
              "    </tr>\n",
              "    <tr>\n",
              "      <th>4</th>\n",
              "      <td>47770eb9100c2d0c44946d9cf07ec65d</td>\n",
              "      <td>2018-08</td>\n",
              "      <td>4869f7a5dfa277a7dca6462dcf3b52b2</td>\n",
              "      <td>159.90</td>\n",
              "      <td>On-time</td>\n",
              "      <td>5</td>\n",
              "    </tr>\n",
              "  </tbody>\n",
              "</table>\n",
              "</div>"
            ],
            "text/plain": [
              "                           order_id YearMonth  ... delivery_status  review_score\n",
              "0  e481f51cbdc54678b7cc49136f2d6af7   2017-10  ...         On-time             4\n",
              "1  e481f51cbdc54678b7cc49136f2d6af7   2017-10  ...         On-time             4\n",
              "2  e481f51cbdc54678b7cc49136f2d6af7   2017-10  ...         On-time             4\n",
              "3  53cdb2fc8bc7dce0b6741e2150273451   2018-07  ...         On-time             4\n",
              "4  47770eb9100c2d0c44946d9cf07ec65d   2018-08  ...         On-time             5\n",
              "\n",
              "[5 rows x 6 columns]"
            ]
          },
          "metadata": {
            "tags": []
          },
          "execution_count": 96
        }
      ]
    },
    {
      "cell_type": "code",
      "metadata": {
        "colab": {
          "base_uri": "https://localhost:8080/",
          "height": 305
        },
        "id": "EvHx7Civn28h",
        "outputId": "16d85478-53be-4b33-8d53-e3fbaaf1e816"
      },
      "source": [
        "#The relation between satisfaction & revenue\n",
        "#Revenue ~ review score\n",
        "#đơn mua rate 1 view nhiều tương đương đơn mua rate 4 view\n",
        "seller_review.groupby('review_score')['Revenue'].sum().plot(kind='bar')"
      ],
      "execution_count": null,
      "outputs": [
        {
          "output_type": "execute_result",
          "data": {
            "text/plain": [
              "<matplotlib.axes._subplots.AxesSubplot at 0x7f5a5e53ba10>"
            ]
          },
          "metadata": {
            "tags": []
          },
          "execution_count": 102
        },
        {
          "output_type": "display_data",
          "data": {
            "image/png": "[encoded data removed]",
            "text/plain": [
              "<Figure size 432x288 with 1 Axes>"
            ]
          },
          "metadata": {
            "tags": [],
            "needs_background": "light"
          }
        }
      ]
    },
    {
      "cell_type": "code",
      "metadata": {
        "id": "ft6JVlVEavc4"
      },
      "source": [
        "#retention??????"
      ],
      "execution_count": null,
      "outputs": []
    },
    {
      "cell_type": "markdown",
      "metadata": {
        "id": "-BcxUf0NzSUO"
      },
      "source": [
        "#B - Analyse Customer Experience by Payment type\n",
        "\n",
        "---\n",
        "1. Nhận xét phương thức thanh toán được ưa chuộng nhất\n",
        "2. Deep dive: tương quan giữa installments term và giá trị đơn hàng. Hay offer intallment 0% interest rate có ảnh hưởng tăng AOV hay không?( Average order value)\n"
      ]
    },
    {
      "cell_type": "code",
      "metadata": {
        "id": "HcJzmooJ4jD-",
        "colab": {
          "base_uri": "https://localhost:8080/",
          "height": 576
        },
        "outputId": "e0926731-f774-4716-f471-ba10f427b461"
      },
      "source": [
        "# 1. Most polpular payment method on platform?\n",
        "plt.figure(figsize=(8,8))\n",
        "order_payment_process_lim.groupby('payment_type')['Revenue'].sum().plot(kind='bar')\n",
        "plt.ylabel('Revenue')\n",
        "plt.title('Revenue by Payment Type')\n",
        "#Credit card is the number 1 choice for payment type on platform and this reflect that Brazil customers enjoy consuming on credit. \n",
        "#Boleto and debit card are both online cash payment method but boleto payment tyoe is one fifth compare to credit card and much more selected by customers compared to debit card.\n",
        "#While voucher is also one of the options for consumer to enjoy shopping online."
      ],
      "execution_count": null,
      "outputs": [
        {
          "output_type": "execute_result",
          "data": {
            "text/plain": [
              "Text(0.5, 1.0, 'Revenue by Payment Type')"
            ]
          },
          "metadata": {
            "tags": []
          },
          "execution_count": 175
        },
        {
          "output_type": "display_data",
          "data": {
            "image/png": "[encoded data removed]",
            "text/plain": [
              "<Figure size 576x576 with 1 Axes>"
            ]
          },
          "metadata": {
            "tags": [],
            "needs_background": "light"
          }
        }
      ]
    },
    {
      "cell_type": "code",
      "metadata": {
        "colab": {
          "base_uri": "https://localhost:8080/",
          "height": 101
        },
        "id": "TM4B09XcpTJs",
        "outputId": "7616402b-49c2-48f4-8625-1adc72ac0ed7"
      },
      "source": [
        "order_payment_process_lim.head("
      ],
      "execution_count": null,
      "outputs": [
        {
          "output_type": "execute_result",
          "data": {
            "text/html": [
              "<div>\n",
              "<style scoped>\n",
              "    .dataframe tbody tr th:only-of-type {\n",
              "        vertical-align: middle;\n",
              "    }\n",
              "\n",
              "    .dataframe tbody tr th {\n",
              "        vertical-align: top;\n",
              "    }\n",
              "\n",
              "    .dataframe thead th {\n",
              "        text-align: right;\n",
              "    }\n",
              "</style>\n",
              "<table border=\"1\" class=\"dataframe\">\n",
              "  <thead>\n",
              "    <tr style=\"text-align: right;\">\n",
              "      <th></th>\n",
              "      <th>order_id</th>\n",
              "      <th>customer_id</th>\n",
              "      <th>order_status</th>\n",
              "      <th>order_purchase_timestamp</th>\n",
              "      <th>order_approved_at</th>\n",
              "      <th>order_delivered_carrier_date</th>\n",
              "      <th>order_delivered_customer_date</th>\n",
              "      <th>order_estimated_delivery_date</th>\n",
              "      <th>order_item_id</th>\n",
              "      <th>product_id</th>\n",
              "      <th>seller_id</th>\n",
              "      <th>shipping_limit_date</th>\n",
              "      <th>price</th>\n",
              "      <th>freight_value</th>\n",
              "      <th>payment_sequential</th>\n",
              "      <th>payment_type</th>\n",
              "      <th>payment_installments</th>\n",
              "      <th>payment_value</th>\n",
              "      <th>Revenue</th>\n",
              "      <th>YearMonth</th>\n",
              "    </tr>\n",
              "  </thead>\n",
              "  <tbody>\n",
              "    <tr>\n",
              "      <th>0</th>\n",
              "      <td>e481f51cbdc54678b7cc49136f2d6af7</td>\n",
              "      <td>9ef432eb6251297304e76186b10a928d</td>\n",
              "      <td>delivered</td>\n",
              "      <td>2017-10-02</td>\n",
              "      <td>2017-10-02</td>\n",
              "      <td>2017-10-04</td>\n",
              "      <td>2017-10-10</td>\n",
              "      <td>2017-10-18</td>\n",
              "      <td>1.0</td>\n",
              "      <td>87285b34884572647811a353c7ac498a</td>\n",
              "      <td>3504c0cb71d7fa48d967e0e4c94d59d9</td>\n",
              "      <td>2017-10-06</td>\n",
              "      <td>29.99</td>\n",
              "      <td>8.72</td>\n",
              "      <td>1.0</td>\n",
              "      <td>credit_card</td>\n",
              "      <td>1.0</td>\n",
              "      <td>18.12</td>\n",
              "      <td>29.99</td>\n",
              "      <td>2017-10</td>\n",
              "    </tr>\n",
              "  </tbody>\n",
              "</table>\n",
              "</div>"
            ],
            "text/plain": [
              "                           order_id  ... YearMonth\n",
              "0  e481f51cbdc54678b7cc49136f2d6af7  ...   2017-10\n",
              "\n",
              "[1 rows x 20 columns]"
            ]
          },
          "metadata": {
            "tags": []
          },
          "execution_count": 169
        }
      ]
    },
    {
      "cell_type": "code",
      "metadata": {
        "id": "53BCfePvJ7kE",
        "colab": {
          "base_uri": "https://localhost:8080/"
        },
        "outputId": "5f20d045-eac2-4fa1-fbc3-747a0c439449"
      },
      "source": [
        "#Most of credit card type has function offer installment\n",
        "order_payment_process_lim.groupby('payment_type')['payment_installments'].value_counts()"
      ],
      "execution_count": null,
      "outputs": [
        {
          "output_type": "execute_result",
          "data": {
            "text/plain": [
              "payment_type  payment_installments\n",
              "boleto        1.0                     19156\n",
              "credit_card   1.0                     23161\n",
              "              2.0                     11476\n",
              "              3.0                      9700\n",
              "              4.0                      6601\n",
              "              10.0                     5672\n",
              "              5.0                      5043\n",
              "              8.0                      4231\n",
              "              6.0                      3876\n",
              "              7.0                      1495\n",
              "              9.0                       598\n",
              "              12.0                      138\n",
              "              15.0                       77\n",
              "              18.0                       36\n",
              "              24.0                       22\n",
              "              11.0                       21\n",
              "              20.0                       18\n",
              "              13.0                       17\n",
              "              14.0                       13\n",
              "              17.0                        7\n",
              "              16.0                        4\n",
              "              0.0                         3\n",
              "              21.0                        2\n",
              "              22.0                        1\n",
              "              23.0                        1\n",
              "debit_card    1.0                      1440\n",
              "voucher       1.0                      5137\n",
              "Name: payment_installments, dtype: int64"
            ]
          },
          "metadata": {
            "tags": []
          },
          "execution_count": 209
        }
      ]
    },
    {
      "cell_type": "code",
      "metadata": {
        "colab": {
          "base_uri": "https://localhost:8080/"
        },
        "id": "hDemTxTCRwwm",
        "outputId": "3b713641-9aaa-4c52-caf4-38569560d0c7"
      },
      "source": [
        "# How much Revenue contribute from Installment : 62% Revenue was contributed from Installment payment this can be an USP for platform to offer to customer 0% interest rate this can increase average order value per transaction.\n",
        "installment_data = order_payment_process_lim[order_payment_process_lim['payment_installments'] > 1.0]\n",
        "installment_data['Revenue'].sum()/order_payment_process_lim['Revenue'].sum()"
      ],
      "execution_count": null,
      "outputs": [
        {
          "output_type": "execute_result",
          "data": {
            "text/plain": [
              "0.6163610359698318"
            ]
          },
          "metadata": {
            "tags": []
          },
          "execution_count": 194
        }
      ]
    },
    {
      "cell_type": "code",
      "metadata": {
        "colab": {
          "base_uri": "https://localhost:8080/"
        },
        "id": "fnKLIWDnv0U8",
        "outputId": "6b45e731-aa75-4bf1-baac-47e5f84eeafb"
      },
      "source": [
        "QUESTION: how much order value customers will choose short term installment or long term installment?\n",
        "#Group by paymnet term: 3months, 6 monhts,12 months and 24 months\n",
        "def installment_term(x):\n",
        "    \n",
        "    if x <= 3.0:\n",
        "        return '3M'\n",
        "    elif (x > 3.0) & (x <= 6.0):\n",
        "        return '6M' \n",
        "    elif (x > 6.0) & (x <= 12.0):\n",
        "        return '12M'          \n",
        "    else: \n",
        "        return '24M'"
      ],
      "execution_count": null,
      "outputs": [
        {
          "output_type": "stream",
          "text": [
            "Object `installment` not found.\n"
          ],
          "name": "stdout"
        }
      ]
    },
    {
      "cell_type": "code",
      "metadata": {
        "colab": {
          "base_uri": "https://localhost:8080/"
        },
        "id": "3K-Swi1ov_9A",
        "outputId": "12b95dff-11d3-46a5-8c5e-61fb8bfb1931"
      },
      "source": [
        "#Apply on table: installment_data\n",
        "installment_data['PayTerm']=installment_data['payment_installments'].apply(installment_term)"
      ],
      "execution_count": null,
      "outputs": [
        {
          "output_type": "stream",
          "text": [
            "/usr/local/lib/python3.7/dist-packages/ipykernel_launcher.py:2: SettingWithCopyWarning: \n",
            "A value is trying to be set on a copy of a slice from a DataFrame.\n",
            "Try using .loc[row_indexer,col_indexer] = value instead\n",
            "\n",
            "See the caveats in the documentation: https://pandas.pydata.org/pandas-docs/stable/user_guide/indexing.html#returning-a-view-versus-a-copy\n",
            "  \n"
          ],
          "name": "stderr"
        }
      ]
    },
    {
      "cell_type": "code",
      "metadata": {
        "colab": {
          "base_uri": "https://localhost:8080/",
          "height": 320
        },
        "id": "NaziHiKDweBJ",
        "outputId": "9ed8e5db-a10b-421f-d095-f594f0e812e0"
      },
      "source": [
        "#Revenue contribute by payment term\n",
        "installment_data.groupby('PayTerm')['Revenue'].sum().plot(kind='bar')"
      ],
      "execution_count": null,
      "outputs": [
        {
          "output_type": "execute_result",
          "data": {
            "text/plain": [
              "<matplotlib.axes._subplots.AxesSubplot at 0x7fae878722d0>"
            ]
          },
          "metadata": {
            "tags": []
          },
          "execution_count": 205
        },
        {
          "output_type": "display_data",
          "data": {
            "image/png": "[encoded data removed]",
            "text/plain": [
              "<Figure size 432x288 with 1 Axes>"
            ]
          },
          "metadata": {
            "tags": [],
            "needs_background": "light"
          }
        }
      ]
    },
    {
      "cell_type": "code",
      "metadata": {
        "colab": {
          "base_uri": "https://localhost:8080/",
          "height": 294
        },
        "id": "1yUKPLsAxUzk",
        "outputId": "e9b43026-9ecc-44cf-ec18-1bc5271bffe8"
      },
      "source": [
        "\n",
        "installment_data['PayTerm'].value_counts().plot(kind='bar')"
      ],
      "execution_count": null,
      "outputs": [
        {
          "output_type": "execute_result",
          "data": {
            "text/plain": [
              "<matplotlib.axes._subplots.AxesSubplot at 0x7fae871c5090>"
            ]
          },
          "metadata": {
            "tags": []
          },
          "execution_count": 207
        },
        {
          "output_type": "display_data",
          "data": {
            "image/png": "[encoded data removed]",
            "text/plain": [
              "<Figure size 432x288 with 1 Axes>"
            ]
          },
          "metadata": {
            "tags": [],
            "needs_background": "light"
          }
        }
      ]
    },
    {
      "cell_type": "code",
      "metadata": {
        "colab": {
          "base_uri": "https://localhost:8080/",
          "height": 132
        },
        "id": "lt02br8Z7mCh",
        "outputId": "bb5d7298-1b21-4f29-9ab4-b47fa516fbf5"
      },
      "source": [
        "installment_data.head(2)\n"
      ],
      "execution_count": null,
      "outputs": [
        {
          "output_type": "execute_result",
          "data": {
            "text/html": [
              "<div>\n",
              "<style scoped>\n",
              "    .dataframe tbody tr th:only-of-type {\n",
              "        vertical-align: middle;\n",
              "    }\n",
              "\n",
              "    .dataframe tbody tr th {\n",
              "        vertical-align: top;\n",
              "    }\n",
              "\n",
              "    .dataframe thead th {\n",
              "        text-align: right;\n",
              "    }\n",
              "</style>\n",
              "<table border=\"1\" class=\"dataframe\">\n",
              "  <thead>\n",
              "    <tr style=\"text-align: right;\">\n",
              "      <th></th>\n",
              "      <th>order_id</th>\n",
              "      <th>customer_id</th>\n",
              "      <th>order_status</th>\n",
              "      <th>order_purchase_timestamp</th>\n",
              "      <th>order_approved_at</th>\n",
              "      <th>order_delivered_carrier_date</th>\n",
              "      <th>order_delivered_customer_date</th>\n",
              "      <th>order_estimated_delivery_date</th>\n",
              "      <th>order_item_id</th>\n",
              "      <th>product_id</th>\n",
              "      <th>seller_id</th>\n",
              "      <th>shipping_limit_date</th>\n",
              "      <th>price</th>\n",
              "      <th>freight_value</th>\n",
              "      <th>payment_sequential</th>\n",
              "      <th>payment_type</th>\n",
              "      <th>payment_installments</th>\n",
              "      <th>payment_value</th>\n",
              "      <th>Revenue</th>\n",
              "      <th>YearMonth</th>\n",
              "      <th>PayTerm</th>\n",
              "    </tr>\n",
              "  </thead>\n",
              "  <tbody>\n",
              "    <tr>\n",
              "      <th>4</th>\n",
              "      <td>47770eb9100c2d0c44946d9cf07ec65d</td>\n",
              "      <td>41ce2a54c0b03bf3443c3d931a367089</td>\n",
              "      <td>delivered</td>\n",
              "      <td>2018-08-08</td>\n",
              "      <td>2018-08-08</td>\n",
              "      <td>2018-08-08</td>\n",
              "      <td>2018-08-17</td>\n",
              "      <td>2018-09-04</td>\n",
              "      <td>1.0</td>\n",
              "      <td>aa4383b373c6aca5d8797843e5594415</td>\n",
              "      <td>4869f7a5dfa277a7dca6462dcf3b52b2</td>\n",
              "      <td>2018-08-13</td>\n",
              "      <td>159.9</td>\n",
              "      <td>19.22</td>\n",
              "      <td>1.0</td>\n",
              "      <td>credit_card</td>\n",
              "      <td>3.0</td>\n",
              "      <td>179.12</td>\n",
              "      <td>159.9</td>\n",
              "      <td>2018-08</td>\n",
              "      <td>3M</td>\n",
              "    </tr>\n",
              "    <tr>\n",
              "      <th>7</th>\n",
              "      <td>a4591c265e18cb1dcee52889e2d8acc3</td>\n",
              "      <td>503740e9ca751ccdda7ba28e9ab8f608</td>\n",
              "      <td>delivered</td>\n",
              "      <td>2017-07-09</td>\n",
              "      <td>2017-07-09</td>\n",
              "      <td>2017-07-11</td>\n",
              "      <td>2017-07-26</td>\n",
              "      <td>2017-08-01</td>\n",
              "      <td>1.0</td>\n",
              "      <td>060cb19345d90064d1015407193c233d</td>\n",
              "      <td>8581055ce74af1daba164fdbd55a40de</td>\n",
              "      <td>2017-07-13</td>\n",
              "      <td>147.9</td>\n",
              "      <td>27.36</td>\n",
              "      <td>1.0</td>\n",
              "      <td>credit_card</td>\n",
              "      <td>6.0</td>\n",
              "      <td>175.26</td>\n",
              "      <td>147.9</td>\n",
              "      <td>2017-07</td>\n",
              "      <td>6M</td>\n",
              "    </tr>\n",
              "  </tbody>\n",
              "</table>\n",
              "</div>"
            ],
            "text/plain": [
              "                           order_id  ... PayTerm\n",
              "4  47770eb9100c2d0c44946d9cf07ec65d  ...      3M\n",
              "7  a4591c265e18cb1dcee52889e2d8acc3  ...      6M\n",
              "\n",
              "[2 rows x 21 columns]"
            ]
          },
          "metadata": {
            "tags": []
          },
          "execution_count": 210
        }
      ]
    },
    {
      "cell_type": "code",
      "metadata": {
        "id": "levCMFT_SwjR"
      },
      "source": [
        "# Calculate the quantiles -- Tính Q1 và Q3\n",
        "q1 = installment_data['Revenue'].quantile(0.25)\n",
        "q3 = installment_data['Revenue'].quantile(0.75)\n",
        "\n",
        "# Calculate the interquantile range\n",
        "iqr = q3 - q1\n",
        "\n",
        "# Calculate the whisker\n",
        "upper = q3 + 1.5*iqr\n",
        "lower = q1 - 1.5*iqr"
      ],
      "execution_count": null,
      "outputs": []
    },
    {
      "cell_type": "code",
      "metadata": {
        "id": "IxdRcn-fanv1",
        "colab": {
          "base_uri": "https://localhost:8080/"
        },
        "outputId": "e1723769-cd07-4bf9-f64e-55371b8749bf"
      },
      "source": [
        "upper"
      ],
      "execution_count": null,
      "outputs": [
        {
          "output_type": "execute_result",
          "data": {
            "text/plain": [
              "361.475"
            ]
          },
          "metadata": {
            "tags": []
          },
          "execution_count": 213
        }
      ]
    },
    {
      "cell_type": "code",
      "metadata": {
        "id": "7IvPSu-jcAo9",
        "colab": {
          "base_uri": "https://localhost:8080/"
        },
        "outputId": "397b6ab6-0e2c-4ecc-a31e-e9ab408deda3"
      },
      "source": [
        "lower"
      ],
      "execution_count": null,
      "outputs": [
        {
          "output_type": "execute_result",
          "data": {
            "text/plain": [
              "-122.48500000000001"
            ]
          },
          "metadata": {
            "tags": []
          },
          "execution_count": 214
        }
      ]
    },
    {
      "cell_type": "code",
      "metadata": {
        "id": "Q1djKQsBdfMM",
        "colab": {
          "base_uri": "https://localhost:8080/",
          "height": 444
        },
        "outputId": "86522c65-4357-4802-a59d-a1be3c2292c5"
      },
      "source": [
        "# Filter the data: abnormal data lies between lower and upper\n",
        "abnormal = installment_data[(lower > installment_data['Revenue']) | (installment_data['Revenue'] > upper)]\n",
        "abnormal"
      ],
      "execution_count": null,
      "outputs": [
        {
          "output_type": "execute_result",
          "data": {
            "text/html": [
              "<div>\n",
              "<style scoped>\n",
              "    .dataframe tbody tr th:only-of-type {\n",
              "        vertical-align: middle;\n",
              "    }\n",
              "\n",
              "    .dataframe tbody tr th {\n",
              "        vertical-align: top;\n",
              "    }\n",
              "\n",
              "    .dataframe thead th {\n",
              "        text-align: right;\n",
              "    }\n",
              "</style>\n",
              "<table border=\"1\" class=\"dataframe\">\n",
              "  <thead>\n",
              "    <tr style=\"text-align: right;\">\n",
              "      <th></th>\n",
              "      <th>order_id</th>\n",
              "      <th>customer_id</th>\n",
              "      <th>order_status</th>\n",
              "      <th>order_purchase_timestamp</th>\n",
              "      <th>order_approved_at</th>\n",
              "      <th>order_delivered_carrier_date</th>\n",
              "      <th>order_delivered_customer_date</th>\n",
              "      <th>order_estimated_delivery_date</th>\n",
              "      <th>order_item_id</th>\n",
              "      <th>product_id</th>\n",
              "      <th>seller_id</th>\n",
              "      <th>shipping_limit_date</th>\n",
              "      <th>price</th>\n",
              "      <th>freight_value</th>\n",
              "      <th>payment_sequential</th>\n",
              "      <th>payment_type</th>\n",
              "      <th>payment_installments</th>\n",
              "      <th>payment_value</th>\n",
              "      <th>Revenue</th>\n",
              "      <th>YearMonth</th>\n",
              "      <th>PayTerm</th>\n",
              "    </tr>\n",
              "  </thead>\n",
              "  <tbody>\n",
              "    <tr>\n",
              "      <th>20</th>\n",
              "      <td>403b97836b0c04a622354cf531062e5f</td>\n",
              "      <td>738b086814c6fcc74b8cc583f8516ee3</td>\n",
              "      <td>delivered</td>\n",
              "      <td>2018-01-02</td>\n",
              "      <td>2018-01-02</td>\n",
              "      <td>2018-01-03</td>\n",
              "      <td>2018-01-20</td>\n",
              "      <td>2018-02-06</td>\n",
              "      <td>1.0</td>\n",
              "      <td>638bbb2a5e4f360b71f332ddfebfd672</td>\n",
              "      <td>c4af86330efa7a2620772227d2d670c9</td>\n",
              "      <td>2018-01-12</td>\n",
              "      <td>1299.00</td>\n",
              "      <td>77.45</td>\n",
              "      <td>1.0</td>\n",
              "      <td>credit_card</td>\n",
              "      <td>10.0</td>\n",
              "      <td>1376.45</td>\n",
              "      <td>1299.00</td>\n",
              "      <td>2018-01</td>\n",
              "      <td>12M</td>\n",
              "    </tr>\n",
              "    <tr>\n",
              "      <th>61</th>\n",
              "      <td>641fb0752bf5b5940c376b3a8bb9dc52</td>\n",
              "      <td>f5afca14dfa9dc64251cf2b45c54c363</td>\n",
              "      <td>delivered</td>\n",
              "      <td>2017-12-15</td>\n",
              "      <td>2017-12-15</td>\n",
              "      <td>2017-12-19</td>\n",
              "      <td>2018-01-03</td>\n",
              "      <td>2018-01-16</td>\n",
              "      <td>1.0</td>\n",
              "      <td>60184212dae4e6b0da32bf54271a8c4a</td>\n",
              "      <td>b33e7c55446eabf8fe1a42d037ac7d6d</td>\n",
              "      <td>2017-12-21</td>\n",
              "      <td>369.00</td>\n",
              "      <td>17.33</td>\n",
              "      <td>1.0</td>\n",
              "      <td>credit_card</td>\n",
              "      <td>10.0</td>\n",
              "      <td>386.33</td>\n",
              "      <td>369.00</td>\n",
              "      <td>2017-12</td>\n",
              "      <td>12M</td>\n",
              "    </tr>\n",
              "    <tr>\n",
              "      <th>74</th>\n",
              "      <td>688052146432ef8253587b930b01a06d</td>\n",
              "      <td>81e08b08e5ed4472008030d70327c71f</td>\n",
              "      <td>delivered</td>\n",
              "      <td>2018-04-22</td>\n",
              "      <td>2018-04-24</td>\n",
              "      <td>2018-04-23</td>\n",
              "      <td>2018-04-24</td>\n",
              "      <td>2018-05-15</td>\n",
              "      <td>2.0</td>\n",
              "      <td>db56f6d2b04c89eae4daba188842fd7b</td>\n",
              "      <td>2a84855fd20af891be03bc5924d2b453</td>\n",
              "      <td>2018-04-26</td>\n",
              "      <td>199.00</td>\n",
              "      <td>3.12</td>\n",
              "      <td>1.0</td>\n",
              "      <td>credit_card</td>\n",
              "      <td>3.0</td>\n",
              "      <td>346.09</td>\n",
              "      <td>398.00</td>\n",
              "      <td>2018-04</td>\n",
              "      <td>3M</td>\n",
              "    </tr>\n",
              "    <tr>\n",
              "      <th>76</th>\n",
              "      <td>f271576bed568e896f99eb710cd3a6f8</td>\n",
              "      <td>5dda11942d4f77bee3a46d71e442aec4</td>\n",
              "      <td>delivered</td>\n",
              "      <td>2018-01-07</td>\n",
              "      <td>2018-01-07</td>\n",
              "      <td>2018-01-10</td>\n",
              "      <td>2018-01-17</td>\n",
              "      <td>2018-02-14</td>\n",
              "      <td>2.0</td>\n",
              "      <td>d457916b4fdc60154ed93b5dd3e6fd69</td>\n",
              "      <td>76d64c4aca3a7baf218bf93ef7fa768d</td>\n",
              "      <td>2018-01-11</td>\n",
              "      <td>329.90</td>\n",
              "      <td>82.48</td>\n",
              "      <td>1.0</td>\n",
              "      <td>credit_card</td>\n",
              "      <td>4.0</td>\n",
              "      <td>824.76</td>\n",
              "      <td>659.80</td>\n",
              "      <td>2018-01</td>\n",
              "      <td>6M</td>\n",
              "    </tr>\n",
              "    <tr>\n",
              "      <th>115</th>\n",
              "      <td>f169bd689fb8b32ccd62df9050aebc0b</td>\n",
              "      <td>82f0b75bb50fcb30711e5277e36b3983</td>\n",
              "      <td>delivered</td>\n",
              "      <td>2018-04-22</td>\n",
              "      <td>2018-04-24</td>\n",
              "      <td>2018-04-27</td>\n",
              "      <td>2018-04-30</td>\n",
              "      <td>2018-05-07</td>\n",
              "      <td>1.0</td>\n",
              "      <td>20a8603c265d777e25da064113d556f5</td>\n",
              "      <td>e70053bf73d1b5863932e53a9fa47496</td>\n",
              "      <td>2018-04-29</td>\n",
              "      <td>759.00</td>\n",
              "      <td>13.08</td>\n",
              "      <td>1.0</td>\n",
              "      <td>credit_card</td>\n",
              "      <td>8.0</td>\n",
              "      <td>772.08</td>\n",
              "      <td>759.00</td>\n",
              "      <td>2018-04</td>\n",
              "      <td>12M</td>\n",
              "    </tr>\n",
              "    <tr>\n",
              "      <th>...</th>\n",
              "      <td>...</td>\n",
              "      <td>...</td>\n",
              "      <td>...</td>\n",
              "      <td>...</td>\n",
              "      <td>...</td>\n",
              "      <td>...</td>\n",
              "      <td>...</td>\n",
              "      <td>...</td>\n",
              "      <td>...</td>\n",
              "      <td>...</td>\n",
              "      <td>...</td>\n",
              "      <td>...</td>\n",
              "      <td>...</td>\n",
              "      <td>...</td>\n",
              "      <td>...</td>\n",
              "      <td>...</td>\n",
              "      <td>...</td>\n",
              "      <td>...</td>\n",
              "      <td>...</td>\n",
              "      <td>...</td>\n",
              "      <td>...</td>\n",
              "    </tr>\n",
              "    <tr>\n",
              "      <th>99359</th>\n",
              "      <td>7d71b84967ce50629f24530e64ba7938</td>\n",
              "      <td>ac9ae3c7de93573e219a1f10d7e71fca</td>\n",
              "      <td>delivered</td>\n",
              "      <td>2018-05-11</td>\n",
              "      <td>2018-05-12</td>\n",
              "      <td>2018-05-15</td>\n",
              "      <td>2018-05-21</td>\n",
              "      <td>2018-06-06</td>\n",
              "      <td>1.0</td>\n",
              "      <td>793a96e3c85c5553d7a9ab25dcf370d3</td>\n",
              "      <td>c35affa65afd250151285c5917fc1c8a</td>\n",
              "      <td>2018-05-16</td>\n",
              "      <td>499.99</td>\n",
              "      <td>69.17</td>\n",
              "      <td>1.0</td>\n",
              "      <td>credit_card</td>\n",
              "      <td>10.0</td>\n",
              "      <td>569.16</td>\n",
              "      <td>499.99</td>\n",
              "      <td>2018-05</td>\n",
              "      <td>12M</td>\n",
              "    </tr>\n",
              "    <tr>\n",
              "      <th>99367</th>\n",
              "      <td>c56e2c015a90b5df2c2564aa5f15be50</td>\n",
              "      <td>84bff9902277d3155c02447484e34dbb</td>\n",
              "      <td>delivered</td>\n",
              "      <td>2018-01-30</td>\n",
              "      <td>2018-01-31</td>\n",
              "      <td>2018-02-05</td>\n",
              "      <td>2018-03-09</td>\n",
              "      <td>2018-03-01</td>\n",
              "      <td>1.0</td>\n",
              "      <td>84d866290cb98a0253e770a862679579</td>\n",
              "      <td>b2ac621f0d0322434d04a12b078b9369</td>\n",
              "      <td>2018-02-07</td>\n",
              "      <td>399.00</td>\n",
              "      <td>46.64</td>\n",
              "      <td>1.0</td>\n",
              "      <td>credit_card</td>\n",
              "      <td>10.0</td>\n",
              "      <td>445.64</td>\n",
              "      <td>399.00</td>\n",
              "      <td>2018-01</td>\n",
              "      <td>12M</td>\n",
              "    </tr>\n",
              "    <tr>\n",
              "      <th>99375</th>\n",
              "      <td>6f82d9eeede34f94543730ab2db13732</td>\n",
              "      <td>bd51c278b0216610c52631720f4e87cc</td>\n",
              "      <td>delivered</td>\n",
              "      <td>2018-03-30</td>\n",
              "      <td>2018-03-30</td>\n",
              "      <td>2018-04-04</td>\n",
              "      <td>2018-04-25</td>\n",
              "      <td>2018-05-08</td>\n",
              "      <td>1.0</td>\n",
              "      <td>560ed840b584c6aef5c8959366dfd41e</td>\n",
              "      <td>5dceca129747e92ff8ef7a997dc4f8ca</td>\n",
              "      <td>2018-04-19</td>\n",
              "      <td>428.00</td>\n",
              "      <td>22.39</td>\n",
              "      <td>1.0</td>\n",
              "      <td>credit_card</td>\n",
              "      <td>9.0</td>\n",
              "      <td>450.39</td>\n",
              "      <td>428.00</td>\n",
              "      <td>2018-03</td>\n",
              "      <td>12M</td>\n",
              "    </tr>\n",
              "    <tr>\n",
              "      <th>99408</th>\n",
              "      <td>c0ed1e5690afee470f14fca47046cffe</td>\n",
              "      <td>8760984f53eafccf312ae7b0feb57400</td>\n",
              "      <td>delivered</td>\n",
              "      <td>2017-05-22</td>\n",
              "      <td>2017-05-22</td>\n",
              "      <td>2017-05-24</td>\n",
              "      <td>2017-05-31</td>\n",
              "      <td>2017-06-16</td>\n",
              "      <td>1.0</td>\n",
              "      <td>159dc4423e5092c3baa443379a458fa9</td>\n",
              "      <td>5c243662ce92d84573bfaff24c3e3700</td>\n",
              "      <td>2017-05-30</td>\n",
              "      <td>458.00</td>\n",
              "      <td>19.96</td>\n",
              "      <td>1.0</td>\n",
              "      <td>credit_card</td>\n",
              "      <td>5.0</td>\n",
              "      <td>477.96</td>\n",
              "      <td>458.00</td>\n",
              "      <td>2017-05</td>\n",
              "      <td>6M</td>\n",
              "    </tr>\n",
              "    <tr>\n",
              "      <th>99417</th>\n",
              "      <td>567818fc7d9f84b0f5eac47aef90658e</td>\n",
              "      <td>f2a3aa652e2951d22062c8a5e200ec05</td>\n",
              "      <td>delivered</td>\n",
              "      <td>2017-11-25</td>\n",
              "      <td>2017-11-25</td>\n",
              "      <td>2017-11-27</td>\n",
              "      <td>2017-12-26</td>\n",
              "      <td>2017-12-22</td>\n",
              "      <td>1.0</td>\n",
              "      <td>2805706c5fde90cdec740394a68ee707</td>\n",
              "      <td>b33e7c55446eabf8fe1a42d037ac7d6d</td>\n",
              "      <td>2017-11-30</td>\n",
              "      <td>679.00</td>\n",
              "      <td>19.50</td>\n",
              "      <td>1.0</td>\n",
              "      <td>credit_card</td>\n",
              "      <td>7.0</td>\n",
              "      <td>698.50</td>\n",
              "      <td>679.00</td>\n",
              "      <td>2017-11</td>\n",
              "      <td>12M</td>\n",
              "    </tr>\n",
              "  </tbody>\n",
              "</table>\n",
              "<p>4166 rows × 21 columns</p>\n",
              "</div>"
            ],
            "text/plain": [
              "                               order_id  ... PayTerm\n",
              "20     403b97836b0c04a622354cf531062e5f  ...     12M\n",
              "61     641fb0752bf5b5940c376b3a8bb9dc52  ...     12M\n",
              "74     688052146432ef8253587b930b01a06d  ...      3M\n",
              "76     f271576bed568e896f99eb710cd3a6f8  ...      6M\n",
              "115    f169bd689fb8b32ccd62df9050aebc0b  ...     12M\n",
              "...                                 ...  ...     ...\n",
              "99359  7d71b84967ce50629f24530e64ba7938  ...     12M\n",
              "99367  c56e2c015a90b5df2c2564aa5f15be50  ...     12M\n",
              "99375  6f82d9eeede34f94543730ab2db13732  ...     12M\n",
              "99408  c0ed1e5690afee470f14fca47046cffe  ...      6M\n",
              "99417  567818fc7d9f84b0f5eac47aef90658e  ...     12M\n",
              "\n",
              "[4166 rows x 21 columns]"
            ]
          },
          "metadata": {
            "tags": []
          },
          "execution_count": 216
        }
      ]
    },
    {
      "cell_type": "code",
      "metadata": {
        "colab": {
          "base_uri": "https://localhost:8080/"
        },
        "id": "EJ-NYjlk9g16",
        "outputId": "f4176d23-ec66-41ff-d9d3-bf6b5cd64b5b"
      },
      "source": [
        "abnormal['Revenue'].mean()"
      ],
      "execution_count": null,
      "outputs": [
        {
          "output_type": "execute_result",
          "data": {
            "text/plain": [
              "729.1294623139677"
            ]
          },
          "metadata": {
            "tags": []
          },
          "execution_count": 217
        }
      ]
    },
    {
      "cell_type": "code",
      "metadata": {
        "colab": {
          "base_uri": "https://localhost:8080/"
        },
        "id": "UeXdPNhX8U99",
        "outputId": "23ba7cae-c352-4e82-ed8d-48f7f2abea83"
      },
      "source": [
        "installment_data.max()"
      ],
      "execution_count": null,
      "outputs": [
        {
          "output_type": "execute_result",
          "data": {
            "text/plain": [
              "order_id                         fffe18544ffabc95dfada21779c9644f\n",
              "customer_id                      ffffa3172527f765de70084a7e53aae8\n",
              "order_status                                              shipped\n",
              "order_purchase_timestamp                      2018-08-29 00:00:00\n",
              "order_approved_at                             2018-08-29 00:00:00\n",
              "order_delivered_carrier_date                  2018-09-03 00:00:00\n",
              "order_delivered_customer_date                 2018-10-17 00:00:00\n",
              "order_estimated_delivery_date                 2018-10-25 00:00:00\n",
              "order_item_id                                                  15\n",
              "shipping_limit_date                           2018-09-14 00:00:00\n",
              "price                                                        6735\n",
              "freight_value                                              409.68\n",
              "payment_sequential                                              3\n",
              "payment_type                                          credit_card\n",
              "payment_installments                                           24\n",
              "payment_value                                             6929.31\n",
              "Revenue                                                      6735\n",
              "YearMonth                                                 2018-08\n",
              "PayTerm                                                        6M\n",
              "dtype: object"
            ]
          },
          "metadata": {
            "tags": []
          },
          "execution_count": 223
        }
      ]
    },
    {
      "cell_type": "code",
      "metadata": {
        "id": "WYeYDyhU_HAr",
        "colab": {
          "base_uri": "https://localhost:8080/"
        },
        "outputId": "5de5e2c2-9dac-4f1c-add9-5976073e481a"
      },
      "source": [
        "installment_data.min()"
      ],
      "execution_count": null,
      "outputs": [
        {
          "output_type": "execute_result",
          "data": {
            "text/plain": [
              "order_id                         00018f77f2f0320c557190d7a144bdd3\n",
              "customer_id                      00012a2ce6f8dcda20d059ce98491703\n",
              "order_status                                              created\n",
              "order_purchase_timestamp                      2017-01-07 00:00:00\n",
              "order_approved_at                             2017-01-07 00:00:00\n",
              "order_delivered_carrier_date                  2017-01-09 00:00:00\n",
              "order_delivered_customer_date                 2017-01-16 00:00:00\n",
              "order_estimated_delivery_date                 2017-02-07 00:00:00\n",
              "order_item_id                                                   1\n",
              "shipping_limit_date                           2017-01-11 00:00:00\n",
              "price                                                        3.49\n",
              "freight_value                                                   0\n",
              "payment_sequential                                              1\n",
              "payment_type                                          credit_card\n",
              "payment_installments                                            2\n",
              "payment_value                                               20.03\n",
              "Revenue                                                      3.49\n",
              "YearMonth                                                 2017-01\n",
              "PayTerm                                                       12M\n",
              "dtype: object"
            ]
          },
          "metadata": {
            "tags": []
          },
          "execution_count": 224
        }
      ]
    },
    {
      "cell_type": "markdown",
      "metadata": {
        "id": "1kqm4ueP2Qtp"
      },
      "source": [
        "# APPENDIX"
      ]
    },
    {
      "cell_type": "code",
      "metadata": {
        "id": "UQaHPzriHM3X"
      },
      "source": [
        "#2a - Phương thức thanh toán nào có số lần order nhiều nhất? categoried by new order (sequential = 1) và return oder (sequential != 1)\n",
        "#2b - Phương thức thanh toán nào contribute revenue nhiều nhất?\n",
        "order_payments['avg_value'] = order_payments['payment_value'] / order_payments['payment_sequential']\n",
        "order_payments\n",
        "\n",
        "plot_data = order_payments.groupby('payment_type')[['payment_sequential', 'avg_value']].agg({'payment_sequential':'sum', \n",
        "                                                                                      'avg_value':'mean'}).reset_index() \n",
        "plt.figure(figsize=(8, 10))\n",
        "sns.barplot(data=plot_data,\n",
        "              x='payment_type',\n",
        "              y='avg_value')\n",
        "plt.twinx()\n",
        "sns.lineplot(data=plot_data,\n",
        "             x='payment_type',\n",
        "             y='payment_sequential')\n",
        "plt.show()"
      ],
      "execution_count": null,
      "outputs": []
    }
  ]
}